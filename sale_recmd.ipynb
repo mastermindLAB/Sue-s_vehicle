{
 "cells": [
  {
   "cell_type": "code",
   "execution_count": 1,
   "metadata": {},
   "outputs": [],
   "source": [
    "import pandas as pd\n",
    "import numpy as np\n",
    "import seaborn as sns\n",
    "import plotly_express as px\n",
    "import plotly.graph_objs as go\n",
    "import matplotlib.pyplot as plt\n",
    "from datetime import datetime\n",
    "%matplotlib inline"
   ]
  },
  {
   "cell_type": "code",
   "execution_count": 2,
   "metadata": {},
   "outputs": [
    {
     "data": {
      "text/html": [
       "<div>\n",
       "<style scoped>\n",
       "    .dataframe tbody tr th:only-of-type {\n",
       "        vertical-align: middle;\n",
       "    }\n",
       "\n",
       "    .dataframe tbody tr th {\n",
       "        vertical-align: top;\n",
       "    }\n",
       "\n",
       "    .dataframe thead th {\n",
       "        text-align: right;\n",
       "    }\n",
       "</style>\n",
       "<table border=\"1\" class=\"dataframe\">\n",
       "  <thead>\n",
       "    <tr style=\"text-align: right;\">\n",
       "      <th></th>\n",
       "      <th>Make</th>\n",
       "      <th>Model</th>\n",
       "      <th>Year</th>\n",
       "      <th>Safety Rating</th>\n",
       "      <th>Price</th>\n",
       "      <th>Kms</th>\n",
       "      <th>Highway Fuel Efficiency (L/100km)</th>\n",
       "      <th>City Fuel Efficiency (L/100km)</th>\n",
       "      <th>Tire Size</th>\n",
       "      <th>Length (mm)</th>\n",
       "      <th>Width (mm)</th>\n",
       "      <th>Height (mm)</th>\n",
       "      <th>Front Legroom (mm)</th>\n",
       "      <th>Rear Legroom (mm)</th>\n",
       "      <th>Wheelbase</th>\n",
       "      <th>Cargo Volume (seats up)</th>\n",
       "      <th>Horsepower</th>\n",
       "      <th>Engine Size</th>\n",
       "    </tr>\n",
       "  </thead>\n",
       "  <tbody>\n",
       "    <tr>\n",
       "      <th>0</th>\n",
       "      <td>Toyota</td>\n",
       "      <td>RAV4 LE</td>\n",
       "      <td>2013</td>\n",
       "      <td>4</td>\n",
       "      <td>$19,998.00</td>\n",
       "      <td>35944</td>\n",
       "      <td>6.4</td>\n",
       "      <td>8.7</td>\n",
       "      <td>P225/65R17</td>\n",
       "      <td>4569</td>\n",
       "      <td>1844</td>\n",
       "      <td>1661</td>\n",
       "      <td>1084</td>\n",
       "      <td>945</td>\n",
       "      <td>2659</td>\n",
       "      <td>1087</td>\n",
       "      <td>176.0</td>\n",
       "      <td>2.5L</td>\n",
       "    </tr>\n",
       "    <tr>\n",
       "      <th>1</th>\n",
       "      <td>Toyota</td>\n",
       "      <td>Matrix</td>\n",
       "      <td>2013</td>\n",
       "      <td>4</td>\n",
       "      <td>$14,995.00</td>\n",
       "      <td>44160</td>\n",
       "      <td>6.4</td>\n",
       "      <td>8.2</td>\n",
       "      <td>205/55HR16</td>\n",
       "      <td>4366</td>\n",
       "      <td>1765</td>\n",
       "      <td>1549</td>\n",
       "      <td>1057</td>\n",
       "      <td>919</td>\n",
       "      <td>2601</td>\n",
       "      <td>561</td>\n",
       "      <td>132.0</td>\n",
       "      <td>1.8L</td>\n",
       "    </tr>\n",
       "    <tr>\n",
       "      <th>2</th>\n",
       "      <td>Nissan</td>\n",
       "      <td>Rogue</td>\n",
       "      <td>2013</td>\n",
       "      <td>4</td>\n",
       "      <td>$16,000.00</td>\n",
       "      <td>40000</td>\n",
       "      <td>7.0</td>\n",
       "      <td>9.0</td>\n",
       "      <td>P215/70R16</td>\n",
       "      <td>4655</td>\n",
       "      <td>1800</td>\n",
       "      <td>1684</td>\n",
       "      <td>1080</td>\n",
       "      <td>897</td>\n",
       "      <td>2690</td>\n",
       "      <td>818</td>\n",
       "      <td>170.0</td>\n",
       "      <td>2.5L</td>\n",
       "    </tr>\n",
       "    <tr>\n",
       "      <th>3</th>\n",
       "      <td>Ford</td>\n",
       "      <td>Edge SEL</td>\n",
       "      <td>2013</td>\n",
       "      <td>4</td>\n",
       "      <td>$19,995.00</td>\n",
       "      <td>57891</td>\n",
       "      <td>6.6</td>\n",
       "      <td>9.9</td>\n",
       "      <td>245/60HR18</td>\n",
       "      <td>4678</td>\n",
       "      <td>1930</td>\n",
       "      <td>1702</td>\n",
       "      <td>1016</td>\n",
       "      <td>1006</td>\n",
       "      <td>2824</td>\n",
       "      <td>912</td>\n",
       "      <td>NaN</td>\n",
       "      <td>3.5L</td>\n",
       "    </tr>\n",
       "    <tr>\n",
       "      <th>4</th>\n",
       "      <td>Kia</td>\n",
       "      <td>Rondo</td>\n",
       "      <td>2014</td>\n",
       "      <td>5</td>\n",
       "      <td>$12,884.00</td>\n",
       "      <td>45536</td>\n",
       "      <td>6.2</td>\n",
       "      <td>9.2</td>\n",
       "      <td>P205/55HR16</td>\n",
       "      <td>4525</td>\n",
       "      <td>1805</td>\n",
       "      <td>1610</td>\n",
       "      <td>1034</td>\n",
       "      <td>940</td>\n",
       "      <td>2750</td>\n",
       "      <td>912</td>\n",
       "      <td>164.0</td>\n",
       "      <td>2.0L</td>\n",
       "    </tr>\n",
       "  </tbody>\n",
       "</table>\n",
       "</div>"
      ],
      "text/plain": [
       "     Make     Model  Year  Safety Rating        Price    Kms  \\\n",
       "0  Toyota   RAV4 LE  2013              4  $19,998.00   35944   \n",
       "1  Toyota    Matrix  2013              4  $14,995.00   44160   \n",
       "2  Nissan     Rogue  2013              4  $16,000.00   40000   \n",
       "3    Ford  Edge SEL  2013              4  $19,995.00   57891   \n",
       "4     Kia     Rondo  2014              5  $12,884.00   45536   \n",
       "\n",
       "   Highway Fuel Efficiency (L/100km)  City Fuel Efficiency (L/100km)  \\\n",
       "0                                6.4                             8.7   \n",
       "1                                6.4                             8.2   \n",
       "2                                7.0                             9.0   \n",
       "3                                6.6                             9.9   \n",
       "4                                6.2                             9.2   \n",
       "\n",
       "     Tire Size  Length (mm)  Width (mm)  Height (mm)  Front Legroom (mm)  \\\n",
       "0   P225/65R17         4569        1844         1661                1084   \n",
       "1   205/55HR16         4366        1765         1549                1057   \n",
       "2   P215/70R16         4655        1800         1684                1080   \n",
       "3   245/60HR18         4678        1930         1702                1016   \n",
       "4  P205/55HR16         4525        1805         1610                1034   \n",
       "\n",
       "   Rear Legroom (mm)  Wheelbase  Cargo Volume (seats up)  Horsepower  \\\n",
       "0                945       2659                     1087       176.0   \n",
       "1                919       2601                      561       132.0   \n",
       "2                897       2690                      818       170.0   \n",
       "3               1006       2824                      912         NaN   \n",
       "4                940       2750                      912       164.0   \n",
       "\n",
       "  Engine Size  \n",
       "0        2.5L  \n",
       "1        1.8L  \n",
       "2        2.5L  \n",
       "3        3.5L  \n",
       "4        2.0L  "
      ]
     },
     "execution_count": 2,
     "metadata": {},
     "output_type": "execute_result"
    }
   ],
   "source": [
    "car_data = pd.read_csv('test_data.csv')\n",
    "car_data.head()"
   ]
  },
  {
   "cell_type": "code",
   "execution_count": null,
   "metadata": {},
   "outputs": [
    {
     "name": "stdout",
     "output_type": "stream",
     "text": [
      "<class 'pandas.core.frame.DataFrame'>\n",
      "RangeIndex: 10 entries, 0 to 9\n",
      "Data columns (total 18 columns):\n",
      "Make                                 10 non-null object\n",
      "Model                                10 non-null object\n",
      "Year                                 10 non-null int64\n",
      "Safety Rating                        10 non-null int64\n",
      "Price                                10 non-null object\n",
      "Kms                                  10 non-null int64\n",
      "Highway Fuel Efficiency (L/100km)    10 non-null float64\n",
      "City Fuel Efficiency (L/100km)       10 non-null float64\n",
      "Tire Size                            10 non-null object\n",
      "Length (mm)                          10 non-null int64\n",
      "Width (mm)                           10 non-null int64\n",
      "Height (mm)                          10 non-null int64\n",
      "Front Legroom (mm)                   10 non-null int64\n",
      "Rear Legroom (mm)                    10 non-null int64\n",
      "Wheelbase                            10 non-null int64\n",
      "Cargo Volume (seats up)              10 non-null int64\n",
      "Horsepower                           9 non-null float64\n",
      "Engine Size                          10 non-null object\n",
      "dtypes: float64(3), int64(10), object(5)\n",
      "memory usage: 1.2+ KB\n"
     ]
    }
   ],
   "source": [
    "car_data.info()"
   ]
  },
  {
   "cell_type": "markdown",
   "metadata": {},
   "source": [
    "_We have ten rows for each every column except <span style=\"color:red\"> Horsepower </span>._"
   ]
  },
  {
   "cell_type": "code",
   "execution_count": null,
   "metadata": {},
   "outputs": [
    {
     "data": {
      "text/html": [
       "<div>\n",
       "<style scoped>\n",
       "    .dataframe tbody tr th:only-of-type {\n",
       "        vertical-align: middle;\n",
       "    }\n",
       "\n",
       "    .dataframe tbody tr th {\n",
       "        vertical-align: top;\n",
       "    }\n",
       "\n",
       "    .dataframe thead th {\n",
       "        text-align: right;\n",
       "    }\n",
       "</style>\n",
       "<table border=\"1\" class=\"dataframe\">\n",
       "  <thead>\n",
       "    <tr style=\"text-align: right;\">\n",
       "      <th></th>\n",
       "      <th>Year</th>\n",
       "      <th>Safety Rating</th>\n",
       "      <th>Kms</th>\n",
       "      <th>Highway Fuel Efficiency (L/100km)</th>\n",
       "      <th>City Fuel Efficiency (L/100km)</th>\n",
       "      <th>Length (mm)</th>\n",
       "      <th>Width (mm)</th>\n",
       "      <th>Height (mm)</th>\n",
       "      <th>Front Legroom (mm)</th>\n",
       "      <th>Rear Legroom (mm)</th>\n",
       "      <th>Wheelbase</th>\n",
       "      <th>Cargo Volume (seats up)</th>\n",
       "      <th>Horsepower</th>\n",
       "    </tr>\n",
       "  </thead>\n",
       "  <tbody>\n",
       "    <tr>\n",
       "      <th>Year</th>\n",
       "      <td>1.000000</td>\n",
       "      <td>0.250000</td>\n",
       "      <td>-0.303943</td>\n",
       "      <td>0.474046</td>\n",
       "      <td>0.523523</td>\n",
       "      <td>-0.658033</td>\n",
       "      <td>0.038916</td>\n",
       "      <td>-0.121015</td>\n",
       "      <td>-0.243375</td>\n",
       "      <td>0.208980</td>\n",
       "      <td>-0.293520</td>\n",
       "      <td>-0.448564</td>\n",
       "      <td>0.264695</td>\n",
       "    </tr>\n",
       "    <tr>\n",
       "      <th>Safety Rating</th>\n",
       "      <td>0.250000</td>\n",
       "      <td>1.000000</td>\n",
       "      <td>-0.186127</td>\n",
       "      <td>-0.270883</td>\n",
       "      <td>-0.247129</td>\n",
       "      <td>-0.319998</td>\n",
       "      <td>-0.354821</td>\n",
       "      <td>-0.567043</td>\n",
       "      <td>0.124902</td>\n",
       "      <td>-0.208469</td>\n",
       "      <td>-0.263424</td>\n",
       "      <td>-0.189129</td>\n",
       "      <td>0.093952</td>\n",
       "    </tr>\n",
       "    <tr>\n",
       "      <th>Kms</th>\n",
       "      <td>-0.303943</td>\n",
       "      <td>-0.186127</td>\n",
       "      <td>1.000000</td>\n",
       "      <td>-0.563098</td>\n",
       "      <td>-0.424716</td>\n",
       "      <td>0.561637</td>\n",
       "      <td>0.348167</td>\n",
       "      <td>0.226200</td>\n",
       "      <td>-0.233021</td>\n",
       "      <td>0.181091</td>\n",
       "      <td>0.620675</td>\n",
       "      <td>0.243820</td>\n",
       "      <td>-0.434273</td>\n",
       "    </tr>\n",
       "    <tr>\n",
       "      <th>Highway Fuel Efficiency (L/100km)</th>\n",
       "      <td>0.474046</td>\n",
       "      <td>-0.270883</td>\n",
       "      <td>-0.563098</td>\n",
       "      <td>1.000000</td>\n",
       "      <td>0.824617</td>\n",
       "      <td>-0.497653</td>\n",
       "      <td>0.137887</td>\n",
       "      <td>0.467108</td>\n",
       "      <td>-0.513389</td>\n",
       "      <td>0.541707</td>\n",
       "      <td>-0.236218</td>\n",
       "      <td>0.007821</td>\n",
       "      <td>0.423575</td>\n",
       "    </tr>\n",
       "    <tr>\n",
       "      <th>City Fuel Efficiency (L/100km)</th>\n",
       "      <td>0.523523</td>\n",
       "      <td>-0.247129</td>\n",
       "      <td>-0.424716</td>\n",
       "      <td>0.824617</td>\n",
       "      <td>1.000000</td>\n",
       "      <td>-0.253595</td>\n",
       "      <td>0.450283</td>\n",
       "      <td>0.392155</td>\n",
       "      <td>-0.523686</td>\n",
       "      <td>0.443518</td>\n",
       "      <td>0.026268</td>\n",
       "      <td>-0.031167</td>\n",
       "      <td>0.654979</td>\n",
       "    </tr>\n",
       "    <tr>\n",
       "      <th>Length (mm)</th>\n",
       "      <td>-0.658033</td>\n",
       "      <td>-0.319998</td>\n",
       "      <td>0.561637</td>\n",
       "      <td>-0.497653</td>\n",
       "      <td>-0.253595</td>\n",
       "      <td>1.000000</td>\n",
       "      <td>0.426343</td>\n",
       "      <td>0.359413</td>\n",
       "      <td>0.173165</td>\n",
       "      <td>-0.184312</td>\n",
       "      <td>0.746058</td>\n",
       "      <td>0.484258</td>\n",
       "      <td>0.114652</td>\n",
       "    </tr>\n",
       "    <tr>\n",
       "      <th>Width (mm)</th>\n",
       "      <td>0.038916</td>\n",
       "      <td>-0.354821</td>\n",
       "      <td>0.348167</td>\n",
       "      <td>0.137887</td>\n",
       "      <td>0.450283</td>\n",
       "      <td>0.426343</td>\n",
       "      <td>1.000000</td>\n",
       "      <td>0.518875</td>\n",
       "      <td>-0.404411</td>\n",
       "      <td>0.483453</td>\n",
       "      <td>0.647530</td>\n",
       "      <td>0.285327</td>\n",
       "      <td>0.701390</td>\n",
       "    </tr>\n",
       "    <tr>\n",
       "      <th>Height (mm)</th>\n",
       "      <td>-0.121015</td>\n",
       "      <td>-0.567043</td>\n",
       "      <td>0.226200</td>\n",
       "      <td>0.467108</td>\n",
       "      <td>0.392155</td>\n",
       "      <td>0.359413</td>\n",
       "      <td>0.518875</td>\n",
       "      <td>1.000000</td>\n",
       "      <td>-0.559181</td>\n",
       "      <td>0.716785</td>\n",
       "      <td>0.448276</td>\n",
       "      <td>0.749182</td>\n",
       "      <td>0.424298</td>\n",
       "    </tr>\n",
       "    <tr>\n",
       "      <th>Front Legroom (mm)</th>\n",
       "      <td>-0.243375</td>\n",
       "      <td>0.124902</td>\n",
       "      <td>-0.233021</td>\n",
       "      <td>-0.513389</td>\n",
       "      <td>-0.523686</td>\n",
       "      <td>0.173165</td>\n",
       "      <td>-0.404411</td>\n",
       "      <td>-0.559181</td>\n",
       "      <td>1.000000</td>\n",
       "      <td>-0.863511</td>\n",
       "      <td>-0.354308</td>\n",
       "      <td>-0.322950</td>\n",
       "      <td>-0.060148</td>\n",
       "    </tr>\n",
       "    <tr>\n",
       "      <th>Rear Legroom (mm)</th>\n",
       "      <td>0.208980</td>\n",
       "      <td>-0.208469</td>\n",
       "      <td>0.181091</td>\n",
       "      <td>0.541707</td>\n",
       "      <td>0.443518</td>\n",
       "      <td>-0.184312</td>\n",
       "      <td>0.483453</td>\n",
       "      <td>0.716785</td>\n",
       "      <td>-0.863511</td>\n",
       "      <td>1.000000</td>\n",
       "      <td>0.189259</td>\n",
       "      <td>0.527174</td>\n",
       "      <td>0.237979</td>\n",
       "    </tr>\n",
       "    <tr>\n",
       "      <th>Wheelbase</th>\n",
       "      <td>-0.293520</td>\n",
       "      <td>-0.263424</td>\n",
       "      <td>0.620675</td>\n",
       "      <td>-0.236218</td>\n",
       "      <td>0.026268</td>\n",
       "      <td>0.746058</td>\n",
       "      <td>0.647530</td>\n",
       "      <td>0.448276</td>\n",
       "      <td>-0.354308</td>\n",
       "      <td>0.189259</td>\n",
       "      <td>1.000000</td>\n",
       "      <td>0.400961</td>\n",
       "      <td>-0.041155</td>\n",
       "    </tr>\n",
       "    <tr>\n",
       "      <th>Cargo Volume (seats up)</th>\n",
       "      <td>-0.448564</td>\n",
       "      <td>-0.189129</td>\n",
       "      <td>0.243820</td>\n",
       "      <td>0.007821</td>\n",
       "      <td>-0.031167</td>\n",
       "      <td>0.484258</td>\n",
       "      <td>0.285327</td>\n",
       "      <td>0.749182</td>\n",
       "      <td>-0.322950</td>\n",
       "      <td>0.527174</td>\n",
       "      <td>0.400961</td>\n",
       "      <td>1.000000</td>\n",
       "      <td>0.350120</td>\n",
       "    </tr>\n",
       "    <tr>\n",
       "      <th>Horsepower</th>\n",
       "      <td>0.264695</td>\n",
       "      <td>0.093952</td>\n",
       "      <td>-0.434273</td>\n",
       "      <td>0.423575</td>\n",
       "      <td>0.654979</td>\n",
       "      <td>0.114652</td>\n",
       "      <td>0.701390</td>\n",
       "      <td>0.424298</td>\n",
       "      <td>-0.060148</td>\n",
       "      <td>0.237979</td>\n",
       "      <td>-0.041155</td>\n",
       "      <td>0.350120</td>\n",
       "      <td>1.000000</td>\n",
       "    </tr>\n",
       "  </tbody>\n",
       "</table>\n",
       "</div>"
      ],
      "text/plain": [
       "                                       Year  Safety Rating       Kms  \\\n",
       "Year                               1.000000       0.250000 -0.303943   \n",
       "Safety Rating                      0.250000       1.000000 -0.186127   \n",
       "Kms                               -0.303943      -0.186127  1.000000   \n",
       "Highway Fuel Efficiency (L/100km)  0.474046      -0.270883 -0.563098   \n",
       "City Fuel Efficiency (L/100km)     0.523523      -0.247129 -0.424716   \n",
       "Length (mm)                       -0.658033      -0.319998  0.561637   \n",
       "Width (mm)                         0.038916      -0.354821  0.348167   \n",
       "Height (mm)                       -0.121015      -0.567043  0.226200   \n",
       "Front Legroom (mm)                -0.243375       0.124902 -0.233021   \n",
       "Rear Legroom (mm)                  0.208980      -0.208469  0.181091   \n",
       "Wheelbase                         -0.293520      -0.263424  0.620675   \n",
       "Cargo Volume (seats up)           -0.448564      -0.189129  0.243820   \n",
       "Horsepower                         0.264695       0.093952 -0.434273   \n",
       "\n",
       "                                   Highway Fuel Efficiency (L/100km)  \\\n",
       "Year                                                        0.474046   \n",
       "Safety Rating                                              -0.270883   \n",
       "Kms                                                        -0.563098   \n",
       "Highway Fuel Efficiency (L/100km)                           1.000000   \n",
       "City Fuel Efficiency (L/100km)                              0.824617   \n",
       "Length (mm)                                                -0.497653   \n",
       "Width (mm)                                                  0.137887   \n",
       "Height (mm)                                                 0.467108   \n",
       "Front Legroom (mm)                                         -0.513389   \n",
       "Rear Legroom (mm)                                           0.541707   \n",
       "Wheelbase                                                  -0.236218   \n",
       "Cargo Volume (seats up)                                     0.007821   \n",
       "Horsepower                                                  0.423575   \n",
       "\n",
       "                                   City Fuel Efficiency (L/100km)  \\\n",
       "Year                                                     0.523523   \n",
       "Safety Rating                                           -0.247129   \n",
       "Kms                                                     -0.424716   \n",
       "Highway Fuel Efficiency (L/100km)                        0.824617   \n",
       "City Fuel Efficiency (L/100km)                           1.000000   \n",
       "Length (mm)                                             -0.253595   \n",
       "Width (mm)                                               0.450283   \n",
       "Height (mm)                                              0.392155   \n",
       "Front Legroom (mm)                                      -0.523686   \n",
       "Rear Legroom (mm)                                        0.443518   \n",
       "Wheelbase                                                0.026268   \n",
       "Cargo Volume (seats up)                                 -0.031167   \n",
       "Horsepower                                               0.654979   \n",
       "\n",
       "                                   Length (mm)  Width (mm)  Height (mm)  \\\n",
       "Year                                 -0.658033    0.038916    -0.121015   \n",
       "Safety Rating                        -0.319998   -0.354821    -0.567043   \n",
       "Kms                                   0.561637    0.348167     0.226200   \n",
       "Highway Fuel Efficiency (L/100km)    -0.497653    0.137887     0.467108   \n",
       "City Fuel Efficiency (L/100km)       -0.253595    0.450283     0.392155   \n",
       "Length (mm)                           1.000000    0.426343     0.359413   \n",
       "Width (mm)                            0.426343    1.000000     0.518875   \n",
       "Height (mm)                           0.359413    0.518875     1.000000   \n",
       "Front Legroom (mm)                    0.173165   -0.404411    -0.559181   \n",
       "Rear Legroom (mm)                    -0.184312    0.483453     0.716785   \n",
       "Wheelbase                             0.746058    0.647530     0.448276   \n",
       "Cargo Volume (seats up)               0.484258    0.285327     0.749182   \n",
       "Horsepower                            0.114652    0.701390     0.424298   \n",
       "\n",
       "                                   Front Legroom (mm)  Rear Legroom (mm)  \\\n",
       "Year                                        -0.243375           0.208980   \n",
       "Safety Rating                                0.124902          -0.208469   \n",
       "Kms                                         -0.233021           0.181091   \n",
       "Highway Fuel Efficiency (L/100km)           -0.513389           0.541707   \n",
       "City Fuel Efficiency (L/100km)              -0.523686           0.443518   \n",
       "Length (mm)                                  0.173165          -0.184312   \n",
       "Width (mm)                                  -0.404411           0.483453   \n",
       "Height (mm)                                 -0.559181           0.716785   \n",
       "Front Legroom (mm)                           1.000000          -0.863511   \n",
       "Rear Legroom (mm)                           -0.863511           1.000000   \n",
       "Wheelbase                                   -0.354308           0.189259   \n",
       "Cargo Volume (seats up)                     -0.322950           0.527174   \n",
       "Horsepower                                  -0.060148           0.237979   \n",
       "\n",
       "                                   Wheelbase  Cargo Volume (seats up)  \\\n",
       "Year                               -0.293520                -0.448564   \n",
       "Safety Rating                      -0.263424                -0.189129   \n",
       "Kms                                 0.620675                 0.243820   \n",
       "Highway Fuel Efficiency (L/100km)  -0.236218                 0.007821   \n",
       "City Fuel Efficiency (L/100km)      0.026268                -0.031167   \n",
       "Length (mm)                         0.746058                 0.484258   \n",
       "Width (mm)                          0.647530                 0.285327   \n",
       "Height (mm)                         0.448276                 0.749182   \n",
       "Front Legroom (mm)                 -0.354308                -0.322950   \n",
       "Rear Legroom (mm)                   0.189259                 0.527174   \n",
       "Wheelbase                           1.000000                 0.400961   \n",
       "Cargo Volume (seats up)             0.400961                 1.000000   \n",
       "Horsepower                         -0.041155                 0.350120   \n",
       "\n",
       "                                   Horsepower  \n",
       "Year                                 0.264695  \n",
       "Safety Rating                        0.093952  \n",
       "Kms                                 -0.434273  \n",
       "Highway Fuel Efficiency (L/100km)    0.423575  \n",
       "City Fuel Efficiency (L/100km)       0.654979  \n",
       "Length (mm)                          0.114652  \n",
       "Width (mm)                           0.701390  \n",
       "Height (mm)                          0.424298  \n",
       "Front Legroom (mm)                  -0.060148  \n",
       "Rear Legroom (mm)                    0.237979  \n",
       "Wheelbase                           -0.041155  \n",
       "Cargo Volume (seats up)              0.350120  \n",
       "Horsepower                           1.000000  "
      ]
     },
     "execution_count": 4,
     "metadata": {},
     "output_type": "execute_result"
    }
   ],
   "source": [
    "car_data.corr()"
   ]
  },
  {
   "cell_type": "markdown",
   "metadata": {},
   "source": [
    "<br><br>\n",
    "![](corr.png)"
   ]
  },
  {
   "cell_type": "markdown",
   "metadata": {},
   "source": [
    "<br>\n",
    "\n",
    "#### Correlation matrix \n",
    "\n",
    "##### I have observed and marked a few cardinalities in colors to determine whereby I am going to represent these data in later sections.\n",
    "\n",
    "* From our problem parameters, it exhibits Sue has three family members and a dog and this will be the family's prime mode of transport, which implies we need more space in the Front, Rear Legroom and Cargo Space should be little bigger than the most average car. \n",
    "\n",
    "* It's quite clear from our dataset's correlation <span style=\"color:#3192F4\"> **Length:-0.184312, Width:-0.404411, Height:-0.55918** </span> is the key factors to define more Legroom in the Front and Rear. Height and width has a relation with Rear Lagroom size (0.483453, 0.716785). \n",
    "* On the other hand, <span style=\"color:#D00362\"> **Cargo Volume (seats up): 0.749182** </span> has a relation with `Length` of the car.\n",
    "* Highway Fuel Efficiency (L/100km) and city Fuel Efficiency (L/100km)  <span style=\"color:#FCF812\"> **Fuel Efficiency: 0.824617** </span> is correlated.\n",
    "\n",
    "* Wheelbase is mostly dependent on Length and sequentialy, for Width and Height i.e., <span style=\"color:green\"> **Wheelbase length relation: 0.740658** </span>. However, more the wheelbase the kilometer's units also gets effected. <span style=\"color:#5A0FA0\"> **Kms: 0.620675** </span> \n",
    "\n",
    "* Lastly, Horsepower depands on the car width, it's logical that engine needs more power to drive a bigger body/structure of a car\n",
    "<span style=\"color:#D82D0F\"> **Horsepower: 0.701390** </span>.\n"
   ]
  },
  {
   "cell_type": "code",
   "execution_count": 22,
   "metadata": {},
   "outputs": [],
   "source": [
    "car_data.replace('', np.nan, inplace=True)"
   ]
  },
  {
   "cell_type": "code",
   "execution_count": 23,
   "metadata": {},
   "outputs": [
    {
     "data": {
      "text/html": [
       "<div>\n",
       "<style scoped>\n",
       "    .dataframe tbody tr th:only-of-type {\n",
       "        vertical-align: middle;\n",
       "    }\n",
       "\n",
       "    .dataframe tbody tr th {\n",
       "        vertical-align: top;\n",
       "    }\n",
       "\n",
       "    .dataframe thead th {\n",
       "        text-align: right;\n",
       "    }\n",
       "</style>\n",
       "<table border=\"1\" class=\"dataframe\">\n",
       "  <thead>\n",
       "    <tr style=\"text-align: right;\">\n",
       "      <th></th>\n",
       "      <th>Make</th>\n",
       "      <th>Model</th>\n",
       "      <th>Year</th>\n",
       "      <th>Safety Rating</th>\n",
       "      <th>Price</th>\n",
       "      <th>Kms</th>\n",
       "      <th>Highway Fuel Efficiency (L/100km)</th>\n",
       "      <th>City Fuel Efficiency (L/100km)</th>\n",
       "      <th>Tire Size</th>\n",
       "      <th>Length (mm)</th>\n",
       "      <th>...</th>\n",
       "      <th>Horsepower</th>\n",
       "      <th>Engine Size</th>\n",
       "      <th>Market Price</th>\n",
       "      <th>Engine Size NM</th>\n",
       "      <th>Year Drove</th>\n",
       "      <th>Drove/Annual</th>\n",
       "      <th>Tire diameter</th>\n",
       "      <th>HWY FE</th>\n",
       "      <th>City FE</th>\n",
       "      <th>Cargo</th>\n",
       "    </tr>\n",
       "  </thead>\n",
       "  <tbody>\n",
       "    <tr>\n",
       "      <th>0</th>\n",
       "      <td>Toyota</td>\n",
       "      <td>RAV4 LE</td>\n",
       "      <td>2013</td>\n",
       "      <td>4</td>\n",
       "      <td>$19,998.00</td>\n",
       "      <td>35944</td>\n",
       "      <td>6.4</td>\n",
       "      <td>8.7</td>\n",
       "      <td>P225/65R17</td>\n",
       "      <td>4569</td>\n",
       "      <td>...</td>\n",
       "      <td>176.0</td>\n",
       "      <td>2.5L</td>\n",
       "      <td>19998.0</td>\n",
       "      <td>2.5</td>\n",
       "      <td>6</td>\n",
       "      <td>5990.67</td>\n",
       "      <td>17</td>\n",
       "      <td>6.4</td>\n",
       "      <td>8.7</td>\n",
       "      <td>1087</td>\n",
       "    </tr>\n",
       "    <tr>\n",
       "      <th>1</th>\n",
       "      <td>Toyota</td>\n",
       "      <td>Matrix</td>\n",
       "      <td>2013</td>\n",
       "      <td>4</td>\n",
       "      <td>$14,995.00</td>\n",
       "      <td>44160</td>\n",
       "      <td>6.4</td>\n",
       "      <td>8.2</td>\n",
       "      <td>205/55HR16</td>\n",
       "      <td>4366</td>\n",
       "      <td>...</td>\n",
       "      <td>132.0</td>\n",
       "      <td>1.8L</td>\n",
       "      <td>14995.0</td>\n",
       "      <td>1.8</td>\n",
       "      <td>6</td>\n",
       "      <td>7360.00</td>\n",
       "      <td>16</td>\n",
       "      <td>6.4</td>\n",
       "      <td>8.2</td>\n",
       "      <td>561</td>\n",
       "    </tr>\n",
       "    <tr>\n",
       "      <th>2</th>\n",
       "      <td>Nissan</td>\n",
       "      <td>Rogue</td>\n",
       "      <td>2013</td>\n",
       "      <td>4</td>\n",
       "      <td>$16,000.00</td>\n",
       "      <td>40000</td>\n",
       "      <td>7.0</td>\n",
       "      <td>9.0</td>\n",
       "      <td>P215/70R16</td>\n",
       "      <td>4655</td>\n",
       "      <td>...</td>\n",
       "      <td>170.0</td>\n",
       "      <td>2.5L</td>\n",
       "      <td>16000.0</td>\n",
       "      <td>2.5</td>\n",
       "      <td>6</td>\n",
       "      <td>6666.67</td>\n",
       "      <td>16</td>\n",
       "      <td>7.0</td>\n",
       "      <td>9.0</td>\n",
       "      <td>818</td>\n",
       "    </tr>\n",
       "    <tr>\n",
       "      <th>3</th>\n",
       "      <td>Ford</td>\n",
       "      <td>Edge SEL</td>\n",
       "      <td>2013</td>\n",
       "      <td>4</td>\n",
       "      <td>$19,995.00</td>\n",
       "      <td>57891</td>\n",
       "      <td>6.6</td>\n",
       "      <td>9.9</td>\n",
       "      <td>245/60HR18</td>\n",
       "      <td>4678</td>\n",
       "      <td>...</td>\n",
       "      <td>NaN</td>\n",
       "      <td>3.5L</td>\n",
       "      <td>19995.0</td>\n",
       "      <td>3.5</td>\n",
       "      <td>6</td>\n",
       "      <td>9648.50</td>\n",
       "      <td>18</td>\n",
       "      <td>6.6</td>\n",
       "      <td>9.9</td>\n",
       "      <td>912</td>\n",
       "    </tr>\n",
       "    <tr>\n",
       "      <th>4</th>\n",
       "      <td>Kia</td>\n",
       "      <td>Rondo</td>\n",
       "      <td>2014</td>\n",
       "      <td>5</td>\n",
       "      <td>$12,884.00</td>\n",
       "      <td>45536</td>\n",
       "      <td>6.2</td>\n",
       "      <td>9.2</td>\n",
       "      <td>P205/55HR16</td>\n",
       "      <td>4525</td>\n",
       "      <td>...</td>\n",
       "      <td>164.0</td>\n",
       "      <td>2.0L</td>\n",
       "      <td>12884.0</td>\n",
       "      <td>2.0</td>\n",
       "      <td>5</td>\n",
       "      <td>9107.20</td>\n",
       "      <td>16</td>\n",
       "      <td>6.2</td>\n",
       "      <td>9.2</td>\n",
       "      <td>912</td>\n",
       "    </tr>\n",
       "    <tr>\n",
       "      <th>5</th>\n",
       "      <td>Mazda</td>\n",
       "      <td>CX-5</td>\n",
       "      <td>2014</td>\n",
       "      <td>4</td>\n",
       "      <td>$18,900.00</td>\n",
       "      <td>64546</td>\n",
       "      <td>6.1</td>\n",
       "      <td>7.8</td>\n",
       "      <td>P225/65R17</td>\n",
       "      <td>4554</td>\n",
       "      <td>...</td>\n",
       "      <td>155.0</td>\n",
       "      <td>2.0L</td>\n",
       "      <td>18900.0</td>\n",
       "      <td>2.0</td>\n",
       "      <td>5</td>\n",
       "      <td>12909.20</td>\n",
       "      <td>17</td>\n",
       "      <td>6.1</td>\n",
       "      <td>7.8</td>\n",
       "      <td>966</td>\n",
       "    </tr>\n",
       "    <tr>\n",
       "      <th>6</th>\n",
       "      <td>Honda</td>\n",
       "      <td>CRV</td>\n",
       "      <td>2013</td>\n",
       "      <td>5</td>\n",
       "      <td>$19,995.00</td>\n",
       "      <td>44665</td>\n",
       "      <td>6.4</td>\n",
       "      <td>9.0</td>\n",
       "      <td>225/65R17</td>\n",
       "      <td>4529</td>\n",
       "      <td>...</td>\n",
       "      <td>185.0</td>\n",
       "      <td>2.4L</td>\n",
       "      <td>19995.0</td>\n",
       "      <td>2.4</td>\n",
       "      <td>6</td>\n",
       "      <td>7444.17</td>\n",
       "      <td>17</td>\n",
       "      <td>6.4</td>\n",
       "      <td>9.0</td>\n",
       "      <td>1053</td>\n",
       "    </tr>\n",
       "    <tr>\n",
       "      <th>7</th>\n",
       "      <td>Kia</td>\n",
       "      <td>Soul EX</td>\n",
       "      <td>2015</td>\n",
       "      <td>5</td>\n",
       "      <td>$15,995.00</td>\n",
       "      <td>30900</td>\n",
       "      <td>7.8</td>\n",
       "      <td>9.8</td>\n",
       "      <td>215/55R17</td>\n",
       "      <td>4140</td>\n",
       "      <td>...</td>\n",
       "      <td>164.0</td>\n",
       "      <td>2.0L</td>\n",
       "      <td>15995.0</td>\n",
       "      <td>2.0</td>\n",
       "      <td>4</td>\n",
       "      <td>7725.00</td>\n",
       "      <td>17</td>\n",
       "      <td>7.8</td>\n",
       "      <td>9.8</td>\n",
       "      <td>614</td>\n",
       "    </tr>\n",
       "    <tr>\n",
       "      <th>8</th>\n",
       "      <td>Toyota</td>\n",
       "      <td>Prius</td>\n",
       "      <td>2012</td>\n",
       "      <td>5</td>\n",
       "      <td>$18,000.00</td>\n",
       "      <td>56065</td>\n",
       "      <td>4.8</td>\n",
       "      <td>4.3</td>\n",
       "      <td>P195/65R15</td>\n",
       "      <td>4615</td>\n",
       "      <td>...</td>\n",
       "      <td>134.0</td>\n",
       "      <td>1.8L</td>\n",
       "      <td>18000.0</td>\n",
       "      <td>1.8</td>\n",
       "      <td>7</td>\n",
       "      <td>8009.29</td>\n",
       "      <td>15</td>\n",
       "      <td>4.8</td>\n",
       "      <td>4.3</td>\n",
       "      <td>971</td>\n",
       "    </tr>\n",
       "    <tr>\n",
       "      <th>9</th>\n",
       "      <td>Ford</td>\n",
       "      <td>Focus</td>\n",
       "      <td>2014</td>\n",
       "      <td>5</td>\n",
       "      <td>$11,999.00</td>\n",
       "      <td>47197</td>\n",
       "      <td>5.1</td>\n",
       "      <td>7.5</td>\n",
       "      <td>215/55R16</td>\n",
       "      <td>4534</td>\n",
       "      <td>...</td>\n",
       "      <td>160.0</td>\n",
       "      <td>2.0L</td>\n",
       "      <td>11999.0</td>\n",
       "      <td>2.0</td>\n",
       "      <td>5</td>\n",
       "      <td>9439.40</td>\n",
       "      <td>16</td>\n",
       "      <td>5.1</td>\n",
       "      <td>7.5</td>\n",
       "      <td>373</td>\n",
       "    </tr>\n",
       "  </tbody>\n",
       "</table>\n",
       "<p>10 rows × 26 columns</p>\n",
       "</div>"
      ],
      "text/plain": [
       "     Make     Model  Year  Safety Rating        Price    Kms  \\\n",
       "0  Toyota   RAV4 LE  2013              4  $19,998.00   35944   \n",
       "1  Toyota    Matrix  2013              4  $14,995.00   44160   \n",
       "2  Nissan     Rogue  2013              4  $16,000.00   40000   \n",
       "3    Ford  Edge SEL  2013              4  $19,995.00   57891   \n",
       "4     Kia     Rondo  2014              5  $12,884.00   45536   \n",
       "5   Mazda      CX-5  2014              4  $18,900.00   64546   \n",
       "6   Honda       CRV  2013              5  $19,995.00   44665   \n",
       "7     Kia   Soul EX  2015              5  $15,995.00   30900   \n",
       "8  Toyota     Prius  2012              5  $18,000.00   56065   \n",
       "9    Ford     Focus  2014              5  $11,999.00   47197   \n",
       "\n",
       "   Highway Fuel Efficiency (L/100km)  City Fuel Efficiency (L/100km)  \\\n",
       "0                                6.4                             8.7   \n",
       "1                                6.4                             8.2   \n",
       "2                                7.0                             9.0   \n",
       "3                                6.6                             9.9   \n",
       "4                                6.2                             9.2   \n",
       "5                                6.1                             7.8   \n",
       "6                                6.4                             9.0   \n",
       "7                                7.8                             9.8   \n",
       "8                                4.8                             4.3   \n",
       "9                                5.1                             7.5   \n",
       "\n",
       "     Tire Size  Length (mm)  ...    Horsepower  Engine Size  Market Price  \\\n",
       "0   P225/65R17         4569  ...         176.0         2.5L       19998.0   \n",
       "1   205/55HR16         4366  ...         132.0         1.8L       14995.0   \n",
       "2   P215/70R16         4655  ...         170.0         2.5L       16000.0   \n",
       "3   245/60HR18         4678  ...           NaN         3.5L       19995.0   \n",
       "4  P205/55HR16         4525  ...         164.0         2.0L       12884.0   \n",
       "5   P225/65R17         4554  ...         155.0         2.0L       18900.0   \n",
       "6    225/65R17         4529  ...         185.0         2.4L       19995.0   \n",
       "7    215/55R17         4140  ...         164.0         2.0L       15995.0   \n",
       "8   P195/65R15         4615  ...         134.0         1.8L       18000.0   \n",
       "9    215/55R16         4534  ...         160.0         2.0L       11999.0   \n",
       "\n",
       "   Engine Size NM  Year Drove  Drove/Annual  Tire diameter HWY FE  City FE  \\\n",
       "0             2.5           6       5990.67             17    6.4      8.7   \n",
       "1             1.8           6       7360.00             16    6.4      8.2   \n",
       "2             2.5           6       6666.67             16    7.0      9.0   \n",
       "3             3.5           6       9648.50             18    6.6      9.9   \n",
       "4             2.0           5       9107.20             16    6.2      9.2   \n",
       "5             2.0           5      12909.20             17    6.1      7.8   \n",
       "6             2.4           6       7444.17             17    6.4      9.0   \n",
       "7             2.0           4       7725.00             17    7.8      9.8   \n",
       "8             1.8           7       8009.29             15    4.8      4.3   \n",
       "9             2.0           5       9439.40             16    5.1      7.5   \n",
       "\n",
       "   Cargo  \n",
       "0   1087  \n",
       "1    561  \n",
       "2    818  \n",
       "3    912  \n",
       "4    912  \n",
       "5    966  \n",
       "6   1053  \n",
       "7    614  \n",
       "8    971  \n",
       "9    373  \n",
       "\n",
       "[10 rows x 26 columns]"
      ]
     },
     "execution_count": 23,
     "metadata": {},
     "output_type": "execute_result"
    }
   ],
   "source": [
    "car_data.head(10)"
   ]
  },
  {
   "cell_type": "markdown",
   "metadata": {},
   "source": [
    "_Looks like for <span style=\"color: red\">Ford Edge SEL</span> the Horsepower is not mentioned._"
   ]
  },
  {
   "cell_type": "markdown",
   "metadata": {},
   "source": [
    "### Safety Rating:\n",
    "\n",
    "On Sue's consideration she prioritizes the vehicle which has more safety feature. This is her **utmost priority**. \n",
    "\n",
    "Based on the Sue list I have visualized ten available cars based on their `Safety Rating`. From the below diagram its shows she had selected two cars from Toyota: `Matrix` , `RAV4 LE` , Nissan: `Rogue`, Ford: `Edge SEL` and Mazda: `CX-5` all have safety rating `4`. \n",
    "\n",
    "Nevertheless Toyota: `Prius`, Ford: `Focus`, Kia: `Ronda` and `Soul EX`, and finally, Honda: `CRV` got safety rating `5`. I am preferring those car having safety rating 5 first.\n",
    "\n",
    "_Soul EX by Kia interesting in this case and drove least in our listed car._\n",
    "* Next I am going to compare the price of each car."
   ]
  },
  {
   "cell_type": "code",
   "execution_count": 39,
   "metadata": {},
   "outputs": [
    {
     "data": {
      "application/vnd.plotly.v1+json": {
       "config": {
        "linkText": "Export to plot.ly",
        "plotlyServerURL": "https://plot.ly",
        "showLink": false
       },
       "data": [
        {
         "hovertemplate": "Make=%{x}<br>Model=%{y}<br>Kms=%{marker.size}<br>Safety Rating=%{marker.color}<extra></extra>",
         "legendgroup": "",
         "marker": {
          "cmax": 5,
          "cmin": 4,
          "color": [
           4,
           4,
           4,
           4,
           5,
           4,
           5,
           5,
           5,
           5
          ],
          "colorbar": {
           "title": {
            "text": "Safety Rating"
           }
          },
          "colorscale": [
           [
            0,
            "#0508b8"
           ],
           [
            0.08333333333333333,
            "#1910d8"
           ],
           [
            0.16666666666666666,
            "#3c19f0"
           ],
           [
            0.25,
            "#6b1cfb"
           ],
           [
            0.3333333333333333,
            "#981cfd"
           ],
           [
            0.4166666666666667,
            "#bf1cfd"
           ],
           [
            0.5,
            "#dd2bfd"
           ],
           [
            0.5833333333333334,
            "#f246fe"
           ],
           [
            0.6666666666666666,
            "#fc67fd"
           ],
           [
            0.75,
            "#fe88fc"
           ],
           [
            0.8333333333333334,
            "#fea5fd"
           ],
           [
            0.9166666666666666,
            "#febefe"
           ],
           [
            1,
            "#fec3fe"
           ]
          ],
          "showscale": true,
          "size": [
           35944,
           44160,
           40000,
           57891,
           45536,
           64546,
           44665,
           30900,
           56065,
           47197
          ],
          "sizemode": "area",
          "sizeref": 161.365,
          "symbol": "circle"
         },
         "mode": "markers",
         "name": " ",
         "showlegend": false,
         "type": "scatter",
         "uid": "fb5a6285-54a7-4231-a1a1-d0675d67b5a5",
         "x": [
          "Toyota",
          "Toyota",
          "Nissan",
          "Ford",
          "Kia",
          "Mazda",
          "Honda",
          "Kia",
          "Toyota",
          "Ford"
         ],
         "xaxis": "x",
         "y": [
          "RAV4 LE",
          "Matrix",
          "Rogue",
          "Edge SEL",
          "Rondo",
          "CX-5",
          "CRV",
          "Soul EX",
          "Prius",
          "Focus"
         ],
         "yaxis": "y"
        }
       ],
       "layout": {
        "annotations": [
         {
          "text": "This is outstanding [Safety Rating:5] [Kilometers:30,900]",
          "x": 3,
          "y": 7.2
         }
        ],
        "autosize": true,
        "grid": {
         "xaxes": [
          "x"
         ],
         "xgap": 0.1,
         "xside": "bottom",
         "yaxes": [
          "y"
         ],
         "ygap": 0.1,
         "yside": "left"
        },
        "legend": {
         "orientation": "h",
         "tracegroupgap": 0,
         "x": 0.5,
         "y": 1.1
        },
        "margin": {
         "t": 60
        },
        "template": {
         "data": {
          "bar": [
           {
            "marker": {
             "line": {
              "color": "#E5ECF6",
              "width": 0.5
             }
            },
            "type": "bar"
           }
          ],
          "barpolar": [
           {
            "marker": {
             "line": {
              "color": "#E5ECF6",
              "width": 0.5
             }
            },
            "type": "barpolar"
           }
          ],
          "carpet": [
           {
            "aaxis": {
             "endlinecolor": "#2a3f5f",
             "gridcolor": "white",
             "linecolor": "white",
             "minorgridcolor": "white",
             "startlinecolor": "#2a3f5f"
            },
            "baxis": {
             "endlinecolor": "#2a3f5f",
             "gridcolor": "white",
             "linecolor": "white",
             "minorgridcolor": "white",
             "startlinecolor": "#2a3f5f"
            },
            "type": "carpet"
           }
          ],
          "choropleth": [
           {
            "colorbar": {
             "outlinewidth": 0,
             "ticks": ""
            },
            "type": "choropleth"
           }
          ],
          "contour": [
           {
            "autocolorscale": true,
            "colorbar": {
             "outlinewidth": 0,
             "ticks": ""
            },
            "type": "contour"
           }
          ],
          "contourcarpet": [
           {
            "colorbar": {
             "outlinewidth": 0,
             "ticks": ""
            },
            "type": "contourcarpet"
           }
          ],
          "heatmap": [
           {
            "autocolorscale": true,
            "colorbar": {
             "outlinewidth": 0,
             "ticks": ""
            },
            "type": "heatmap"
           }
          ],
          "heatmapgl": [
           {
            "colorbar": {
             "outlinewidth": 0,
             "ticks": ""
            },
            "type": "heatmapgl"
           }
          ],
          "histogram": [
           {
            "marker": {
             "colorbar": {
              "outlinewidth": 0,
              "ticks": ""
             }
            },
            "type": "histogram"
           }
          ],
          "histogram2d": [
           {
            "autocolorscale": true,
            "colorbar": {
             "outlinewidth": 0,
             "ticks": ""
            },
            "type": "histogram2d"
           }
          ],
          "histogram2dcontour": [
           {
            "autocolorscale": true,
            "colorbar": {
             "outlinewidth": 0,
             "ticks": ""
            },
            "type": "histogram2dcontour"
           }
          ],
          "mesh3d": [
           {
            "colorbar": {
             "outlinewidth": 0,
             "ticks": ""
            },
            "type": "mesh3d"
           }
          ],
          "parcoords": [
           {
            "line": {
             "colorbar": {
              "outlinewidth": 0,
              "ticks": ""
             }
            },
            "type": "parcoords"
           }
          ],
          "scatter": [
           {
            "marker": {
             "colorbar": {
              "outlinewidth": 0,
              "ticks": ""
             }
            },
            "type": "scatter"
           }
          ],
          "scatter3d": [
           {
            "marker": {
             "colorbar": {
              "outlinewidth": 0,
              "ticks": ""
             }
            },
            "type": "scatter3d"
           }
          ],
          "scattercarpet": [
           {
            "marker": {
             "colorbar": {
              "outlinewidth": 0,
              "ticks": ""
             }
            },
            "type": "scattercarpet"
           }
          ],
          "scattergeo": [
           {
            "marker": {
             "colorbar": {
              "outlinewidth": 0,
              "ticks": ""
             }
            },
            "type": "scattergeo"
           }
          ],
          "scattergl": [
           {
            "marker": {
             "colorbar": {
              "outlinewidth": 0,
              "ticks": ""
             }
            },
            "type": "scattergl"
           }
          ],
          "scattermapbox": [
           {
            "marker": {
             "colorbar": {
              "outlinewidth": 0,
              "ticks": ""
             }
            },
            "type": "scattermapbox"
           }
          ],
          "scatterpolar": [
           {
            "marker": {
             "colorbar": {
              "outlinewidth": 0,
              "ticks": ""
             }
            },
            "type": "scatterpolar"
           }
          ],
          "scatterpolargl": [
           {
            "marker": {
             "colorbar": {
              "outlinewidth": 0,
              "ticks": ""
             }
            },
            "type": "scatterpolargl"
           }
          ],
          "scatterternary": [
           {
            "marker": {
             "colorbar": {
              "outlinewidth": 0,
              "ticks": ""
             }
            },
            "type": "scatterternary"
           }
          ],
          "surface": [
           {
            "colorbar": {
             "outlinewidth": 0,
             "ticks": ""
            },
            "type": "surface"
           }
          ],
          "table": [
           {
            "cells": {
             "fill": {
              "color": "#EBF0F8"
             },
             "line": {
              "color": "white"
             }
            },
            "header": {
             "fill": {
              "color": "#C8D4E3"
             },
             "line": {
              "color": "white"
             }
            },
            "type": "table"
           }
          ]
         },
         "layout": {
          "annotationdefaults": {
           "arrowcolor": "#506784",
           "arrowhead": 0,
           "arrowwidth": 1
          },
          "colorscale": {
           "diverging": [
            [
             0,
             "#8e0152"
            ],
            [
             0.1,
             "#c51b7d"
            ],
            [
             0.2,
             "#de77ae"
            ],
            [
             0.3,
             "#f1b6da"
            ],
            [
             0.4,
             "#fde0ef"
            ],
            [
             0.5,
             "#f7f7f7"
            ],
            [
             0.6,
             "#e6f5d0"
            ],
            [
             0.7,
             "#b8e186"
            ],
            [
             0.8,
             "#7fbc41"
            ],
            [
             0.9,
             "#4d9221"
            ],
            [
             1,
             "#276419"
            ]
           ],
           "sequential": [
            [
             0,
             "#0508b8"
            ],
            [
             0.0893854748603352,
             "#1910d8"
            ],
            [
             0.1787709497206704,
             "#3c19f0"
            ],
            [
             0.2681564245810056,
             "#6b1cfb"
            ],
            [
             0.3575418994413408,
             "#981cfd"
            ],
            [
             0.44692737430167595,
             "#bf1cfd"
            ],
            [
             0.5363128491620112,
             "#dd2bfd"
            ],
            [
             0.6256983240223464,
             "#f246fe"
            ],
            [
             0.7150837988826816,
             "#fc67fd"
            ],
            [
             0.8044692737430168,
             "#fe88fc"
            ],
            [
             0.8938547486033519,
             "#fea5fd"
            ],
            [
             0.9832402234636871,
             "#febefe"
            ],
            [
             1,
             "#fec3fe"
            ]
           ],
           "sequentialminus": [
            [
             0,
             "#0508b8"
            ],
            [
             0.0893854748603352,
             "#1910d8"
            ],
            [
             0.1787709497206704,
             "#3c19f0"
            ],
            [
             0.2681564245810056,
             "#6b1cfb"
            ],
            [
             0.3575418994413408,
             "#981cfd"
            ],
            [
             0.44692737430167595,
             "#bf1cfd"
            ],
            [
             0.5363128491620112,
             "#dd2bfd"
            ],
            [
             0.6256983240223464,
             "#f246fe"
            ],
            [
             0.7150837988826816,
             "#fc67fd"
            ],
            [
             0.8044692737430168,
             "#fe88fc"
            ],
            [
             0.8938547486033519,
             "#fea5fd"
            ],
            [
             0.9832402234636871,
             "#febefe"
            ],
            [
             1,
             "#fec3fe"
            ]
           ]
          },
          "colorway": [
           "#636efa",
           "#EF553B",
           "#00cc96",
           "#ab63fa",
           "#19d3f3",
           "#e763fa",
           "#FECB52",
           "#FFA15A",
           "#FF6692",
           "#B6E880"
          ],
          "font": {
           "color": "#2a3f5f"
          },
          "geo": {
           "bgcolor": "white",
           "lakecolor": "white",
           "landcolor": "#E5ECF6",
           "showlakes": true,
           "showland": true,
           "subunitcolor": "white"
          },
          "hovermode": "closest",
          "mapbox": {
           "style": "light"
          },
          "paper_bgcolor": "white",
          "plot_bgcolor": "#E5ECF6",
          "polar": {
           "angularaxis": {
            "gridcolor": "white",
            "linecolor": "white",
            "ticks": ""
           },
           "bgcolor": "#E5ECF6",
           "radialaxis": {
            "gridcolor": "white",
            "linecolor": "white",
            "ticks": ""
           }
          },
          "scene": {
           "xaxis": {
            "backgroundcolor": "#E5ECF6",
            "gridcolor": "white",
            "gridwidth": 2,
            "linecolor": "white",
            "showbackground": true,
            "ticks": "",
            "zerolinecolor": "white"
           },
           "yaxis": {
            "backgroundcolor": "#E5ECF6",
            "gridcolor": "white",
            "gridwidth": 2,
            "linecolor": "white",
            "showbackground": true,
            "ticks": "",
            "zerolinecolor": "white"
           },
           "zaxis": {
            "backgroundcolor": "#E5ECF6",
            "gridcolor": "white",
            "gridwidth": 2,
            "linecolor": "white",
            "showbackground": true,
            "ticks": "",
            "zerolinecolor": "white"
           }
          },
          "shapedefaults": {
           "fillcolor": "#506784",
           "line": {
            "width": 0
           },
           "opacity": 0.4
          },
          "ternary": {
           "aaxis": {
            "gridcolor": "white",
            "linecolor": "white",
            "ticks": ""
           },
           "baxis": {
            "gridcolor": "white",
            "linecolor": "white",
            "ticks": ""
           },
           "bgcolor": "#E5ECF6",
           "caxis": {
            "gridcolor": "white",
            "linecolor": "white",
            "ticks": ""
           }
          },
          "title": {
           "x": 0.05
          },
          "xaxis": {
           "automargin": true,
           "gridcolor": "white",
           "linecolor": "white",
           "ticks": "",
           "zerolinecolor": "white",
           "zerolinewidth": 2
          },
          "yaxis": {
           "automargin": true,
           "gridcolor": "white",
           "linecolor": "white",
           "ticks": "",
           "zerolinecolor": "white",
           "zerolinewidth": 2
          }
         }
        },
        "xaxis": {
         "autorange": true,
         "range": [
          -0.41403225173714087,
          5.400785914901403
         ],
         "title": {
          "text": "Make"
         },
         "type": "category"
        },
        "yaxis": {
         "autorange": true,
         "range": [
          -0.8057823433761004,
          9.8456418831088
         ],
         "title": {
          "text": "Model"
         },
         "type": "category"
        }
       }
      },
      "image/png": "[encoded data removed]",
      "text/html": [
       "<div id=\"244ef7c9-8ea4-487c-b526-b5c38ad68cb9\" style=\"height: 600px; width: 100%;\" class=\"plotly-graph-div\"></div><script type=\"text/javascript\">require([\"plotly\"], function(Plotly) { window.PLOTLYENV=window.PLOTLYENV || {};window.PLOTLYENV.BASE_URL=\"https://plot.ly\";\n",
       "if (document.getElementById(\"244ef7c9-8ea4-487c-b526-b5c38ad68cb9\")) {\n",
       "    Plotly.newPlot(\"244ef7c9-8ea4-487c-b526-b5c38ad68cb9\", [{\"hovertemplate\": \"Make=%{x}<br>Model=%{y}<br>Kms=%{marker.size}<br>Safety Rating=%{marker.color}<extra></extra>\", \"legendgroup\": \"\", \"marker\": {\"cmax\": 5, \"cmin\": 4, \"color\": [4, 4, 4, 4, 5, 4, 5, 5, 5, 5], \"colorbar\": {\"title\": {\"text\": \"Safety Rating\"}}, \"colorscale\": [[0.0, \"#0508b8\"], [0.08333333333333333, \"#1910d8\"], [0.16666666666666666, \"#3c19f0\"], [0.25, \"#6b1cfb\"], [0.3333333333333333, \"#981cfd\"], [0.4166666666666667, \"#bf1cfd\"], [0.5, \"#dd2bfd\"], [0.5833333333333334, \"#f246fe\"], [0.6666666666666666, \"#fc67fd\"], [0.75, \"#fe88fc\"], [0.8333333333333334, \"#fea5fd\"], [0.9166666666666666, \"#febefe\"], [1.0, \"#fec3fe\"]], \"showscale\": true, \"size\": [35944, 44160, 40000, 57891, 45536, 64546, 44665, 30900, 56065, 47197], \"sizemode\": \"area\", \"sizeref\": 161.365, \"symbol\": \"circle\"}, \"mode\": \"markers\", \"name\": \" \", \"showlegend\": false, \"x\": [\"Toyota\", \"Toyota\", \"Nissan\", \"Ford\", \"Kia\", \"Mazda\", \"Honda\", \"Kia\", \"Toyota\", \"Ford\"], \"xaxis\": \"x\", \"y\": [\"RAV4 LE\", \"Matrix\", \"Rogue\", \"Edge SEL\", \"Rondo\", \"CX-5\", \"CRV\", \"Soul EX\", \"Prius\", \"Focus\"], \"yaxis\": \"y\", \"type\": \"scatter\", \"uid\": \"fb5a6285-54a7-4231-a1a1-d0675d67b5a5\"}], {\"height\": 600, \"legend\": {\"tracegroupgap\": 0, \"orientation\": \"h\", \"y\": 1.1, \"x\": 0.5}, \"margin\": {\"t\": 60}, \"template\": {\"data\": {\"barpolar\": [{\"marker\": {\"line\": {\"color\": \"#E5ECF6\", \"width\": 0.5}}, \"type\": \"barpolar\"}], \"bar\": [{\"marker\": {\"line\": {\"color\": \"#E5ECF6\", \"width\": 0.5}}, \"type\": \"bar\"}], \"carpet\": [{\"aaxis\": {\"endlinecolor\": \"#2a3f5f\", \"gridcolor\": \"white\", \"linecolor\": \"white\", \"minorgridcolor\": \"white\", \"startlinecolor\": \"#2a3f5f\"}, \"baxis\": {\"endlinecolor\": \"#2a3f5f\", \"gridcolor\": \"white\", \"linecolor\": \"white\", \"minorgridcolor\": \"white\", \"startlinecolor\": \"#2a3f5f\"}, \"type\": \"carpet\"}], \"choropleth\": [{\"colorbar\": {\"outlinewidth\": 0, \"ticks\": \"\"}, \"type\": \"choropleth\"}], \"contourcarpet\": [{\"colorbar\": {\"outlinewidth\": 0, \"ticks\": \"\"}, \"type\": \"contourcarpet\"}], \"contour\": [{\"autocolorscale\": true, \"colorbar\": {\"outlinewidth\": 0, \"ticks\": \"\"}, \"type\": \"contour\"}], \"heatmapgl\": [{\"colorbar\": {\"outlinewidth\": 0, \"ticks\": \"\"}, \"type\": \"heatmapgl\"}], \"heatmap\": [{\"autocolorscale\": true, \"colorbar\": {\"outlinewidth\": 0, \"ticks\": \"\"}, \"type\": \"heatmap\"}], \"histogram2dcontour\": [{\"autocolorscale\": true, \"colorbar\": {\"outlinewidth\": 0, \"ticks\": \"\"}, \"type\": \"histogram2dcontour\"}], \"histogram2d\": [{\"autocolorscale\": true, \"colorbar\": {\"outlinewidth\": 0, \"ticks\": \"\"}, \"type\": \"histogram2d\"}], \"histogram\": [{\"marker\": {\"colorbar\": {\"outlinewidth\": 0, \"ticks\": \"\"}}, \"type\": \"histogram\"}], \"mesh3d\": [{\"colorbar\": {\"outlinewidth\": 0, \"ticks\": \"\"}, \"type\": \"mesh3d\"}], \"parcoords\": [{\"line\": {\"colorbar\": {\"outlinewidth\": 0, \"ticks\": \"\"}}, \"type\": \"parcoords\"}], \"scatter3d\": [{\"marker\": {\"colorbar\": {\"outlinewidth\": 0, \"ticks\": \"\"}}, \"type\": \"scatter3d\"}], \"scattercarpet\": [{\"marker\": {\"colorbar\": {\"outlinewidth\": 0, \"ticks\": \"\"}}, \"type\": \"scattercarpet\"}], \"scattergeo\": [{\"marker\": {\"colorbar\": {\"outlinewidth\": 0, \"ticks\": \"\"}}, \"type\": \"scattergeo\"}], \"scattergl\": [{\"marker\": {\"colorbar\": {\"outlinewidth\": 0, \"ticks\": \"\"}}, \"type\": \"scattergl\"}], \"scattermapbox\": [{\"marker\": {\"colorbar\": {\"outlinewidth\": 0, \"ticks\": \"\"}}, \"type\": \"scattermapbox\"}], \"scatterpolargl\": [{\"marker\": {\"colorbar\": {\"outlinewidth\": 0, \"ticks\": \"\"}}, \"type\": \"scatterpolargl\"}], \"scatterpolar\": [{\"marker\": {\"colorbar\": {\"outlinewidth\": 0, \"ticks\": \"\"}}, \"type\": \"scatterpolar\"}], \"scatter\": [{\"marker\": {\"colorbar\": {\"outlinewidth\": 0, \"ticks\": \"\"}}, \"type\": \"scatter\"}], \"scatterternary\": [{\"marker\": {\"colorbar\": {\"outlinewidth\": 0, \"ticks\": \"\"}}, \"type\": \"scatterternary\"}], \"surface\": [{\"colorbar\": {\"outlinewidth\": 0, \"ticks\": \"\"}, \"type\": \"surface\"}], \"table\": [{\"cells\": {\"fill\": {\"color\": \"#EBF0F8\"}, \"line\": {\"color\": \"white\"}}, \"header\": {\"fill\": {\"color\": \"#C8D4E3\"}, \"line\": {\"color\": \"white\"}}, \"type\": \"table\"}]}, \"layout\": {\"annotationdefaults\": {\"arrowcolor\": \"#506784\", \"arrowhead\": 0, \"arrowwidth\": 1}, \"colorscale\": {\"diverging\": [[0, \"#8e0152\"], [0.1, \"#c51b7d\"], [0.2, \"#de77ae\"], [0.3, \"#f1b6da\"], [0.4, \"#fde0ef\"], [0.5, \"#f7f7f7\"], [0.6, \"#e6f5d0\"], [0.7, \"#b8e186\"], [0.8, \"#7fbc41\"], [0.9, \"#4d9221\"], [1, \"#276419\"]], \"sequential\": [[0.0, \"#0508b8\"], [0.0893854748603352, \"#1910d8\"], [0.1787709497206704, \"#3c19f0\"], [0.2681564245810056, \"#6b1cfb\"], [0.3575418994413408, \"#981cfd\"], [0.44692737430167595, \"#bf1cfd\"], [0.5363128491620112, \"#dd2bfd\"], [0.6256983240223464, \"#f246fe\"], [0.7150837988826816, \"#fc67fd\"], [0.8044692737430168, \"#fe88fc\"], [0.8938547486033519, \"#fea5fd\"], [0.9832402234636871, \"#febefe\"], [1.0, \"#fec3fe\"]], \"sequentialminus\": [[0.0, \"#0508b8\"], [0.0893854748603352, \"#1910d8\"], [0.1787709497206704, \"#3c19f0\"], [0.2681564245810056, \"#6b1cfb\"], [0.3575418994413408, \"#981cfd\"], [0.44692737430167595, \"#bf1cfd\"], [0.5363128491620112, \"#dd2bfd\"], [0.6256983240223464, \"#f246fe\"], [0.7150837988826816, \"#fc67fd\"], [0.8044692737430168, \"#fe88fc\"], [0.8938547486033519, \"#fea5fd\"], [0.9832402234636871, \"#febefe\"], [1.0, \"#fec3fe\"]]}, \"colorway\": [\"#636efa\", \"#EF553B\", \"#00cc96\", \"#ab63fa\", \"#19d3f3\", \"#e763fa\", \"#FECB52\", \"#FFA15A\", \"#FF6692\", \"#B6E880\"], \"font\": {\"color\": \"#2a3f5f\"}, \"geo\": {\"bgcolor\": \"white\", \"lakecolor\": \"white\", \"landcolor\": \"#E5ECF6\", \"showlakes\": true, \"showland\": true, \"subunitcolor\": \"white\"}, \"hovermode\": \"closest\", \"mapbox\": {\"style\": \"light\"}, \"paper_bgcolor\": \"white\", \"plot_bgcolor\": \"#E5ECF6\", \"polar\": {\"angularaxis\": {\"gridcolor\": \"white\", \"linecolor\": \"white\", \"ticks\": \"\"}, \"bgcolor\": \"#E5ECF6\", \"radialaxis\": {\"gridcolor\": \"white\", \"linecolor\": \"white\", \"ticks\": \"\"}}, \"scene\": {\"xaxis\": {\"backgroundcolor\": \"#E5ECF6\", \"gridcolor\": \"white\", \"gridwidth\": 2, \"linecolor\": \"white\", \"showbackground\": true, \"ticks\": \"\", \"zerolinecolor\": \"white\"}, \"yaxis\": {\"backgroundcolor\": \"#E5ECF6\", \"gridcolor\": \"white\", \"gridwidth\": 2, \"linecolor\": \"white\", \"showbackground\": true, \"ticks\": \"\", \"zerolinecolor\": \"white\"}, \"zaxis\": {\"backgroundcolor\": \"#E5ECF6\", \"gridcolor\": \"white\", \"gridwidth\": 2, \"linecolor\": \"white\", \"showbackground\": true, \"ticks\": \"\", \"zerolinecolor\": \"white\"}}, \"shapedefaults\": {\"fillcolor\": \"#506784\", \"line\": {\"width\": 0}, \"opacity\": 0.4}, \"ternary\": {\"aaxis\": {\"gridcolor\": \"white\", \"linecolor\": \"white\", \"ticks\": \"\"}, \"baxis\": {\"gridcolor\": \"white\", \"linecolor\": \"white\", \"ticks\": \"\"}, \"bgcolor\": \"#E5ECF6\", \"caxis\": {\"gridcolor\": \"white\", \"linecolor\": \"white\", \"ticks\": \"\"}}, \"title\": {\"x\": 0.05}, \"xaxis\": {\"automargin\": true, \"gridcolor\": \"white\", \"linecolor\": \"white\", \"ticks\": \"\", \"zerolinecolor\": \"white\", \"zerolinewidth\": 2}, \"yaxis\": {\"automargin\": true, \"gridcolor\": \"white\", \"linecolor\": \"white\", \"ticks\": \"\", \"zerolinecolor\": \"white\", \"zerolinewidth\": 2}}}, \"grid\": {\"xaxes\": [\"x\"], \"yaxes\": [\"y\"], \"xgap\": 0.1, \"ygap\": 0.1, \"xside\": \"bottom\", \"yside\": \"left\"}, \"xaxis\": {\"title\": {\"text\": \"Make\"}}, \"yaxis\": {\"title\": {\"text\": \"Model\"}}, \"annotations\": [{\"text\": \"This is outstanding [Safety Rating:5] [Kilometers:30,900]\", \"x\": 3, \"y\": 7.2}]}, {\"showLink\": false, \"linkText\": \"Export to plot.ly\", \"plotlyServerURL\": \"https://plot.ly\"}); \n",
       "}\n",
       "});</script><script type=\"text/javascript\">window.addEventListener(\"resize\", function(){if (document.getElementById(\"244ef7c9-8ea4-487c-b526-b5c38ad68cb9\")) {window._Plotly.Plots.resize(document.getElementById(\"244ef7c9-8ea4-487c-b526-b5c38ad68cb9\"));};})</script>"
      ],
      "text/vnd.plotly.v1+html": [
       "<div id=\"244ef7c9-8ea4-487c-b526-b5c38ad68cb9\" style=\"height: 600px; width: 100%;\" class=\"plotly-graph-div\"></div><script type=\"text/javascript\">require([\"plotly\"], function(Plotly) { window.PLOTLYENV=window.PLOTLYENV || {};window.PLOTLYENV.BASE_URL=\"https://plot.ly\";\n",
       "if (document.getElementById(\"244ef7c9-8ea4-487c-b526-b5c38ad68cb9\")) {\n",
       "    Plotly.newPlot(\"244ef7c9-8ea4-487c-b526-b5c38ad68cb9\", [{\"hovertemplate\": \"Make=%{x}<br>Model=%{y}<br>Kms=%{marker.size}<br>Safety Rating=%{marker.color}<extra></extra>\", \"legendgroup\": \"\", \"marker\": {\"cmax\": 5, \"cmin\": 4, \"color\": [4, 4, 4, 4, 5, 4, 5, 5, 5, 5], \"colorbar\": {\"title\": {\"text\": \"Safety Rating\"}}, \"colorscale\": [[0.0, \"#0508b8\"], [0.08333333333333333, \"#1910d8\"], [0.16666666666666666, \"#3c19f0\"], [0.25, \"#6b1cfb\"], [0.3333333333333333, \"#981cfd\"], [0.4166666666666667, \"#bf1cfd\"], [0.5, \"#dd2bfd\"], [0.5833333333333334, \"#f246fe\"], [0.6666666666666666, \"#fc67fd\"], [0.75, \"#fe88fc\"], [0.8333333333333334, \"#fea5fd\"], [0.9166666666666666, \"#febefe\"], [1.0, \"#fec3fe\"]], \"showscale\": true, \"size\": [35944, 44160, 40000, 57891, 45536, 64546, 44665, 30900, 56065, 47197], \"sizemode\": \"area\", \"sizeref\": 161.365, \"symbol\": \"circle\"}, \"mode\": \"markers\", \"name\": \" \", \"showlegend\": false, \"x\": [\"Toyota\", \"Toyota\", \"Nissan\", \"Ford\", \"Kia\", \"Mazda\", \"Honda\", \"Kia\", \"Toyota\", \"Ford\"], \"xaxis\": \"x\", \"y\": [\"RAV4 LE\", \"Matrix\", \"Rogue\", \"Edge SEL\", \"Rondo\", \"CX-5\", \"CRV\", \"Soul EX\", \"Prius\", \"Focus\"], \"yaxis\": \"y\", \"type\": \"scatter\", \"uid\": \"fb5a6285-54a7-4231-a1a1-d0675d67b5a5\"}], {\"height\": 600, \"legend\": {\"tracegroupgap\": 0, \"orientation\": \"h\", \"y\": 1.1, \"x\": 0.5}, \"margin\": {\"t\": 60}, \"template\": {\"data\": {\"barpolar\": [{\"marker\": {\"line\": {\"color\": \"#E5ECF6\", \"width\": 0.5}}, \"type\": \"barpolar\"}], \"bar\": [{\"marker\": {\"line\": {\"color\": \"#E5ECF6\", \"width\": 0.5}}, \"type\": \"bar\"}], \"carpet\": [{\"aaxis\": {\"endlinecolor\": \"#2a3f5f\", \"gridcolor\": \"white\", \"linecolor\": \"white\", \"minorgridcolor\": \"white\", \"startlinecolor\": \"#2a3f5f\"}, \"baxis\": {\"endlinecolor\": \"#2a3f5f\", \"gridcolor\": \"white\", \"linecolor\": \"white\", \"minorgridcolor\": \"white\", \"startlinecolor\": \"#2a3f5f\"}, \"type\": \"carpet\"}], \"choropleth\": [{\"colorbar\": {\"outlinewidth\": 0, \"ticks\": \"\"}, \"type\": \"choropleth\"}], \"contourcarpet\": [{\"colorbar\": {\"outlinewidth\": 0, \"ticks\": \"\"}, \"type\": \"contourcarpet\"}], \"contour\": [{\"autocolorscale\": true, \"colorbar\": {\"outlinewidth\": 0, \"ticks\": \"\"}, \"type\": \"contour\"}], \"heatmapgl\": [{\"colorbar\": {\"outlinewidth\": 0, \"ticks\": \"\"}, \"type\": \"heatmapgl\"}], \"heatmap\": [{\"autocolorscale\": true, \"colorbar\": {\"outlinewidth\": 0, \"ticks\": \"\"}, \"type\": \"heatmap\"}], \"histogram2dcontour\": [{\"autocolorscale\": true, \"colorbar\": {\"outlinewidth\": 0, \"ticks\": \"\"}, \"type\": \"histogram2dcontour\"}], \"histogram2d\": [{\"autocolorscale\": true, \"colorbar\": {\"outlinewidth\": 0, \"ticks\": \"\"}, \"type\": \"histogram2d\"}], \"histogram\": [{\"marker\": {\"colorbar\": {\"outlinewidth\": 0, \"ticks\": \"\"}}, \"type\": \"histogram\"}], \"mesh3d\": [{\"colorbar\": {\"outlinewidth\": 0, \"ticks\": \"\"}, \"type\": \"mesh3d\"}], \"parcoords\": [{\"line\": {\"colorbar\": {\"outlinewidth\": 0, \"ticks\": \"\"}}, \"type\": \"parcoords\"}], \"scatter3d\": [{\"marker\": {\"colorbar\": {\"outlinewidth\": 0, \"ticks\": \"\"}}, \"type\": \"scatter3d\"}], \"scattercarpet\": [{\"marker\": {\"colorbar\": {\"outlinewidth\": 0, \"ticks\": \"\"}}, \"type\": \"scattercarpet\"}], \"scattergeo\": [{\"marker\": {\"colorbar\": {\"outlinewidth\": 0, \"ticks\": \"\"}}, \"type\": \"scattergeo\"}], \"scattergl\": [{\"marker\": {\"colorbar\": {\"outlinewidth\": 0, \"ticks\": \"\"}}, \"type\": \"scattergl\"}], \"scattermapbox\": [{\"marker\": {\"colorbar\": {\"outlinewidth\": 0, \"ticks\": \"\"}}, \"type\": \"scattermapbox\"}], \"scatterpolargl\": [{\"marker\": {\"colorbar\": {\"outlinewidth\": 0, \"ticks\": \"\"}}, \"type\": \"scatterpolargl\"}], \"scatterpolar\": [{\"marker\": {\"colorbar\": {\"outlinewidth\": 0, \"ticks\": \"\"}}, \"type\": \"scatterpolar\"}], \"scatter\": [{\"marker\": {\"colorbar\": {\"outlinewidth\": 0, \"ticks\": \"\"}}, \"type\": \"scatter\"}], \"scatterternary\": [{\"marker\": {\"colorbar\": {\"outlinewidth\": 0, \"ticks\": \"\"}}, \"type\": \"scatterternary\"}], \"surface\": [{\"colorbar\": {\"outlinewidth\": 0, \"ticks\": \"\"}, \"type\": \"surface\"}], \"table\": [{\"cells\": {\"fill\": {\"color\": \"#EBF0F8\"}, \"line\": {\"color\": \"white\"}}, \"header\": {\"fill\": {\"color\": \"#C8D4E3\"}, \"line\": {\"color\": \"white\"}}, \"type\": \"table\"}]}, \"layout\": {\"annotationdefaults\": {\"arrowcolor\": \"#506784\", \"arrowhead\": 0, \"arrowwidth\": 1}, \"colorscale\": {\"diverging\": [[0, \"#8e0152\"], [0.1, \"#c51b7d\"], [0.2, \"#de77ae\"], [0.3, \"#f1b6da\"], [0.4, \"#fde0ef\"], [0.5, \"#f7f7f7\"], [0.6, \"#e6f5d0\"], [0.7, \"#b8e186\"], [0.8, \"#7fbc41\"], [0.9, \"#4d9221\"], [1, \"#276419\"]], \"sequential\": [[0.0, \"#0508b8\"], [0.0893854748603352, \"#1910d8\"], [0.1787709497206704, \"#3c19f0\"], [0.2681564245810056, \"#6b1cfb\"], [0.3575418994413408, \"#981cfd\"], [0.44692737430167595, \"#bf1cfd\"], [0.5363128491620112, \"#dd2bfd\"], [0.6256983240223464, \"#f246fe\"], [0.7150837988826816, \"#fc67fd\"], [0.8044692737430168, \"#fe88fc\"], [0.8938547486033519, \"#fea5fd\"], [0.9832402234636871, \"#febefe\"], [1.0, \"#fec3fe\"]], \"sequentialminus\": [[0.0, \"#0508b8\"], [0.0893854748603352, \"#1910d8\"], [0.1787709497206704, \"#3c19f0\"], [0.2681564245810056, \"#6b1cfb\"], [0.3575418994413408, \"#981cfd\"], [0.44692737430167595, \"#bf1cfd\"], [0.5363128491620112, \"#dd2bfd\"], [0.6256983240223464, \"#f246fe\"], [0.7150837988826816, \"#fc67fd\"], [0.8044692737430168, \"#fe88fc\"], [0.8938547486033519, \"#fea5fd\"], [0.9832402234636871, \"#febefe\"], [1.0, \"#fec3fe\"]]}, \"colorway\": [\"#636efa\", \"#EF553B\", \"#00cc96\", \"#ab63fa\", \"#19d3f3\", \"#e763fa\", \"#FECB52\", \"#FFA15A\", \"#FF6692\", \"#B6E880\"], \"font\": {\"color\": \"#2a3f5f\"}, \"geo\": {\"bgcolor\": \"white\", \"lakecolor\": \"white\", \"landcolor\": \"#E5ECF6\", \"showlakes\": true, \"showland\": true, \"subunitcolor\": \"white\"}, \"hovermode\": \"closest\", \"mapbox\": {\"style\": \"light\"}, \"paper_bgcolor\": \"white\", \"plot_bgcolor\": \"#E5ECF6\", \"polar\": {\"angularaxis\": {\"gridcolor\": \"white\", \"linecolor\": \"white\", \"ticks\": \"\"}, \"bgcolor\": \"#E5ECF6\", \"radialaxis\": {\"gridcolor\": \"white\", \"linecolor\": \"white\", \"ticks\": \"\"}}, \"scene\": {\"xaxis\": {\"backgroundcolor\": \"#E5ECF6\", \"gridcolor\": \"white\", \"gridwidth\": 2, \"linecolor\": \"white\", \"showbackground\": true, \"ticks\": \"\", \"zerolinecolor\": \"white\"}, \"yaxis\": {\"backgroundcolor\": \"#E5ECF6\", \"gridcolor\": \"white\", \"gridwidth\": 2, \"linecolor\": \"white\", \"showbackground\": true, \"ticks\": \"\", \"zerolinecolor\": \"white\"}, \"zaxis\": {\"backgroundcolor\": \"#E5ECF6\", \"gridcolor\": \"white\", \"gridwidth\": 2, \"linecolor\": \"white\", \"showbackground\": true, \"ticks\": \"\", \"zerolinecolor\": \"white\"}}, \"shapedefaults\": {\"fillcolor\": \"#506784\", \"line\": {\"width\": 0}, \"opacity\": 0.4}, \"ternary\": {\"aaxis\": {\"gridcolor\": \"white\", \"linecolor\": \"white\", \"ticks\": \"\"}, \"baxis\": {\"gridcolor\": \"white\", \"linecolor\": \"white\", \"ticks\": \"\"}, \"bgcolor\": \"#E5ECF6\", \"caxis\": {\"gridcolor\": \"white\", \"linecolor\": \"white\", \"ticks\": \"\"}}, \"title\": {\"x\": 0.05}, \"xaxis\": {\"automargin\": true, \"gridcolor\": \"white\", \"linecolor\": \"white\", \"ticks\": \"\", \"zerolinecolor\": \"white\", \"zerolinewidth\": 2}, \"yaxis\": {\"automargin\": true, \"gridcolor\": \"white\", \"linecolor\": \"white\", \"ticks\": \"\", \"zerolinecolor\": \"white\", \"zerolinewidth\": 2}}}, \"grid\": {\"xaxes\": [\"x\"], \"yaxes\": [\"y\"], \"xgap\": 0.1, \"ygap\": 0.1, \"xside\": \"bottom\", \"yside\": \"left\"}, \"xaxis\": {\"title\": {\"text\": \"Make\"}}, \"yaxis\": {\"title\": {\"text\": \"Model\"}}, \"annotations\": [{\"text\": \"This is outstanding [Safety Rating:5] [Kilometers:30,900]\", \"x\": 3, \"y\": 7.2}]}, {\"showLink\": false, \"linkText\": \"Export to plot.ly\", \"plotlyServerURL\": \"https://plot.ly\"}); \n",
       "}\n",
       "});</script><script type=\"text/javascript\">window.addEventListener(\"resize\", function(){if (document.getElementById(\"244ef7c9-8ea4-487c-b526-b5c38ad68cb9\")) {window._Plotly.Plots.resize(document.getElementById(\"244ef7c9-8ea4-487c-b526-b5c38ad68cb9\"));};})</script>"
      ]
     },
     "metadata": {},
     "output_type": "display_data"
    }
   ],
   "source": [
    "fig = px.scatter(car_data,x=\"Make\",y=\"Model\",color=\"Safety Rating\", size=\"Kms\")\n",
    "\n",
    "fig.update(layout=dict(legend=dict(orientation='h', y =1.1, x=0.5), annotations=[go.layout.Annotation(text=\"This is outstanding [Safety Rating:5] [Kilometers:30,900]\", x=3,y=7.2)]))"
   ]
  },
  {
   "cell_type": "markdown",
   "metadata": {},
   "source": [
    "<br>\n",
    "\n",
    "### Market Price: \n",
    "\n",
    "It is noteworthy to comprehend that out of ten cars **five** of them were purchased in 2013. We have one car purchased in 2015 Soul EX price `15,995.00` and safety rating 5, and ones purchased in 2012 Prius also has safety rating 5. However, the least price we have here is `11,999.00` purchased in 2014, Focus from Ford safety rating 5 but drove a mass numbers of roadway 47,197 KM. Here, we have two other cars Rondo and CX-5 also purchased in 2014. The cheapest car we have from Kia has a high-grade safety rating. \n",
    "\n",
    "<br>"
   ]
  },
  {
   "cell_type": "code",
   "execution_count": 25,
   "metadata": {},
   "outputs": [
    {
     "data": {
      "application/vnd.plotly.v1+json": {
       "config": {
        "linkText": "Export to plot.ly",
        "plotlyServerURL": "https://plot.ly",
        "showLink": false
       },
       "data": [
        {
         "hovertemplate": "Price=$11,999.00 <br>Year=%{x}<br>Model=%{y}<br>Kms=%{marker.size}<extra></extra>",
         "legendgroup": "Price=$11,999.00 ",
         "marker": {
          "color": "#636efa",
          "size": [
           47197
          ],
          "sizemode": "area",
          "sizeref": 161.365,
          "symbol": "circle"
         },
         "mode": "markers",
         "name": "Price=$11,999.00 ",
         "showlegend": true,
         "type": "scatter",
         "uid": "f282767d-3c43-4059-a318-63082e33c5d6",
         "x": [
          2014
         ],
         "xaxis": "x",
         "y": [
          "Focus"
         ],
         "yaxis": "y"
        },
        {
         "hovertemplate": "Price=$12,884.00 <br>Year=%{x}<br>Model=%{y}<br>Kms=%{marker.size}<extra></extra>",
         "legendgroup": "Price=$12,884.00 ",
         "marker": {
          "color": "#EF553B",
          "size": [
           45536
          ],
          "sizemode": "area",
          "sizeref": 161.365,
          "symbol": "circle"
         },
         "mode": "markers",
         "name": "Price=$12,884.00 ",
         "showlegend": true,
         "type": "scatter",
         "uid": "649520d4-516d-41d3-9081-50cf7f00608c",
         "x": [
          2014
         ],
         "xaxis": "x",
         "y": [
          "Rondo"
         ],
         "yaxis": "y"
        },
        {
         "hovertemplate": "Price=$14,995.00 <br>Year=%{x}<br>Model=%{y}<br>Kms=%{marker.size}<extra></extra>",
         "legendgroup": "Price=$14,995.00 ",
         "marker": {
          "color": "#00cc96",
          "size": [
           44160
          ],
          "sizemode": "area",
          "sizeref": 161.365,
          "symbol": "circle"
         },
         "mode": "markers",
         "name": "Price=$14,995.00 ",
         "showlegend": true,
         "type": "scatter",
         "uid": "90e1bee4-cc1d-4c91-b7b1-42d9a7aaa274",
         "x": [
          2013
         ],
         "xaxis": "x",
         "y": [
          "Matrix"
         ],
         "yaxis": "y"
        },
        {
         "hovertemplate": "Price=$15,995.00 <br>Year=%{x}<br>Model=%{y}<br>Kms=%{marker.size}<extra></extra>",
         "legendgroup": "Price=$15,995.00 ",
         "marker": {
          "color": "#ab63fa",
          "size": [
           30900
          ],
          "sizemode": "area",
          "sizeref": 161.365,
          "symbol": "circle"
         },
         "mode": "markers",
         "name": "Price=$15,995.00 ",
         "showlegend": true,
         "type": "scatter",
         "uid": "0af0198d-0370-4269-8fff-7657cf573ede",
         "x": [
          2015
         ],
         "xaxis": "x",
         "y": [
          "Soul EX"
         ],
         "yaxis": "y"
        },
        {
         "hovertemplate": "Price=$16,000.00 <br>Year=%{x}<br>Model=%{y}<br>Kms=%{marker.size}<extra></extra>",
         "legendgroup": "Price=$16,000.00 ",
         "marker": {
          "color": "#19d3f3",
          "size": [
           40000
          ],
          "sizemode": "area",
          "sizeref": 161.365,
          "symbol": "circle"
         },
         "mode": "markers",
         "name": "Price=$16,000.00 ",
         "showlegend": true,
         "type": "scatter",
         "uid": "e50519c8-a96b-4f0f-818f-c064c30da084",
         "x": [
          2013
         ],
         "xaxis": "x",
         "y": [
          "Rogue"
         ],
         "yaxis": "y"
        },
        {
         "hovertemplate": "Price=$18,000.00 <br>Year=%{x}<br>Model=%{y}<br>Kms=%{marker.size}<extra></extra>",
         "legendgroup": "Price=$18,000.00 ",
         "marker": {
          "color": "#e763fa",
          "size": [
           56065
          ],
          "sizemode": "area",
          "sizeref": 161.365,
          "symbol": "circle"
         },
         "mode": "markers",
         "name": "Price=$18,000.00 ",
         "showlegend": true,
         "type": "scatter",
         "uid": "bd23b0b7-54f4-4786-b14f-b81bf964b6b6",
         "x": [
          2012
         ],
         "xaxis": "x",
         "y": [
          "Prius"
         ],
         "yaxis": "y"
        },
        {
         "hovertemplate": "Price=$18,900.00 <br>Year=%{x}<br>Model=%{y}<br>Kms=%{marker.size}<extra></extra>",
         "legendgroup": "Price=$18,900.00 ",
         "marker": {
          "color": "#fecb52",
          "size": [
           64546
          ],
          "sizemode": "area",
          "sizeref": 161.365,
          "symbol": "circle"
         },
         "mode": "markers",
         "name": "Price=$18,900.00 ",
         "showlegend": true,
         "type": "scatter",
         "uid": "37fb3e73-788c-47cd-8988-43b4e131d112",
         "x": [
          2014
         ],
         "xaxis": "x",
         "y": [
          "CX-5"
         ],
         "yaxis": "y"
        },
        {
         "hovertemplate": "Price=$19,995.00 <br>Year=%{x}<br>Model=%{y}<br>Kms=%{marker.size}<extra></extra>",
         "legendgroup": "Price=$19,995.00 ",
         "marker": {
          "color": "#ffa15a",
          "size": [
           57891,
           44665
          ],
          "sizemode": "area",
          "sizeref": 161.365,
          "symbol": "circle"
         },
         "mode": "markers",
         "name": "Price=$19,995.00 ",
         "showlegend": true,
         "type": "scatter",
         "uid": "eb62250d-afb4-42b7-b3b6-f840811d9ef9",
         "x": [
          2013,
          2013
         ],
         "xaxis": "x",
         "y": [
          "Edge SEL",
          "CRV"
         ],
         "yaxis": "y"
        },
        {
         "hovertemplate": "Price=$19,998.00 <br>Year=%{x}<br>Model=%{y}<br>Kms=%{marker.size}<extra></extra>",
         "legendgroup": "Price=$19,998.00 ",
         "marker": {
          "color": "#ff6692",
          "size": [
           35944
          ],
          "sizemode": "area",
          "sizeref": 161.365,
          "symbol": "circle"
         },
         "mode": "markers",
         "name": "Price=$19,998.00 ",
         "showlegend": true,
         "type": "scatter",
         "uid": "1c6376ad-dd8e-4a79-8922-a33087a206ca",
         "x": [
          2013
         ],
         "xaxis": "x",
         "y": [
          "RAV4 LE"
         ],
         "yaxis": "y"
        }
       ],
       "layout": {
        "autosize": true,
        "grid": {
         "xaxes": [
          "x"
         ],
         "xgap": 0.1,
         "xside": "bottom",
         "yaxes": [
          "y"
         ],
         "ygap": 0.1,
         "yside": "left"
        },
        "legend": {
         "tracegroupgap": 0
        },
        "margin": {
         "t": 60
        },
        "template": {
         "data": {
          "bar": [
           {
            "marker": {
             "line": {
              "color": "#E5ECF6",
              "width": 0.5
             }
            },
            "type": "bar"
           }
          ],
          "barpolar": [
           {
            "marker": {
             "line": {
              "color": "#E5ECF6",
              "width": 0.5
             }
            },
            "type": "barpolar"
           }
          ],
          "carpet": [
           {
            "aaxis": {
             "endlinecolor": "#2a3f5f",
             "gridcolor": "white",
             "linecolor": "white",
             "minorgridcolor": "white",
             "startlinecolor": "#2a3f5f"
            },
            "baxis": {
             "endlinecolor": "#2a3f5f",
             "gridcolor": "white",
             "linecolor": "white",
             "minorgridcolor": "white",
             "startlinecolor": "#2a3f5f"
            },
            "type": "carpet"
           }
          ],
          "choropleth": [
           {
            "colorbar": {
             "outlinewidth": 0,
             "ticks": ""
            },
            "type": "choropleth"
           }
          ],
          "contour": [
           {
            "autocolorscale": true,
            "colorbar": {
             "outlinewidth": 0,
             "ticks": ""
            },
            "type": "contour"
           }
          ],
          "contourcarpet": [
           {
            "colorbar": {
             "outlinewidth": 0,
             "ticks": ""
            },
            "type": "contourcarpet"
           }
          ],
          "heatmap": [
           {
            "autocolorscale": true,
            "colorbar": {
             "outlinewidth": 0,
             "ticks": ""
            },
            "type": "heatmap"
           }
          ],
          "heatmapgl": [
           {
            "colorbar": {
             "outlinewidth": 0,
             "ticks": ""
            },
            "type": "heatmapgl"
           }
          ],
          "histogram": [
           {
            "marker": {
             "colorbar": {
              "outlinewidth": 0,
              "ticks": ""
             }
            },
            "type": "histogram"
           }
          ],
          "histogram2d": [
           {
            "autocolorscale": true,
            "colorbar": {
             "outlinewidth": 0,
             "ticks": ""
            },
            "type": "histogram2d"
           }
          ],
          "histogram2dcontour": [
           {
            "autocolorscale": true,
            "colorbar": {
             "outlinewidth": 0,
             "ticks": ""
            },
            "type": "histogram2dcontour"
           }
          ],
          "mesh3d": [
           {
            "colorbar": {
             "outlinewidth": 0,
             "ticks": ""
            },
            "type": "mesh3d"
           }
          ],
          "parcoords": [
           {
            "line": {
             "colorbar": {
              "outlinewidth": 0,
              "ticks": ""
             }
            },
            "type": "parcoords"
           }
          ],
          "scatter": [
           {
            "marker": {
             "colorbar": {
              "outlinewidth": 0,
              "ticks": ""
             }
            },
            "type": "scatter"
           }
          ],
          "scatter3d": [
           {
            "marker": {
             "colorbar": {
              "outlinewidth": 0,
              "ticks": ""
             }
            },
            "type": "scatter3d"
           }
          ],
          "scattercarpet": [
           {
            "marker": {
             "colorbar": {
              "outlinewidth": 0,
              "ticks": ""
             }
            },
            "type": "scattercarpet"
           }
          ],
          "scattergeo": [
           {
            "marker": {
             "colorbar": {
              "outlinewidth": 0,
              "ticks": ""
             }
            },
            "type": "scattergeo"
           }
          ],
          "scattergl": [
           {
            "marker": {
             "colorbar": {
              "outlinewidth": 0,
              "ticks": ""
             }
            },
            "type": "scattergl"
           }
          ],
          "scattermapbox": [
           {
            "marker": {
             "colorbar": {
              "outlinewidth": 0,
              "ticks": ""
             }
            },
            "type": "scattermapbox"
           }
          ],
          "scatterpolar": [
           {
            "marker": {
             "colorbar": {
              "outlinewidth": 0,
              "ticks": ""
             }
            },
            "type": "scatterpolar"
           }
          ],
          "scatterpolargl": [
           {
            "marker": {
             "colorbar": {
              "outlinewidth": 0,
              "ticks": ""
             }
            },
            "type": "scatterpolargl"
           }
          ],
          "scatterternary": [
           {
            "marker": {
             "colorbar": {
              "outlinewidth": 0,
              "ticks": ""
             }
            },
            "type": "scatterternary"
           }
          ],
          "surface": [
           {
            "colorbar": {
             "outlinewidth": 0,
             "ticks": ""
            },
            "type": "surface"
           }
          ],
          "table": [
           {
            "cells": {
             "fill": {
              "color": "#EBF0F8"
             },
             "line": {
              "color": "white"
             }
            },
            "header": {
             "fill": {
              "color": "#C8D4E3"
             },
             "line": {
              "color": "white"
             }
            },
            "type": "table"
           }
          ]
         },
         "layout": {
          "annotationdefaults": {
           "arrowcolor": "#506784",
           "arrowhead": 0,
           "arrowwidth": 1
          },
          "colorscale": {
           "diverging": [
            [
             0,
             "#8e0152"
            ],
            [
             0.1,
             "#c51b7d"
            ],
            [
             0.2,
             "#de77ae"
            ],
            [
             0.3,
             "#f1b6da"
            ],
            [
             0.4,
             "#fde0ef"
            ],
            [
             0.5,
             "#f7f7f7"
            ],
            [
             0.6,
             "#e6f5d0"
            ],
            [
             0.7,
             "#b8e186"
            ],
            [
             0.8,
             "#7fbc41"
            ],
            [
             0.9,
             "#4d9221"
            ],
            [
             1,
             "#276419"
            ]
           ],
           "sequential": [
            [
             0,
             "#0508b8"
            ],
            [
             0.0893854748603352,
             "#1910d8"
            ],
            [
             0.1787709497206704,
             "#3c19f0"
            ],
            [
             0.2681564245810056,
             "#6b1cfb"
            ],
            [
             0.3575418994413408,
             "#981cfd"
            ],
            [
             0.44692737430167595,
             "#bf1cfd"
            ],
            [
             0.5363128491620112,
             "#dd2bfd"
            ],
            [
             0.6256983240223464,
             "#f246fe"
            ],
            [
             0.7150837988826816,
             "#fc67fd"
            ],
            [
             0.8044692737430168,
             "#fe88fc"
            ],
            [
             0.8938547486033519,
             "#fea5fd"
            ],
            [
             0.9832402234636871,
             "#febefe"
            ],
            [
             1,
             "#fec3fe"
            ]
           ],
           "sequentialminus": [
            [
             0,
             "#0508b8"
            ],
            [
             0.0893854748603352,
             "#1910d8"
            ],
            [
             0.1787709497206704,
             "#3c19f0"
            ],
            [
             0.2681564245810056,
             "#6b1cfb"
            ],
            [
             0.3575418994413408,
             "#981cfd"
            ],
            [
             0.44692737430167595,
             "#bf1cfd"
            ],
            [
             0.5363128491620112,
             "#dd2bfd"
            ],
            [
             0.6256983240223464,
             "#f246fe"
            ],
            [
             0.7150837988826816,
             "#fc67fd"
            ],
            [
             0.8044692737430168,
             "#fe88fc"
            ],
            [
             0.8938547486033519,
             "#fea5fd"
            ],
            [
             0.9832402234636871,
             "#febefe"
            ],
            [
             1,
             "#fec3fe"
            ]
           ]
          },
          "colorway": [
           "#636efa",
           "#EF553B",
           "#00cc96",
           "#ab63fa",
           "#19d3f3",
           "#e763fa",
           "#FECB52",
           "#FFA15A",
           "#FF6692",
           "#B6E880"
          ],
          "font": {
           "color": "#2a3f5f"
          },
          "geo": {
           "bgcolor": "white",
           "lakecolor": "white",
           "landcolor": "#E5ECF6",
           "showlakes": true,
           "showland": true,
           "subunitcolor": "white"
          },
          "hovermode": "closest",
          "mapbox": {
           "style": "light"
          },
          "paper_bgcolor": "white",
          "plot_bgcolor": "#E5ECF6",
          "polar": {
           "angularaxis": {
            "gridcolor": "white",
            "linecolor": "white",
            "ticks": ""
           },
           "bgcolor": "#E5ECF6",
           "radialaxis": {
            "gridcolor": "white",
            "linecolor": "white",
            "ticks": ""
           }
          },
          "scene": {
           "xaxis": {
            "backgroundcolor": "#E5ECF6",
            "gridcolor": "white",
            "gridwidth": 2,
            "linecolor": "white",
            "showbackground": true,
            "ticks": "",
            "zerolinecolor": "white"
           },
           "yaxis": {
            "backgroundcolor": "#E5ECF6",
            "gridcolor": "white",
            "gridwidth": 2,
            "linecolor": "white",
            "showbackground": true,
            "ticks": "",
            "zerolinecolor": "white"
           },
           "zaxis": {
            "backgroundcolor": "#E5ECF6",
            "gridcolor": "white",
            "gridwidth": 2,
            "linecolor": "white",
            "showbackground": true,
            "ticks": "",
            "zerolinecolor": "white"
           }
          },
          "shapedefaults": {
           "fillcolor": "#506784",
           "line": {
            "width": 0
           },
           "opacity": 0.4
          },
          "ternary": {
           "aaxis": {
            "gridcolor": "white",
            "linecolor": "white",
            "ticks": ""
           },
           "baxis": {
            "gridcolor": "white",
            "linecolor": "white",
            "ticks": ""
           },
           "bgcolor": "#E5ECF6",
           "caxis": {
            "gridcolor": "white",
            "linecolor": "white",
            "ticks": ""
           }
          },
          "title": {
           "x": 0.05
          },
          "xaxis": {
           "automargin": true,
           "gridcolor": "white",
           "linecolor": "white",
           "ticks": "",
           "zerolinecolor": "white",
           "zerolinewidth": 2
          },
          "yaxis": {
           "automargin": true,
           "gridcolor": "white",
           "linecolor": "white",
           "ticks": "",
           "zerolinecolor": "white",
           "zerolinewidth": 2
          }
         }
        },
        "xaxis": {
         "autorange": true,
         "range": [
          2011.7450818252037,
          2015.2341903327836
         ],
         "title": {
          "text": "Year"
         },
         "type": "linear"
        },
        "yaxis": {
         "autorange": true,
         "range": [
          -0.8325513455448301,
          9.794201411064423
         ],
         "title": {
          "text": "Model"
         },
         "type": "category"
        }
       }
      },
      "image/png": "[encoded data removed]",
      "text/html": [
       "<div id=\"6b7487fb-039e-4ed9-ac05-7fce4a661f54\" style=\"height: 600px; width: 100%;\" class=\"plotly-graph-div\"></div><script type=\"text/javascript\">require([\"plotly\"], function(Plotly) { window.PLOTLYENV=window.PLOTLYENV || {};window.PLOTLYENV.BASE_URL=\"https://plot.ly\";\n",
       "if (document.getElementById(\"6b7487fb-039e-4ed9-ac05-7fce4a661f54\")) {\n",
       "    Plotly.newPlot(\"6b7487fb-039e-4ed9-ac05-7fce4a661f54\", [{\"hovertemplate\": \"Price=$11,999.00 <br>Year=%{x}<br>Model=%{y}<br>Kms=%{marker.size}<extra></extra>\", \"legendgroup\": \"Price=$11,999.00 \", \"marker\": {\"color\": \"#636efa\", \"size\": [47197], \"sizemode\": \"area\", \"sizeref\": 161.365, \"symbol\": \"circle\"}, \"mode\": \"markers\", \"name\": \"Price=$11,999.00 \", \"showlegend\": true, \"x\": [2014], \"xaxis\": \"x\", \"y\": [\"Focus\"], \"yaxis\": \"y\", \"type\": \"scatter\", \"uid\": \"f282767d-3c43-4059-a318-63082e33c5d6\"}, {\"hovertemplate\": \"Price=$12,884.00 <br>Year=%{x}<br>Model=%{y}<br>Kms=%{marker.size}<extra></extra>\", \"legendgroup\": \"Price=$12,884.00 \", \"marker\": {\"color\": \"#EF553B\", \"size\": [45536], \"sizemode\": \"area\", \"sizeref\": 161.365, \"symbol\": \"circle\"}, \"mode\": \"markers\", \"name\": \"Price=$12,884.00 \", \"showlegend\": true, \"x\": [2014], \"xaxis\": \"x\", \"y\": [\"Rondo\"], \"yaxis\": \"y\", \"type\": \"scatter\", \"uid\": \"649520d4-516d-41d3-9081-50cf7f00608c\"}, {\"hovertemplate\": \"Price=$14,995.00 <br>Year=%{x}<br>Model=%{y}<br>Kms=%{marker.size}<extra></extra>\", \"legendgroup\": \"Price=$14,995.00 \", \"marker\": {\"color\": \"#00cc96\", \"size\": [44160], \"sizemode\": \"area\", \"sizeref\": 161.365, \"symbol\": \"circle\"}, \"mode\": \"markers\", \"name\": \"Price=$14,995.00 \", \"showlegend\": true, \"x\": [2013], \"xaxis\": \"x\", \"y\": [\"Matrix\"], \"yaxis\": \"y\", \"type\": \"scatter\", \"uid\": \"90e1bee4-cc1d-4c91-b7b1-42d9a7aaa274\"}, {\"hovertemplate\": \"Price=$15,995.00 <br>Year=%{x}<br>Model=%{y}<br>Kms=%{marker.size}<extra></extra>\", \"legendgroup\": \"Price=$15,995.00 \", \"marker\": {\"color\": \"#ab63fa\", \"size\": [30900], \"sizemode\": \"area\", \"sizeref\": 161.365, \"symbol\": \"circle\"}, \"mode\": \"markers\", \"name\": \"Price=$15,995.00 \", \"showlegend\": true, \"x\": [2015], \"xaxis\": \"x\", \"y\": [\"Soul EX\"], \"yaxis\": \"y\", \"type\": \"scatter\", \"uid\": \"0af0198d-0370-4269-8fff-7657cf573ede\"}, {\"hovertemplate\": \"Price=$16,000.00 <br>Year=%{x}<br>Model=%{y}<br>Kms=%{marker.size}<extra></extra>\", \"legendgroup\": \"Price=$16,000.00 \", \"marker\": {\"color\": \"#19d3f3\", \"size\": [40000], \"sizemode\": \"area\", \"sizeref\": 161.365, \"symbol\": \"circle\"}, \"mode\": \"markers\", \"name\": \"Price=$16,000.00 \", \"showlegend\": true, \"x\": [2013], \"xaxis\": \"x\", \"y\": [\"Rogue\"], \"yaxis\": \"y\", \"type\": \"scatter\", \"uid\": \"e50519c8-a96b-4f0f-818f-c064c30da084\"}, {\"hovertemplate\": \"Price=$18,000.00 <br>Year=%{x}<br>Model=%{y}<br>Kms=%{marker.size}<extra></extra>\", \"legendgroup\": \"Price=$18,000.00 \", \"marker\": {\"color\": \"#e763fa\", \"size\": [56065], \"sizemode\": \"area\", \"sizeref\": 161.365, \"symbol\": \"circle\"}, \"mode\": \"markers\", \"name\": \"Price=$18,000.00 \", \"showlegend\": true, \"x\": [2012], \"xaxis\": \"x\", \"y\": [\"Prius\"], \"yaxis\": \"y\", \"type\": \"scatter\", \"uid\": \"bd23b0b7-54f4-4786-b14f-b81bf964b6b6\"}, {\"hovertemplate\": \"Price=$18,900.00 <br>Year=%{x}<br>Model=%{y}<br>Kms=%{marker.size}<extra></extra>\", \"legendgroup\": \"Price=$18,900.00 \", \"marker\": {\"color\": \"#fecb52\", \"size\": [64546], \"sizemode\": \"area\", \"sizeref\": 161.365, \"symbol\": \"circle\"}, \"mode\": \"markers\", \"name\": \"Price=$18,900.00 \", \"showlegend\": true, \"x\": [2014], \"xaxis\": \"x\", \"y\": [\"CX-5\"], \"yaxis\": \"y\", \"type\": \"scatter\", \"uid\": \"37fb3e73-788c-47cd-8988-43b4e131d112\"}, {\"hovertemplate\": \"Price=$19,995.00 <br>Year=%{x}<br>Model=%{y}<br>Kms=%{marker.size}<extra></extra>\", \"legendgroup\": \"Price=$19,995.00 \", \"marker\": {\"color\": \"#ffa15a\", \"size\": [57891, 44665], \"sizemode\": \"area\", \"sizeref\": 161.365, \"symbol\": \"circle\"}, \"mode\": \"markers\", \"name\": \"Price=$19,995.00 \", \"showlegend\": true, \"x\": [2013, 2013], \"xaxis\": \"x\", \"y\": [\"Edge SEL\", \"CRV\"], \"yaxis\": \"y\", \"type\": \"scatter\", \"uid\": \"eb62250d-afb4-42b7-b3b6-f840811d9ef9\"}, {\"hovertemplate\": \"Price=$19,998.00 <br>Year=%{x}<br>Model=%{y}<br>Kms=%{marker.size}<extra></extra>\", \"legendgroup\": \"Price=$19,998.00 \", \"marker\": {\"color\": \"#ff6692\", \"size\": [35944], \"sizemode\": \"area\", \"sizeref\": 161.365, \"symbol\": \"circle\"}, \"mode\": \"markers\", \"name\": \"Price=$19,998.00 \", \"showlegend\": true, \"x\": [2013], \"xaxis\": \"x\", \"y\": [\"RAV4 LE\"], \"yaxis\": \"y\", \"type\": \"scatter\", \"uid\": \"1c6376ad-dd8e-4a79-8922-a33087a206ca\"}], {\"height\": 600, \"legend\": {\"tracegroupgap\": 0}, \"margin\": {\"t\": 60}, \"template\": {\"data\": {\"barpolar\": [{\"marker\": {\"line\": {\"color\": \"#E5ECF6\", \"width\": 0.5}}, \"type\": \"barpolar\"}], \"bar\": [{\"marker\": {\"line\": {\"color\": \"#E5ECF6\", \"width\": 0.5}}, \"type\": \"bar\"}], \"carpet\": [{\"aaxis\": {\"endlinecolor\": \"#2a3f5f\", \"gridcolor\": \"white\", \"linecolor\": \"white\", \"minorgridcolor\": \"white\", \"startlinecolor\": \"#2a3f5f\"}, \"baxis\": {\"endlinecolor\": \"#2a3f5f\", \"gridcolor\": \"white\", \"linecolor\": \"white\", \"minorgridcolor\": \"white\", \"startlinecolor\": \"#2a3f5f\"}, \"type\": \"carpet\"}], \"choropleth\": [{\"colorbar\": {\"outlinewidth\": 0, \"ticks\": \"\"}, \"type\": \"choropleth\"}], \"contourcarpet\": [{\"colorbar\": {\"outlinewidth\": 0, \"ticks\": \"\"}, \"type\": \"contourcarpet\"}], \"contour\": [{\"autocolorscale\": true, \"colorbar\": {\"outlinewidth\": 0, \"ticks\": \"\"}, \"type\": \"contour\"}], \"heatmapgl\": [{\"colorbar\": {\"outlinewidth\": 0, \"ticks\": \"\"}, \"type\": \"heatmapgl\"}], \"heatmap\": [{\"autocolorscale\": true, \"colorbar\": {\"outlinewidth\": 0, \"ticks\": \"\"}, \"type\": \"heatmap\"}], \"histogram2dcontour\": [{\"autocolorscale\": true, \"colorbar\": {\"outlinewidth\": 0, \"ticks\": \"\"}, \"type\": \"histogram2dcontour\"}], \"histogram2d\": [{\"autocolorscale\": true, \"colorbar\": {\"outlinewidth\": 0, \"ticks\": \"\"}, \"type\": \"histogram2d\"}], \"histogram\": [{\"marker\": {\"colorbar\": {\"outlinewidth\": 0, \"ticks\": \"\"}}, \"type\": \"histogram\"}], \"mesh3d\": [{\"colorbar\": {\"outlinewidth\": 0, \"ticks\": \"\"}, \"type\": \"mesh3d\"}], \"parcoords\": [{\"line\": {\"colorbar\": {\"outlinewidth\": 0, \"ticks\": \"\"}}, \"type\": \"parcoords\"}], \"scatter3d\": [{\"marker\": {\"colorbar\": {\"outlinewidth\": 0, \"ticks\": \"\"}}, \"type\": \"scatter3d\"}], \"scattercarpet\": [{\"marker\": {\"colorbar\": {\"outlinewidth\": 0, \"ticks\": \"\"}}, \"type\": \"scattercarpet\"}], \"scattergeo\": [{\"marker\": {\"colorbar\": {\"outlinewidth\": 0, \"ticks\": \"\"}}, \"type\": \"scattergeo\"}], \"scattergl\": [{\"marker\": {\"colorbar\": {\"outlinewidth\": 0, \"ticks\": \"\"}}, \"type\": \"scattergl\"}], \"scattermapbox\": [{\"marker\": {\"colorbar\": {\"outlinewidth\": 0, \"ticks\": \"\"}}, \"type\": \"scattermapbox\"}], \"scatterpolargl\": [{\"marker\": {\"colorbar\": {\"outlinewidth\": 0, \"ticks\": \"\"}}, \"type\": \"scatterpolargl\"}], \"scatterpolar\": [{\"marker\": {\"colorbar\": {\"outlinewidth\": 0, \"ticks\": \"\"}}, \"type\": \"scatterpolar\"}], \"scatter\": [{\"marker\": {\"colorbar\": {\"outlinewidth\": 0, \"ticks\": \"\"}}, \"type\": \"scatter\"}], \"scatterternary\": [{\"marker\": {\"colorbar\": {\"outlinewidth\": 0, \"ticks\": \"\"}}, \"type\": \"scatterternary\"}], \"surface\": [{\"colorbar\": {\"outlinewidth\": 0, \"ticks\": \"\"}, \"type\": \"surface\"}], \"table\": [{\"cells\": {\"fill\": {\"color\": \"#EBF0F8\"}, \"line\": {\"color\": \"white\"}}, \"header\": {\"fill\": {\"color\": \"#C8D4E3\"}, \"line\": {\"color\": \"white\"}}, \"type\": \"table\"}]}, \"layout\": {\"annotationdefaults\": {\"arrowcolor\": \"#506784\", \"arrowhead\": 0, \"arrowwidth\": 1}, \"colorscale\": {\"diverging\": [[0, \"#8e0152\"], [0.1, \"#c51b7d\"], [0.2, \"#de77ae\"], [0.3, \"#f1b6da\"], [0.4, \"#fde0ef\"], [0.5, \"#f7f7f7\"], [0.6, \"#e6f5d0\"], [0.7, \"#b8e186\"], [0.8, \"#7fbc41\"], [0.9, \"#4d9221\"], [1, \"#276419\"]], \"sequential\": [[0.0, \"#0508b8\"], [0.0893854748603352, \"#1910d8\"], [0.1787709497206704, \"#3c19f0\"], [0.2681564245810056, \"#6b1cfb\"], [0.3575418994413408, \"#981cfd\"], [0.44692737430167595, \"#bf1cfd\"], [0.5363128491620112, \"#dd2bfd\"], [0.6256983240223464, \"#f246fe\"], [0.7150837988826816, \"#fc67fd\"], [0.8044692737430168, \"#fe88fc\"], [0.8938547486033519, \"#fea5fd\"], [0.9832402234636871, \"#febefe\"], [1.0, \"#fec3fe\"]], \"sequentialminus\": [[0.0, \"#0508b8\"], [0.0893854748603352, \"#1910d8\"], [0.1787709497206704, \"#3c19f0\"], [0.2681564245810056, \"#6b1cfb\"], [0.3575418994413408, \"#981cfd\"], [0.44692737430167595, \"#bf1cfd\"], [0.5363128491620112, \"#dd2bfd\"], [0.6256983240223464, \"#f246fe\"], [0.7150837988826816, \"#fc67fd\"], [0.8044692737430168, \"#fe88fc\"], [0.8938547486033519, \"#fea5fd\"], [0.9832402234636871, \"#febefe\"], [1.0, \"#fec3fe\"]]}, \"colorway\": [\"#636efa\", \"#EF553B\", \"#00cc96\", \"#ab63fa\", \"#19d3f3\", \"#e763fa\", \"#FECB52\", \"#FFA15A\", \"#FF6692\", \"#B6E880\"], \"font\": {\"color\": \"#2a3f5f\"}, \"geo\": {\"bgcolor\": \"white\", \"lakecolor\": \"white\", \"landcolor\": \"#E5ECF6\", \"showlakes\": true, \"showland\": true, \"subunitcolor\": \"white\"}, \"hovermode\": \"closest\", \"mapbox\": {\"style\": \"light\"}, \"paper_bgcolor\": \"white\", \"plot_bgcolor\": \"#E5ECF6\", \"polar\": {\"angularaxis\": {\"gridcolor\": \"white\", \"linecolor\": \"white\", \"ticks\": \"\"}, \"bgcolor\": \"#E5ECF6\", \"radialaxis\": {\"gridcolor\": \"white\", \"linecolor\": \"white\", \"ticks\": \"\"}}, \"scene\": {\"xaxis\": {\"backgroundcolor\": \"#E5ECF6\", \"gridcolor\": \"white\", \"gridwidth\": 2, \"linecolor\": \"white\", \"showbackground\": true, \"ticks\": \"\", \"zerolinecolor\": \"white\"}, \"yaxis\": {\"backgroundcolor\": \"#E5ECF6\", \"gridcolor\": \"white\", \"gridwidth\": 2, \"linecolor\": \"white\", \"showbackground\": true, \"ticks\": \"\", \"zerolinecolor\": \"white\"}, \"zaxis\": {\"backgroundcolor\": \"#E5ECF6\", \"gridcolor\": \"white\", \"gridwidth\": 2, \"linecolor\": \"white\", \"showbackground\": true, \"ticks\": \"\", \"zerolinecolor\": \"white\"}}, \"shapedefaults\": {\"fillcolor\": \"#506784\", \"line\": {\"width\": 0}, \"opacity\": 0.4}, \"ternary\": {\"aaxis\": {\"gridcolor\": \"white\", \"linecolor\": \"white\", \"ticks\": \"\"}, \"baxis\": {\"gridcolor\": \"white\", \"linecolor\": \"white\", \"ticks\": \"\"}, \"bgcolor\": \"#E5ECF6\", \"caxis\": {\"gridcolor\": \"white\", \"linecolor\": \"white\", \"ticks\": \"\"}}, \"title\": {\"x\": 0.05}, \"xaxis\": {\"automargin\": true, \"gridcolor\": \"white\", \"linecolor\": \"white\", \"ticks\": \"\", \"zerolinecolor\": \"white\", \"zerolinewidth\": 2}, \"yaxis\": {\"automargin\": true, \"gridcolor\": \"white\", \"linecolor\": \"white\", \"ticks\": \"\", \"zerolinecolor\": \"white\", \"zerolinewidth\": 2}}}, \"grid\": {\"xaxes\": [\"x\"], \"yaxes\": [\"y\"], \"xgap\": 0.1, \"ygap\": 0.1, \"xside\": \"bottom\", \"yside\": \"left\"}, \"xaxis\": {\"title\": {\"text\": \"Year\"}}, \"yaxis\": {\"title\": {\"text\": \"Model\"}}}, {\"showLink\": false, \"linkText\": \"Export to plot.ly\", \"plotlyServerURL\": \"https://plot.ly\"}); \n",
       "}\n",
       "});</script><script type=\"text/javascript\">window.addEventListener(\"resize\", function(){if (document.getElementById(\"6b7487fb-039e-4ed9-ac05-7fce4a661f54\")) {window._Plotly.Plots.resize(document.getElementById(\"6b7487fb-039e-4ed9-ac05-7fce4a661f54\"));};})</script>"
      ],
      "text/vnd.plotly.v1+html": [
       "<div id=\"6b7487fb-039e-4ed9-ac05-7fce4a661f54\" style=\"height: 600px; width: 100%;\" class=\"plotly-graph-div\"></div><script type=\"text/javascript\">require([\"plotly\"], function(Plotly) { window.PLOTLYENV=window.PLOTLYENV || {};window.PLOTLYENV.BASE_URL=\"https://plot.ly\";\n",
       "if (document.getElementById(\"6b7487fb-039e-4ed9-ac05-7fce4a661f54\")) {\n",
       "    Plotly.newPlot(\"6b7487fb-039e-4ed9-ac05-7fce4a661f54\", [{\"hovertemplate\": \"Price=$11,999.00 <br>Year=%{x}<br>Model=%{y}<br>Kms=%{marker.size}<extra></extra>\", \"legendgroup\": \"Price=$11,999.00 \", \"marker\": {\"color\": \"#636efa\", \"size\": [47197], \"sizemode\": \"area\", \"sizeref\": 161.365, \"symbol\": \"circle\"}, \"mode\": \"markers\", \"name\": \"Price=$11,999.00 \", \"showlegend\": true, \"x\": [2014], \"xaxis\": \"x\", \"y\": [\"Focus\"], \"yaxis\": \"y\", \"type\": \"scatter\", \"uid\": \"f282767d-3c43-4059-a318-63082e33c5d6\"}, {\"hovertemplate\": \"Price=$12,884.00 <br>Year=%{x}<br>Model=%{y}<br>Kms=%{marker.size}<extra></extra>\", \"legendgroup\": \"Price=$12,884.00 \", \"marker\": {\"color\": \"#EF553B\", \"size\": [45536], \"sizemode\": \"area\", \"sizeref\": 161.365, \"symbol\": \"circle\"}, \"mode\": \"markers\", \"name\": \"Price=$12,884.00 \", \"showlegend\": true, \"x\": [2014], \"xaxis\": \"x\", \"y\": [\"Rondo\"], \"yaxis\": \"y\", \"type\": \"scatter\", \"uid\": \"649520d4-516d-41d3-9081-50cf7f00608c\"}, {\"hovertemplate\": \"Price=$14,995.00 <br>Year=%{x}<br>Model=%{y}<br>Kms=%{marker.size}<extra></extra>\", \"legendgroup\": \"Price=$14,995.00 \", \"marker\": {\"color\": \"#00cc96\", \"size\": [44160], \"sizemode\": \"area\", \"sizeref\": 161.365, \"symbol\": \"circle\"}, \"mode\": \"markers\", \"name\": \"Price=$14,995.00 \", \"showlegend\": true, \"x\": [2013], \"xaxis\": \"x\", \"y\": [\"Matrix\"], \"yaxis\": \"y\", \"type\": \"scatter\", \"uid\": \"90e1bee4-cc1d-4c91-b7b1-42d9a7aaa274\"}, {\"hovertemplate\": \"Price=$15,995.00 <br>Year=%{x}<br>Model=%{y}<br>Kms=%{marker.size}<extra></extra>\", \"legendgroup\": \"Price=$15,995.00 \", \"marker\": {\"color\": \"#ab63fa\", \"size\": [30900], \"sizemode\": \"area\", \"sizeref\": 161.365, \"symbol\": \"circle\"}, \"mode\": \"markers\", \"name\": \"Price=$15,995.00 \", \"showlegend\": true, \"x\": [2015], \"xaxis\": \"x\", \"y\": [\"Soul EX\"], \"yaxis\": \"y\", \"type\": \"scatter\", \"uid\": \"0af0198d-0370-4269-8fff-7657cf573ede\"}, {\"hovertemplate\": \"Price=$16,000.00 <br>Year=%{x}<br>Model=%{y}<br>Kms=%{marker.size}<extra></extra>\", \"legendgroup\": \"Price=$16,000.00 \", \"marker\": {\"color\": \"#19d3f3\", \"size\": [40000], \"sizemode\": \"area\", \"sizeref\": 161.365, \"symbol\": \"circle\"}, \"mode\": \"markers\", \"name\": \"Price=$16,000.00 \", \"showlegend\": true, \"x\": [2013], \"xaxis\": \"x\", \"y\": [\"Rogue\"], \"yaxis\": \"y\", \"type\": \"scatter\", \"uid\": \"e50519c8-a96b-4f0f-818f-c064c30da084\"}, {\"hovertemplate\": \"Price=$18,000.00 <br>Year=%{x}<br>Model=%{y}<br>Kms=%{marker.size}<extra></extra>\", \"legendgroup\": \"Price=$18,000.00 \", \"marker\": {\"color\": \"#e763fa\", \"size\": [56065], \"sizemode\": \"area\", \"sizeref\": 161.365, \"symbol\": \"circle\"}, \"mode\": \"markers\", \"name\": \"Price=$18,000.00 \", \"showlegend\": true, \"x\": [2012], \"xaxis\": \"x\", \"y\": [\"Prius\"], \"yaxis\": \"y\", \"type\": \"scatter\", \"uid\": \"bd23b0b7-54f4-4786-b14f-b81bf964b6b6\"}, {\"hovertemplate\": \"Price=$18,900.00 <br>Year=%{x}<br>Model=%{y}<br>Kms=%{marker.size}<extra></extra>\", \"legendgroup\": \"Price=$18,900.00 \", \"marker\": {\"color\": \"#fecb52\", \"size\": [64546], \"sizemode\": \"area\", \"sizeref\": 161.365, \"symbol\": \"circle\"}, \"mode\": \"markers\", \"name\": \"Price=$18,900.00 \", \"showlegend\": true, \"x\": [2014], \"xaxis\": \"x\", \"y\": [\"CX-5\"], \"yaxis\": \"y\", \"type\": \"scatter\", \"uid\": \"37fb3e73-788c-47cd-8988-43b4e131d112\"}, {\"hovertemplate\": \"Price=$19,995.00 <br>Year=%{x}<br>Model=%{y}<br>Kms=%{marker.size}<extra></extra>\", \"legendgroup\": \"Price=$19,995.00 \", \"marker\": {\"color\": \"#ffa15a\", \"size\": [57891, 44665], \"sizemode\": \"area\", \"sizeref\": 161.365, \"symbol\": \"circle\"}, \"mode\": \"markers\", \"name\": \"Price=$19,995.00 \", \"showlegend\": true, \"x\": [2013, 2013], \"xaxis\": \"x\", \"y\": [\"Edge SEL\", \"CRV\"], \"yaxis\": \"y\", \"type\": \"scatter\", \"uid\": \"eb62250d-afb4-42b7-b3b6-f840811d9ef9\"}, {\"hovertemplate\": \"Price=$19,998.00 <br>Year=%{x}<br>Model=%{y}<br>Kms=%{marker.size}<extra></extra>\", \"legendgroup\": \"Price=$19,998.00 \", \"marker\": {\"color\": \"#ff6692\", \"size\": [35944], \"sizemode\": \"area\", \"sizeref\": 161.365, \"symbol\": \"circle\"}, \"mode\": \"markers\", \"name\": \"Price=$19,998.00 \", \"showlegend\": true, \"x\": [2013], \"xaxis\": \"x\", \"y\": [\"RAV4 LE\"], \"yaxis\": \"y\", \"type\": \"scatter\", \"uid\": \"1c6376ad-dd8e-4a79-8922-a33087a206ca\"}], {\"height\": 600, \"legend\": {\"tracegroupgap\": 0}, \"margin\": {\"t\": 60}, \"template\": {\"data\": {\"barpolar\": [{\"marker\": {\"line\": {\"color\": \"#E5ECF6\", \"width\": 0.5}}, \"type\": \"barpolar\"}], \"bar\": [{\"marker\": {\"line\": {\"color\": \"#E5ECF6\", \"width\": 0.5}}, \"type\": \"bar\"}], \"carpet\": [{\"aaxis\": {\"endlinecolor\": \"#2a3f5f\", \"gridcolor\": \"white\", \"linecolor\": \"white\", \"minorgridcolor\": \"white\", \"startlinecolor\": \"#2a3f5f\"}, \"baxis\": {\"endlinecolor\": \"#2a3f5f\", \"gridcolor\": \"white\", \"linecolor\": \"white\", \"minorgridcolor\": \"white\", \"startlinecolor\": \"#2a3f5f\"}, \"type\": \"carpet\"}], \"choropleth\": [{\"colorbar\": {\"outlinewidth\": 0, \"ticks\": \"\"}, \"type\": \"choropleth\"}], \"contourcarpet\": [{\"colorbar\": {\"outlinewidth\": 0, \"ticks\": \"\"}, \"type\": \"contourcarpet\"}], \"contour\": [{\"autocolorscale\": true, \"colorbar\": {\"outlinewidth\": 0, \"ticks\": \"\"}, \"type\": \"contour\"}], \"heatmapgl\": [{\"colorbar\": {\"outlinewidth\": 0, \"ticks\": \"\"}, \"type\": \"heatmapgl\"}], \"heatmap\": [{\"autocolorscale\": true, \"colorbar\": {\"outlinewidth\": 0, \"ticks\": \"\"}, \"type\": \"heatmap\"}], \"histogram2dcontour\": [{\"autocolorscale\": true, \"colorbar\": {\"outlinewidth\": 0, \"ticks\": \"\"}, \"type\": \"histogram2dcontour\"}], \"histogram2d\": [{\"autocolorscale\": true, \"colorbar\": {\"outlinewidth\": 0, \"ticks\": \"\"}, \"type\": \"histogram2d\"}], \"histogram\": [{\"marker\": {\"colorbar\": {\"outlinewidth\": 0, \"ticks\": \"\"}}, \"type\": \"histogram\"}], \"mesh3d\": [{\"colorbar\": {\"outlinewidth\": 0, \"ticks\": \"\"}, \"type\": \"mesh3d\"}], \"parcoords\": [{\"line\": {\"colorbar\": {\"outlinewidth\": 0, \"ticks\": \"\"}}, \"type\": \"parcoords\"}], \"scatter3d\": [{\"marker\": {\"colorbar\": {\"outlinewidth\": 0, \"ticks\": \"\"}}, \"type\": \"scatter3d\"}], \"scattercarpet\": [{\"marker\": {\"colorbar\": {\"outlinewidth\": 0, \"ticks\": \"\"}}, \"type\": \"scattercarpet\"}], \"scattergeo\": [{\"marker\": {\"colorbar\": {\"outlinewidth\": 0, \"ticks\": \"\"}}, \"type\": \"scattergeo\"}], \"scattergl\": [{\"marker\": {\"colorbar\": {\"outlinewidth\": 0, \"ticks\": \"\"}}, \"type\": \"scattergl\"}], \"scattermapbox\": [{\"marker\": {\"colorbar\": {\"outlinewidth\": 0, \"ticks\": \"\"}}, \"type\": \"scattermapbox\"}], \"scatterpolargl\": [{\"marker\": {\"colorbar\": {\"outlinewidth\": 0, \"ticks\": \"\"}}, \"type\": \"scatterpolargl\"}], \"scatterpolar\": [{\"marker\": {\"colorbar\": {\"outlinewidth\": 0, \"ticks\": \"\"}}, \"type\": \"scatterpolar\"}], \"scatter\": [{\"marker\": {\"colorbar\": {\"outlinewidth\": 0, \"ticks\": \"\"}}, \"type\": \"scatter\"}], \"scatterternary\": [{\"marker\": {\"colorbar\": {\"outlinewidth\": 0, \"ticks\": \"\"}}, \"type\": \"scatterternary\"}], \"surface\": [{\"colorbar\": {\"outlinewidth\": 0, \"ticks\": \"\"}, \"type\": \"surface\"}], \"table\": [{\"cells\": {\"fill\": {\"color\": \"#EBF0F8\"}, \"line\": {\"color\": \"white\"}}, \"header\": {\"fill\": {\"color\": \"#C8D4E3\"}, \"line\": {\"color\": \"white\"}}, \"type\": \"table\"}]}, \"layout\": {\"annotationdefaults\": {\"arrowcolor\": \"#506784\", \"arrowhead\": 0, \"arrowwidth\": 1}, \"colorscale\": {\"diverging\": [[0, \"#8e0152\"], [0.1, \"#c51b7d\"], [0.2, \"#de77ae\"], [0.3, \"#f1b6da\"], [0.4, \"#fde0ef\"], [0.5, \"#f7f7f7\"], [0.6, \"#e6f5d0\"], [0.7, \"#b8e186\"], [0.8, \"#7fbc41\"], [0.9, \"#4d9221\"], [1, \"#276419\"]], \"sequential\": [[0.0, \"#0508b8\"], [0.0893854748603352, \"#1910d8\"], [0.1787709497206704, \"#3c19f0\"], [0.2681564245810056, \"#6b1cfb\"], [0.3575418994413408, \"#981cfd\"], [0.44692737430167595, \"#bf1cfd\"], [0.5363128491620112, \"#dd2bfd\"], [0.6256983240223464, \"#f246fe\"], [0.7150837988826816, \"#fc67fd\"], [0.8044692737430168, \"#fe88fc\"], [0.8938547486033519, \"#fea5fd\"], [0.9832402234636871, \"#febefe\"], [1.0, \"#fec3fe\"]], \"sequentialminus\": [[0.0, \"#0508b8\"], [0.0893854748603352, \"#1910d8\"], [0.1787709497206704, \"#3c19f0\"], [0.2681564245810056, \"#6b1cfb\"], [0.3575418994413408, \"#981cfd\"], [0.44692737430167595, \"#bf1cfd\"], [0.5363128491620112, \"#dd2bfd\"], [0.6256983240223464, \"#f246fe\"], [0.7150837988826816, \"#fc67fd\"], [0.8044692737430168, \"#fe88fc\"], [0.8938547486033519, \"#fea5fd\"], [0.9832402234636871, \"#febefe\"], [1.0, \"#fec3fe\"]]}, \"colorway\": [\"#636efa\", \"#EF553B\", \"#00cc96\", \"#ab63fa\", \"#19d3f3\", \"#e763fa\", \"#FECB52\", \"#FFA15A\", \"#FF6692\", \"#B6E880\"], \"font\": {\"color\": \"#2a3f5f\"}, \"geo\": {\"bgcolor\": \"white\", \"lakecolor\": \"white\", \"landcolor\": \"#E5ECF6\", \"showlakes\": true, \"showland\": true, \"subunitcolor\": \"white\"}, \"hovermode\": \"closest\", \"mapbox\": {\"style\": \"light\"}, \"paper_bgcolor\": \"white\", \"plot_bgcolor\": \"#E5ECF6\", \"polar\": {\"angularaxis\": {\"gridcolor\": \"white\", \"linecolor\": \"white\", \"ticks\": \"\"}, \"bgcolor\": \"#E5ECF6\", \"radialaxis\": {\"gridcolor\": \"white\", \"linecolor\": \"white\", \"ticks\": \"\"}}, \"scene\": {\"xaxis\": {\"backgroundcolor\": \"#E5ECF6\", \"gridcolor\": \"white\", \"gridwidth\": 2, \"linecolor\": \"white\", \"showbackground\": true, \"ticks\": \"\", \"zerolinecolor\": \"white\"}, \"yaxis\": {\"backgroundcolor\": \"#E5ECF6\", \"gridcolor\": \"white\", \"gridwidth\": 2, \"linecolor\": \"white\", \"showbackground\": true, \"ticks\": \"\", \"zerolinecolor\": \"white\"}, \"zaxis\": {\"backgroundcolor\": \"#E5ECF6\", \"gridcolor\": \"white\", \"gridwidth\": 2, \"linecolor\": \"white\", \"showbackground\": true, \"ticks\": \"\", \"zerolinecolor\": \"white\"}}, \"shapedefaults\": {\"fillcolor\": \"#506784\", \"line\": {\"width\": 0}, \"opacity\": 0.4}, \"ternary\": {\"aaxis\": {\"gridcolor\": \"white\", \"linecolor\": \"white\", \"ticks\": \"\"}, \"baxis\": {\"gridcolor\": \"white\", \"linecolor\": \"white\", \"ticks\": \"\"}, \"bgcolor\": \"#E5ECF6\", \"caxis\": {\"gridcolor\": \"white\", \"linecolor\": \"white\", \"ticks\": \"\"}}, \"title\": {\"x\": 0.05}, \"xaxis\": {\"automargin\": true, \"gridcolor\": \"white\", \"linecolor\": \"white\", \"ticks\": \"\", \"zerolinecolor\": \"white\", \"zerolinewidth\": 2}, \"yaxis\": {\"automargin\": true, \"gridcolor\": \"white\", \"linecolor\": \"white\", \"ticks\": \"\", \"zerolinecolor\": \"white\", \"zerolinewidth\": 2}}}, \"grid\": {\"xaxes\": [\"x\"], \"yaxes\": [\"y\"], \"xgap\": 0.1, \"ygap\": 0.1, \"xside\": \"bottom\", \"yside\": \"left\"}, \"xaxis\": {\"title\": {\"text\": \"Year\"}}, \"yaxis\": {\"title\": {\"text\": \"Model\"}}}, {\"showLink\": false, \"linkText\": \"Export to plot.ly\", \"plotlyServerURL\": \"https://plot.ly\"}); \n",
       "}\n",
       "});</script><script type=\"text/javascript\">window.addEventListener(\"resize\", function(){if (document.getElementById(\"6b7487fb-039e-4ed9-ac05-7fce4a661f54\")) {window._Plotly.Plots.resize(document.getElementById(\"6b7487fb-039e-4ed9-ac05-7fce4a661f54\"));};})</script>"
      ]
     },
     "metadata": {},
     "output_type": "display_data"
    }
   ],
   "source": [
    "px.scatter(car_data,x=\"Year\",y=\"Model\",color=\"Price\", size=\"Kms\")"
   ]
  },
  {
   "cell_type": "markdown",
   "metadata": {},
   "source": [
    "<br>\n",
    "\n",
    "_Why don't we look closer in the car manufacturer, model and their price from the scatter plot following._ \n",
    "\n",
    "Our take out from this section,\n",
    "1. The car hits Safety rating 5 and has the least price. \n",
    "2. Kilometers also our main constraints for the next sections to find the best-matched car for Sue. Notably, I have chosen Rondo, CRV, Soul EX, Focus, Prius and RAV4 LE- (even though it has safety rating 4 but noticeably drove for less KM i.e., 35944). \n",
    "\n",
    "\n",
    "<br>"
   ]
  },
  {
   "cell_type": "code",
   "execution_count": 26,
   "metadata": {},
   "outputs": [
    {
     "data": {
      "image/png": "[encoded data removed]",
      "text/plain": [
       "<Figure size 448.85x360 with 1 Axes>"
      ]
     },
     "metadata": {},
     "output_type": "display_data"
    }
   ],
   "source": [
    "car_data['Market Price'] = car_data['Price'].str.replace('$','')\n",
    "car_data['Market Price'] = car_data['Market Price'].str.replace(',','')\n",
    "car_data['Market Price'] = pd.to_numeric(car_data['Market Price'])\n",
    "\n",
    "sns.catplot('Market Price','Make',hue='Model',data=car_data,kind=\"point\",palette='rocket')\n",
    "plt.savefig('make.png')"
   ]
  },
  {
   "cell_type": "markdown",
   "metadata": {},
   "source": [
    "### Rear Legroom:\n",
    "\n",
    "* Following Sue has a family member of three and has a Dog she requires more Rear Legroom. In my data correlation pattern, we observed how wheelbase depends on the car's length, does it has a correlation with rear legroom for a vehicle. No! preferably we should connect with height and cargo space. Well, it appears to be just Edge SEL has a relation with wheelbase and rear legroom.\n"
   ]
  },
  {
   "cell_type": "code",
   "execution_count": 27,
   "metadata": {},
   "outputs": [
    {
     "data": {
      "image/png": "[encoded data removed]",
      "text/plain": [
       "<Figure size 720x432 with 1 Axes>"
      ]
     },
     "metadata": {},
     "output_type": "display_data"
    }
   ],
   "source": [
    "sns.set(style=\"ticks\")\n",
    "\n",
    "fig, ax = plt.subplots(figsize=(10, 6))\n",
    "car = sns.barplot(x=\"Rear Legroom (mm)\",y=\"Wheelbase\",hue= \"Model\",ax=ax, data = car_data)\n",
    "\n",
    "def change_width(ax, new_value) :\n",
    "    for patch in ax.patches :\n",
    "        current_width = patch.get_width()\n",
    "        diff = current_width - new_value\n",
    "\n",
    "        patch.set_width(new_value)\n",
    "\n",
    "        patch.set_x(patch.get_x() + diff * .5)\n",
    "\n",
    "change_width(ax, .45)\n",
    "car.legend(loc='right', bbox_to_anchor=(1.20, .76), ncol=1)\n",
    "plt.savefig('rear.png')\n",
    "plt.show()"
   ]
  },
  {
   "cell_type": "markdown",
   "metadata": {},
   "source": [
    "_From the catplot below we may come to a resolution._\n",
    "\n",
    "* Comparatively, we have noticed in the correlation table Height does involve to determine the rear legroom size. RAV4 LE, Edge SEL, CRV, CX-5 which has maximum Rear Legroom in millimeters. \n",
    "* Since cargo volume is also an essential issue for Sue let's dig deeper into this, catplot below manifest how cargo volume is a dependent of car's Height and Rear Legroom. So we have cargo space 966 for CX-5 with best rear legroom and height but safety rating 4, `971 for Prius but we are not biased as it has less legroom is an unusual design!` , the largest CRV:1053 with safety rating 5 and RAV4 LE:1087 but safety rating 4. Honda CRV goes to the next part of my analysis as a champ. \n",
    "\n",
    "### Hang on I haven't done yet there is a lot to see!\n",
    "\n",
    "<br>"
   ]
  },
  {
   "cell_type": "code",
   "execution_count": 28,
   "metadata": {},
   "outputs": [
    {
     "data": {
      "image/png": "[encoded data removed]",
      "text/plain": [
       "<Figure size 925.445x864 with 10 Axes>"
      ]
     },
     "metadata": {},
     "output_type": "display_data"
    }
   ],
   "source": [
    "sns.set(style=\"ticks\")\n",
    "sns.catplot(x=\"Rear Legroom (mm)\", y=\"Height (mm)\",data=car_data, hue=\"Cargo Volume (seats up)\",col=\"Model\", s=17,\n",
    "            col_wrap=3,height=3,aspect=1.24,palette='Set1')\n",
    "plt.savefig('col_model.png')\n",
    "plt.show()"
   ]
  },
  {
   "cell_type": "markdown",
   "metadata": {},
   "source": [
    "### Fuel Efficiency:\n",
    "\n",
    "_**Let's see how certain vehicles perform in the road (Highway and city fuel efficiency).**_\n",
    "\n",
    "* From our chosen list Soul Ex and Edge SEL looks to like a least fuel-efficient car in both Highway and City drive. In terms of best fuel efficiency, Prius could be the number one choice. The car `Focus` could also be an intelligent choice it has less fuel consumption in `city:7.5` and `highway:5.1` and smallest market price amongst all with best SF 5.\n",
    "\n",
    "* `CRV- HWY:6.4 City:9.0` and `RAV4 LE- HWY:6.4 City:8.7` is almost close enough considering the fuel efficiency. But RAV4 LE has an SF 4 whereas, CRV is SF 5.\n",
    "\n",
    "* `CX-5 seems more fuel efficient then CRV and RAV4 LE`\n",
    "\n",
    "_Note: HWY= Highway and SF= Safety Rating_"
   ]
  },
  {
   "cell_type": "code",
   "execution_count": 29,
   "metadata": {},
   "outputs": [
    {
     "data": {
      "image/png": "[encoded data removed]",
      "text/plain": [
       "<Figure size 648x576 with 1 Axes>"
      ]
     },
     "metadata": {},
     "output_type": "display_data"
    }
   ],
   "source": [
    "sns.set(style=\"darkgrid\")\n",
    "fig, ax = plt.subplots(figsize=(9, 8))\n",
    "sns.despine(fig, left=True, bottom=True)\n",
    "filled_markers = ('o', '8', 's', 'p', '^', 'h', 'H', 'D', 'd', 'P') \n",
    "\n",
    "car_sf_km = sns.scatterplot(x=\"Highway Fuel Efficiency (L/100km)\", y=\"City Fuel Efficiency (L/100km)\",hue=\"Model\",\n",
    "                          style=\"Model\", markers=filled_markers, s=100, data=car_data, ax=ax)\n",
    "car_sf_km.legend(loc='right', bbox_to_anchor=(1.25, 0.8), ncol=1)\n",
    "plt.savefig('fuel_effi.png')\n",
    "plt.show()"
   ]
  },
  {
   "cell_type": "markdown",
   "metadata": {},
   "source": [
    "* It's important to know, the car will be Sue family's primary mode of transportation. So she may go to family trip often, so we may consider the vehicle's Highway fuel efficiency and Engine size. \n",
    "* I have visualized this significant data into a Bar plot to see it's performance in the highway and how it's related to the engine size.\n",
    "* **So far we have two cars in our list for Sue. I am going to measure the values for other cars as well.**\n",
    "\n",
    "1. Cx-5 is a 2.0L engine and it's HWY fuel efficiency just 6.1 L/100km\n",
    "2. CRV 2.4L engine HWY fuel efficiency 6.4 L/100km, while RAV4 LE also has same fuel efficiency but engine size 2.5L.\n",
    "3. Prius 1.8L engine immeasurable fuel efficient car in the highway but still not suitable for Sue's family members since it has less rear legroom and not enough cargo space."
   ]
  },
  {
   "cell_type": "code",
   "execution_count": 30,
   "metadata": {},
   "outputs": [
    {
     "data": {
      "image/png": "[encoded data removed]",
      "text/plain": [
       "<Figure size 720x504 with 1 Axes>"
      ]
     },
     "metadata": {},
     "output_type": "display_data"
    }
   ],
   "source": [
    "car_data['Engine Size NM'] = car_data['Engine Size'].str.replace('L','')\n",
    "car_data['Engine Size NM'] = pd.to_numeric(car_data['Engine Size NM'])\n",
    "\n",
    "fig, ax = plt.subplots(figsize=(10, 7))\n",
    "sns.despine(fig, left=False, bottom=False)\n",
    "car_engsize = sns.barplot(x=\"Highway Fuel Efficiency (L/100km)\",y=\"Model\",hue= \"Engine Size NM\",ax=ax, data = car_data)\n",
    "def change_height(ax, new_value) :\n",
    "    for patch in ax.patches :\n",
    "        current_height = patch.get_height()\n",
    "        diff = current_height - new_value\n",
    "        patch.set_height(new_value)\n",
    "        patch.set_x(patch.get_x() + diff * .5)\n",
    "change_height(ax, .55)\n",
    "plt.savefig('engine_size.png')\n",
    "plt.show()"
   ]
  },
  {
   "cell_type": "markdown",
   "metadata": {},
   "source": [
    "\n",
    "\n",
    "\n",
    "##### I will make a new field to see how many years it has been moved from today's date considering the car bought."
   ]
  },
  {
   "cell_type": "code",
   "execution_count": 31,
   "metadata": {},
   "outputs": [
    {
     "data": {
      "text/html": [
       "<div>\n",
       "<style scoped>\n",
       "    .dataframe tbody tr th:only-of-type {\n",
       "        vertical-align: middle;\n",
       "    }\n",
       "\n",
       "    .dataframe tbody tr th {\n",
       "        vertical-align: top;\n",
       "    }\n",
       "\n",
       "    .dataframe thead th {\n",
       "        text-align: right;\n",
       "    }\n",
       "</style>\n",
       "<table border=\"1\" class=\"dataframe\">\n",
       "  <thead>\n",
       "    <tr style=\"text-align: right;\">\n",
       "      <th></th>\n",
       "      <th>Make</th>\n",
       "      <th>Model</th>\n",
       "      <th>Year</th>\n",
       "      <th>Safety Rating</th>\n",
       "      <th>Price</th>\n",
       "      <th>Kms</th>\n",
       "      <th>Highway Fuel Efficiency (L/100km)</th>\n",
       "      <th>City Fuel Efficiency (L/100km)</th>\n",
       "      <th>Tire Size</th>\n",
       "      <th>Length (mm)</th>\n",
       "      <th>...</th>\n",
       "      <th>Horsepower</th>\n",
       "      <th>Engine Size</th>\n",
       "      <th>Market Price</th>\n",
       "      <th>Engine Size NM</th>\n",
       "      <th>Year Drove</th>\n",
       "      <th>Drove/Annual</th>\n",
       "      <th>Tire diameter</th>\n",
       "      <th>HWY FE</th>\n",
       "      <th>City FE</th>\n",
       "      <th>Cargo</th>\n",
       "    </tr>\n",
       "  </thead>\n",
       "  <tbody>\n",
       "    <tr>\n",
       "      <th>0</th>\n",
       "      <td>Toyota</td>\n",
       "      <td>RAV4 LE</td>\n",
       "      <td>2013</td>\n",
       "      <td>4</td>\n",
       "      <td>$19,998.00</td>\n",
       "      <td>35944</td>\n",
       "      <td>6.4</td>\n",
       "      <td>8.7</td>\n",
       "      <td>P225/65R17</td>\n",
       "      <td>4569</td>\n",
       "      <td>...</td>\n",
       "      <td>176.0</td>\n",
       "      <td>2.5L</td>\n",
       "      <td>19998.0</td>\n",
       "      <td>2.5</td>\n",
       "      <td>6</td>\n",
       "      <td>5990.67</td>\n",
       "      <td>17</td>\n",
       "      <td>6.4</td>\n",
       "      <td>8.7</td>\n",
       "      <td>1087</td>\n",
       "    </tr>\n",
       "    <tr>\n",
       "      <th>1</th>\n",
       "      <td>Toyota</td>\n",
       "      <td>Matrix</td>\n",
       "      <td>2013</td>\n",
       "      <td>4</td>\n",
       "      <td>$14,995.00</td>\n",
       "      <td>44160</td>\n",
       "      <td>6.4</td>\n",
       "      <td>8.2</td>\n",
       "      <td>205/55HR16</td>\n",
       "      <td>4366</td>\n",
       "      <td>...</td>\n",
       "      <td>132.0</td>\n",
       "      <td>1.8L</td>\n",
       "      <td>14995.0</td>\n",
       "      <td>1.8</td>\n",
       "      <td>6</td>\n",
       "      <td>7360.00</td>\n",
       "      <td>16</td>\n",
       "      <td>6.4</td>\n",
       "      <td>8.2</td>\n",
       "      <td>561</td>\n",
       "    </tr>\n",
       "    <tr>\n",
       "      <th>2</th>\n",
       "      <td>Nissan</td>\n",
       "      <td>Rogue</td>\n",
       "      <td>2013</td>\n",
       "      <td>4</td>\n",
       "      <td>$16,000.00</td>\n",
       "      <td>40000</td>\n",
       "      <td>7.0</td>\n",
       "      <td>9.0</td>\n",
       "      <td>P215/70R16</td>\n",
       "      <td>4655</td>\n",
       "      <td>...</td>\n",
       "      <td>170.0</td>\n",
       "      <td>2.5L</td>\n",
       "      <td>16000.0</td>\n",
       "      <td>2.5</td>\n",
       "      <td>6</td>\n",
       "      <td>6666.67</td>\n",
       "      <td>16</td>\n",
       "      <td>7.0</td>\n",
       "      <td>9.0</td>\n",
       "      <td>818</td>\n",
       "    </tr>\n",
       "    <tr>\n",
       "      <th>3</th>\n",
       "      <td>Ford</td>\n",
       "      <td>Edge SEL</td>\n",
       "      <td>2013</td>\n",
       "      <td>4</td>\n",
       "      <td>$19,995.00</td>\n",
       "      <td>57891</td>\n",
       "      <td>6.6</td>\n",
       "      <td>9.9</td>\n",
       "      <td>245/60HR18</td>\n",
       "      <td>4678</td>\n",
       "      <td>...</td>\n",
       "      <td>NaN</td>\n",
       "      <td>3.5L</td>\n",
       "      <td>19995.0</td>\n",
       "      <td>3.5</td>\n",
       "      <td>6</td>\n",
       "      <td>9648.50</td>\n",
       "      <td>18</td>\n",
       "      <td>6.6</td>\n",
       "      <td>9.9</td>\n",
       "      <td>912</td>\n",
       "    </tr>\n",
       "    <tr>\n",
       "      <th>4</th>\n",
       "      <td>Kia</td>\n",
       "      <td>Rondo</td>\n",
       "      <td>2014</td>\n",
       "      <td>5</td>\n",
       "      <td>$12,884.00</td>\n",
       "      <td>45536</td>\n",
       "      <td>6.2</td>\n",
       "      <td>9.2</td>\n",
       "      <td>P205/55HR16</td>\n",
       "      <td>4525</td>\n",
       "      <td>...</td>\n",
       "      <td>164.0</td>\n",
       "      <td>2.0L</td>\n",
       "      <td>12884.0</td>\n",
       "      <td>2.0</td>\n",
       "      <td>5</td>\n",
       "      <td>9107.20</td>\n",
       "      <td>16</td>\n",
       "      <td>6.2</td>\n",
       "      <td>9.2</td>\n",
       "      <td>912</td>\n",
       "    </tr>\n",
       "  </tbody>\n",
       "</table>\n",
       "<p>5 rows × 26 columns</p>\n",
       "</div>"
      ],
      "text/plain": [
       "     Make     Model  Year  Safety Rating        Price    Kms  \\\n",
       "0  Toyota   RAV4 LE  2013              4  $19,998.00   35944   \n",
       "1  Toyota    Matrix  2013              4  $14,995.00   44160   \n",
       "2  Nissan     Rogue  2013              4  $16,000.00   40000   \n",
       "3    Ford  Edge SEL  2013              4  $19,995.00   57891   \n",
       "4     Kia     Rondo  2014              5  $12,884.00   45536   \n",
       "\n",
       "   Highway Fuel Efficiency (L/100km)  City Fuel Efficiency (L/100km)  \\\n",
       "0                                6.4                             8.7   \n",
       "1                                6.4                             8.2   \n",
       "2                                7.0                             9.0   \n",
       "3                                6.6                             9.9   \n",
       "4                                6.2                             9.2   \n",
       "\n",
       "     Tire Size  Length (mm)  ...    Horsepower  Engine Size  Market Price  \\\n",
       "0   P225/65R17         4569  ...         176.0         2.5L       19998.0   \n",
       "1   205/55HR16         4366  ...         132.0         1.8L       14995.0   \n",
       "2   P215/70R16         4655  ...         170.0         2.5L       16000.0   \n",
       "3   245/60HR18         4678  ...           NaN         3.5L       19995.0   \n",
       "4  P205/55HR16         4525  ...         164.0         2.0L       12884.0   \n",
       "\n",
       "   Engine Size NM  Year Drove  Drove/Annual  Tire diameter HWY FE  City FE  \\\n",
       "0             2.5           6       5990.67             17    6.4      8.7   \n",
       "1             1.8           6       7360.00             16    6.4      8.2   \n",
       "2             2.5           6       6666.67             16    7.0      9.0   \n",
       "3             3.5           6       9648.50             18    6.6      9.9   \n",
       "4             2.0           5       9107.20             16    6.2      9.2   \n",
       "\n",
       "   Cargo  \n",
       "0   1087  \n",
       "1    561  \n",
       "2    818  \n",
       "3    912  \n",
       "4    912  \n",
       "\n",
       "[5 rows x 26 columns]"
      ]
     },
     "execution_count": 31,
     "metadata": {},
     "output_type": "execute_result"
    }
   ],
   "source": [
    "end = datetime.now()\n",
    "car_data['Year Drove'] = ((end.year)-car_data['Year'])\n",
    "car_data.head()"
   ]
  },
  {
   "cell_type": "markdown",
   "metadata": {},
   "source": [
    "* #####  'Drove/Annual' field has created to confirm the calculated values in kilometers i.e., how many Km the car had been driven periodically."
   ]
  },
  {
   "cell_type": "code",
   "execution_count": 32,
   "metadata": {},
   "outputs": [
    {
     "data": {
      "text/html": [
       "<div>\n",
       "<style scoped>\n",
       "    .dataframe tbody tr th:only-of-type {\n",
       "        vertical-align: middle;\n",
       "    }\n",
       "\n",
       "    .dataframe tbody tr th {\n",
       "        vertical-align: top;\n",
       "    }\n",
       "\n",
       "    .dataframe thead th {\n",
       "        text-align: right;\n",
       "    }\n",
       "</style>\n",
       "<table border=\"1\" class=\"dataframe\">\n",
       "  <thead>\n",
       "    <tr style=\"text-align: right;\">\n",
       "      <th></th>\n",
       "      <th>Make</th>\n",
       "      <th>Model</th>\n",
       "      <th>Year</th>\n",
       "      <th>Safety Rating</th>\n",
       "      <th>Price</th>\n",
       "      <th>Kms</th>\n",
       "      <th>Highway Fuel Efficiency (L/100km)</th>\n",
       "      <th>City Fuel Efficiency (L/100km)</th>\n",
       "      <th>Tire Size</th>\n",
       "      <th>Length (mm)</th>\n",
       "      <th>...</th>\n",
       "      <th>Horsepower</th>\n",
       "      <th>Engine Size</th>\n",
       "      <th>Market Price</th>\n",
       "      <th>Engine Size NM</th>\n",
       "      <th>Year Drove</th>\n",
       "      <th>Drove/Annual</th>\n",
       "      <th>Tire diameter</th>\n",
       "      <th>HWY FE</th>\n",
       "      <th>City FE</th>\n",
       "      <th>Cargo</th>\n",
       "    </tr>\n",
       "  </thead>\n",
       "  <tbody>\n",
       "    <tr>\n",
       "      <th>0</th>\n",
       "      <td>Toyota</td>\n",
       "      <td>RAV4 LE</td>\n",
       "      <td>2013</td>\n",
       "      <td>4</td>\n",
       "      <td>$19,998.00</td>\n",
       "      <td>35944</td>\n",
       "      <td>6.4</td>\n",
       "      <td>8.7</td>\n",
       "      <td>P225/65R17</td>\n",
       "      <td>4569</td>\n",
       "      <td>...</td>\n",
       "      <td>176.0</td>\n",
       "      <td>2.5L</td>\n",
       "      <td>19998.0</td>\n",
       "      <td>2.5</td>\n",
       "      <td>6</td>\n",
       "      <td>5990.67</td>\n",
       "      <td>17</td>\n",
       "      <td>6.4</td>\n",
       "      <td>8.7</td>\n",
       "      <td>1087</td>\n",
       "    </tr>\n",
       "    <tr>\n",
       "      <th>1</th>\n",
       "      <td>Toyota</td>\n",
       "      <td>Matrix</td>\n",
       "      <td>2013</td>\n",
       "      <td>4</td>\n",
       "      <td>$14,995.00</td>\n",
       "      <td>44160</td>\n",
       "      <td>6.4</td>\n",
       "      <td>8.2</td>\n",
       "      <td>205/55HR16</td>\n",
       "      <td>4366</td>\n",
       "      <td>...</td>\n",
       "      <td>132.0</td>\n",
       "      <td>1.8L</td>\n",
       "      <td>14995.0</td>\n",
       "      <td>1.8</td>\n",
       "      <td>6</td>\n",
       "      <td>7360.00</td>\n",
       "      <td>16</td>\n",
       "      <td>6.4</td>\n",
       "      <td>8.2</td>\n",
       "      <td>561</td>\n",
       "    </tr>\n",
       "    <tr>\n",
       "      <th>2</th>\n",
       "      <td>Nissan</td>\n",
       "      <td>Rogue</td>\n",
       "      <td>2013</td>\n",
       "      <td>4</td>\n",
       "      <td>$16,000.00</td>\n",
       "      <td>40000</td>\n",
       "      <td>7.0</td>\n",
       "      <td>9.0</td>\n",
       "      <td>P215/70R16</td>\n",
       "      <td>4655</td>\n",
       "      <td>...</td>\n",
       "      <td>170.0</td>\n",
       "      <td>2.5L</td>\n",
       "      <td>16000.0</td>\n",
       "      <td>2.5</td>\n",
       "      <td>6</td>\n",
       "      <td>6666.67</td>\n",
       "      <td>16</td>\n",
       "      <td>7.0</td>\n",
       "      <td>9.0</td>\n",
       "      <td>818</td>\n",
       "    </tr>\n",
       "    <tr>\n",
       "      <th>3</th>\n",
       "      <td>Ford</td>\n",
       "      <td>Edge SEL</td>\n",
       "      <td>2013</td>\n",
       "      <td>4</td>\n",
       "      <td>$19,995.00</td>\n",
       "      <td>57891</td>\n",
       "      <td>6.6</td>\n",
       "      <td>9.9</td>\n",
       "      <td>245/60HR18</td>\n",
       "      <td>4678</td>\n",
       "      <td>...</td>\n",
       "      <td>NaN</td>\n",
       "      <td>3.5L</td>\n",
       "      <td>19995.0</td>\n",
       "      <td>3.5</td>\n",
       "      <td>6</td>\n",
       "      <td>9648.50</td>\n",
       "      <td>18</td>\n",
       "      <td>6.6</td>\n",
       "      <td>9.9</td>\n",
       "      <td>912</td>\n",
       "    </tr>\n",
       "    <tr>\n",
       "      <th>4</th>\n",
       "      <td>Kia</td>\n",
       "      <td>Rondo</td>\n",
       "      <td>2014</td>\n",
       "      <td>5</td>\n",
       "      <td>$12,884.00</td>\n",
       "      <td>45536</td>\n",
       "      <td>6.2</td>\n",
       "      <td>9.2</td>\n",
       "      <td>P205/55HR16</td>\n",
       "      <td>4525</td>\n",
       "      <td>...</td>\n",
       "      <td>164.0</td>\n",
       "      <td>2.0L</td>\n",
       "      <td>12884.0</td>\n",
       "      <td>2.0</td>\n",
       "      <td>5</td>\n",
       "      <td>9107.20</td>\n",
       "      <td>16</td>\n",
       "      <td>6.2</td>\n",
       "      <td>9.2</td>\n",
       "      <td>912</td>\n",
       "    </tr>\n",
       "  </tbody>\n",
       "</table>\n",
       "<p>5 rows × 26 columns</p>\n",
       "</div>"
      ],
      "text/plain": [
       "     Make     Model  Year  Safety Rating        Price    Kms  \\\n",
       "0  Toyota   RAV4 LE  2013              4  $19,998.00   35944   \n",
       "1  Toyota    Matrix  2013              4  $14,995.00   44160   \n",
       "2  Nissan     Rogue  2013              4  $16,000.00   40000   \n",
       "3    Ford  Edge SEL  2013              4  $19,995.00   57891   \n",
       "4     Kia     Rondo  2014              5  $12,884.00   45536   \n",
       "\n",
       "   Highway Fuel Efficiency (L/100km)  City Fuel Efficiency (L/100km)  \\\n",
       "0                                6.4                             8.7   \n",
       "1                                6.4                             8.2   \n",
       "2                                7.0                             9.0   \n",
       "3                                6.6                             9.9   \n",
       "4                                6.2                             9.2   \n",
       "\n",
       "     Tire Size  Length (mm)  ...    Horsepower  Engine Size  Market Price  \\\n",
       "0   P225/65R17         4569  ...         176.0         2.5L       19998.0   \n",
       "1   205/55HR16         4366  ...         132.0         1.8L       14995.0   \n",
       "2   P215/70R16         4655  ...         170.0         2.5L       16000.0   \n",
       "3   245/60HR18         4678  ...           NaN         3.5L       19995.0   \n",
       "4  P205/55HR16         4525  ...         164.0         2.0L       12884.0   \n",
       "\n",
       "   Engine Size NM  Year Drove  Drove/Annual  Tire diameter HWY FE  City FE  \\\n",
       "0             2.5           6       5990.67             17    6.4      8.7   \n",
       "1             1.8           6       7360.00             16    6.4      8.2   \n",
       "2             2.5           6       6666.67             16    7.0      9.0   \n",
       "3             3.5           6       9648.50             18    6.6      9.9   \n",
       "4             2.0           5       9107.20             16    6.2      9.2   \n",
       "\n",
       "   Cargo  \n",
       "0   1087  \n",
       "1    561  \n",
       "2    818  \n",
       "3    912  \n",
       "4    912  \n",
       "\n",
       "[5 rows x 26 columns]"
      ]
     },
     "execution_count": 32,
     "metadata": {},
     "output_type": "execute_result"
    }
   ],
   "source": [
    "car_data['Drove/Annual'] = car_data['Kms']/car_data['Year Drove']\n",
    "car_data['Drove/Annual'] = car_data['Drove/Annual'].round(2)\n",
    "car_data.head()"
   ]
  },
  {
   "cell_type": "markdown",
   "metadata": {},
   "source": [
    "### Annually driven:\n",
    "\n",
    "* In our following visualization we have four several cars based on their tire diameter and annually driven. There are four cars possessing (P225/65R17) Passengers 17' wheel and RAV4 LE in average driven least for 6 years, on the other hand, `CRV` (225/65R17) drove in average little more then RAVE LE but still. \n",
    "* Edge SEL is notable in terms of wheel size 18', I am counting better wheel size as it means better handling but unquestionably, EDGE SEL won't be suggested as it drove roughly 10,000 km yearly which is much higher in km then CRV and RAV4 LE.\n",
    "* Last but not the least, CX-5 drove for 5 years and having 17' wheel but annually driven most nearly 13000 km."
   ]
  },
  {
   "cell_type": "code",
   "execution_count": 33,
   "metadata": {},
   "outputs": [],
   "source": [
    "car_data['Tire diameter'] = car_data[\"Tire Size\"].str[-2:]"
   ]
  },
  {
   "cell_type": "code",
   "execution_count": 34,
   "metadata": {},
   "outputs": [
    {
     "data": {
      "image/png": "[encoded data removed]",
      "text/plain": [
       "<Figure size 774.415x576 with 4 Axes>"
      ]
     },
     "metadata": {},
     "output_type": "display_data"
    }
   ],
   "source": [
    "sns.set(style=\"ticks\")\n",
    "sns.catplot(x=\"Drove/Annual\", y=\"Model\",  \n",
    "            col=\"Tire diameter\", hue=\"Year Drove\", data=car_data, s=15,\n",
    "            col_wrap=2,height=4\n",
    "            ,aspect=1.24)  \n",
    "plt.savefig('year_drove.png')"
   ]
  },
  {
   "cell_type": "markdown",
   "metadata": {},
   "source": [
    "### Horsepower:\n",
    "\n",
    "* Meanwhile, Edge SEL seems not having a Horsepower value, I have figured this value is critical in terms of performance, it also associated to the vehicle's width. For precise judgment, a vehicle bigger requires more horsepower.\n",
    "* Accordingly, CRV is the best in this case almost 190 horsepower with engine size 2.4L."
   ]
  },
  {
   "cell_type": "code",
   "execution_count": 35,
   "metadata": {},
   "outputs": [
    {
     "data": {
      "image/png": "[encoded data removed]",
      "text/plain": [
       "<Figure size 988.875x864 with 10 Axes>"
      ]
     },
     "metadata": {},
     "output_type": "display_data"
    }
   ],
   "source": [
    "sns.set(style=\"ticks\")\n",
    "sns.catplot(x=\"Width (mm)\", y=\"Horsepower\", \n",
    "            hue=\"Engine Size NM\", col=\"Model\", \n",
    "            data=car_data, s=17,\n",
    "            col_wrap=3,height=3,aspect=1.40)  \n",
    "plt.savefig('horse.png')"
   ]
  },
  {
   "cell_type": "code",
   "execution_count": 36,
   "metadata": {},
   "outputs": [
    {
     "data": {
      "application/vnd.plotly.v1+json": {
       "config": {
        "linkText": "Export to plot.ly",
        "plotlyServerURL": "https://plot.ly",
        "showLink": false
       },
       "data": [
        {
         "dimensions": [
          {
           "label": "Safety Rating",
           "values": [
            4,
            4,
            4,
            4,
            5,
            4,
            5,
            5,
            5,
            5
           ]
          },
          {
           "label": "Make",
           "values": [
            "Toyota",
            "Toyota",
            "Nissan",
            "Ford",
            "Kia",
            "Mazda",
            "Honda",
            "Kia",
            "Toyota",
            "Ford"
           ]
          },
          {
           "label": "Model",
           "values": [
            "RAV4 LE",
            "Matrix",
            "Rogue",
            "Edge SEL",
            "Rondo",
            "CX-5",
            "CRV",
            "Soul EX",
            "Prius",
            "Focus"
           ]
          },
          {
           "label": "Rear Legroom (mm)",
           "values": [
            945,
            919,
            897,
            1006,
            940,
            998,
            973,
            993,
            914,
            843
           ]
          },
          {
           "label": "Cargo",
           "values": [
            1087,
            561,
            818,
            912,
            912,
            966,
            1053,
            614,
            971,
            373
           ]
          },
          {
           "label": "HWY FE",
           "values": [
            6.4,
            6.4,
            7,
            6.6,
            6.2,
            6.1,
            6.4,
            7.8,
            4.8,
            5.1
           ]
          },
          {
           "label": "City FE",
           "values": [
            8.7,
            8.2,
            9,
            9.9,
            9.2,
            7.8,
            9,
            9.8,
            4.3,
            7.5
           ]
          },
          {
           "label": "Market Price",
           "values": [
            19998,
            14995,
            16000,
            19995,
            12884,
            18900,
            19995,
            15995,
            18000,
            11999
           ]
          },
          {
           "label": "Year Drove",
           "values": [
            6,
            6,
            6,
            6,
            5,
            5,
            6,
            4,
            7,
            5
           ]
          }
         ],
         "line": {
          "cmax": 19998,
          "cmin": 11999,
          "color": [
           19998,
           14995,
           16000,
           19995,
           12884,
           18900,
           19995,
           15995,
           18000,
           11999
          ],
          "colorbar": {
           "title": {
            "text": "Market Price"
           }
          },
          "colorscale": [
           [
            0,
            "#440154"
           ],
           [
            0.1111111111111111,
            "#482878"
           ],
           [
            0.2222222222222222,
            "#3e4989"
           ],
           [
            0.3333333333333333,
            "#31688e"
           ],
           [
            0.4444444444444444,
            "#26828e"
           ],
           [
            0.5555555555555556,
            "#1f9e89"
           ],
           [
            0.6666666666666666,
            "#35b779"
           ],
           [
            0.7777777777777778,
            "#6ece58"
           ],
           [
            0.8888888888888888,
            "#b5de2b"
           ],
           [
            1,
            "#fde725"
           ]
          ],
          "showscale": true
         },
         "name": " ",
         "type": "parcats",
         "uid": "b7881ef7-7f6b-465f-912a-4406cf1d1e24"
        }
       ],
       "layout": {
        "autosize": true,
        "legend": {
         "tracegroupgap": 0
        },
        "margin": {
         "t": 60
        },
        "template": {
         "data": {
          "bar": [
           {
            "marker": {
             "line": {
              "color": "#E5ECF6",
              "width": 0.5
             }
            },
            "type": "bar"
           }
          ],
          "barpolar": [
           {
            "marker": {
             "line": {
              "color": "#E5ECF6",
              "width": 0.5
             }
            },
            "type": "barpolar"
           }
          ],
          "carpet": [
           {
            "aaxis": {
             "endlinecolor": "#2a3f5f",
             "gridcolor": "white",
             "linecolor": "white",
             "minorgridcolor": "white",
             "startlinecolor": "#2a3f5f"
            },
            "baxis": {
             "endlinecolor": "#2a3f5f",
             "gridcolor": "white",
             "linecolor": "white",
             "minorgridcolor": "white",
             "startlinecolor": "#2a3f5f"
            },
            "type": "carpet"
           }
          ],
          "choropleth": [
           {
            "colorbar": {
             "outlinewidth": 0,
             "ticks": ""
            },
            "type": "choropleth"
           }
          ],
          "contour": [
           {
            "autocolorscale": true,
            "colorbar": {
             "outlinewidth": 0,
             "ticks": ""
            },
            "type": "contour"
           }
          ],
          "contourcarpet": [
           {
            "colorbar": {
             "outlinewidth": 0,
             "ticks": ""
            },
            "type": "contourcarpet"
           }
          ],
          "heatmap": [
           {
            "autocolorscale": true,
            "colorbar": {
             "outlinewidth": 0,
             "ticks": ""
            },
            "type": "heatmap"
           }
          ],
          "heatmapgl": [
           {
            "colorbar": {
             "outlinewidth": 0,
             "ticks": ""
            },
            "type": "heatmapgl"
           }
          ],
          "histogram": [
           {
            "marker": {
             "colorbar": {
              "outlinewidth": 0,
              "ticks": ""
             }
            },
            "type": "histogram"
           }
          ],
          "histogram2d": [
           {
            "autocolorscale": true,
            "colorbar": {
             "outlinewidth": 0,
             "ticks": ""
            },
            "type": "histogram2d"
           }
          ],
          "histogram2dcontour": [
           {
            "autocolorscale": true,
            "colorbar": {
             "outlinewidth": 0,
             "ticks": ""
            },
            "type": "histogram2dcontour"
           }
          ],
          "mesh3d": [
           {
            "colorbar": {
             "outlinewidth": 0,
             "ticks": ""
            },
            "type": "mesh3d"
           }
          ],
          "parcoords": [
           {
            "line": {
             "colorbar": {
              "outlinewidth": 0,
              "ticks": ""
             }
            },
            "type": "parcoords"
           }
          ],
          "scatter": [
           {
            "marker": {
             "colorbar": {
              "outlinewidth": 0,
              "ticks": ""
             }
            },
            "type": "scatter"
           }
          ],
          "scatter3d": [
           {
            "marker": {
             "colorbar": {
              "outlinewidth": 0,
              "ticks": ""
             }
            },
            "type": "scatter3d"
           }
          ],
          "scattercarpet": [
           {
            "marker": {
             "colorbar": {
              "outlinewidth": 0,
              "ticks": ""
             }
            },
            "type": "scattercarpet"
           }
          ],
          "scattergeo": [
           {
            "marker": {
             "colorbar": {
              "outlinewidth": 0,
              "ticks": ""
             }
            },
            "type": "scattergeo"
           }
          ],
          "scattergl": [
           {
            "marker": {
             "colorbar": {
              "outlinewidth": 0,
              "ticks": ""
             }
            },
            "type": "scattergl"
           }
          ],
          "scattermapbox": [
           {
            "marker": {
             "colorbar": {
              "outlinewidth": 0,
              "ticks": ""
             }
            },
            "type": "scattermapbox"
           }
          ],
          "scatterpolar": [
           {
            "marker": {
             "colorbar": {
              "outlinewidth": 0,
              "ticks": ""
             }
            },
            "type": "scatterpolar"
           }
          ],
          "scatterpolargl": [
           {
            "marker": {
             "colorbar": {
              "outlinewidth": 0,
              "ticks": ""
             }
            },
            "type": "scatterpolargl"
           }
          ],
          "scatterternary": [
           {
            "marker": {
             "colorbar": {
              "outlinewidth": 0,
              "ticks": ""
             }
            },
            "type": "scatterternary"
           }
          ],
          "surface": [
           {
            "colorbar": {
             "outlinewidth": 0,
             "ticks": ""
            },
            "type": "surface"
           }
          ],
          "table": [
           {
            "cells": {
             "fill": {
              "color": "#EBF0F8"
             },
             "line": {
              "color": "white"
             }
            },
            "header": {
             "fill": {
              "color": "#C8D4E3"
             },
             "line": {
              "color": "white"
             }
            },
            "type": "table"
           }
          ]
         },
         "layout": {
          "annotationdefaults": {
           "arrowcolor": "#506784",
           "arrowhead": 0,
           "arrowwidth": 1
          },
          "colorscale": {
           "diverging": [
            [
             0,
             "#8e0152"
            ],
            [
             0.1,
             "#c51b7d"
            ],
            [
             0.2,
             "#de77ae"
            ],
            [
             0.3,
             "#f1b6da"
            ],
            [
             0.4,
             "#fde0ef"
            ],
            [
             0.5,
             "#f7f7f7"
            ],
            [
             0.6,
             "#e6f5d0"
            ],
            [
             0.7,
             "#b8e186"
            ],
            [
             0.8,
             "#7fbc41"
            ],
            [
             0.9,
             "#4d9221"
            ],
            [
             1,
             "#276419"
            ]
           ],
           "sequential": [
            [
             0,
             "#0508b8"
            ],
            [
             0.0893854748603352,
             "#1910d8"
            ],
            [
             0.1787709497206704,
             "#3c19f0"
            ],
            [
             0.2681564245810056,
             "#6b1cfb"
            ],
            [
             0.3575418994413408,
             "#981cfd"
            ],
            [
             0.44692737430167595,
             "#bf1cfd"
            ],
            [
             0.5363128491620112,
             "#dd2bfd"
            ],
            [
             0.6256983240223464,
             "#f246fe"
            ],
            [
             0.7150837988826816,
             "#fc67fd"
            ],
            [
             0.8044692737430168,
             "#fe88fc"
            ],
            [
             0.8938547486033519,
             "#fea5fd"
            ],
            [
             0.9832402234636871,
             "#febefe"
            ],
            [
             1,
             "#fec3fe"
            ]
           ],
           "sequentialminus": [
            [
             0,
             "#0508b8"
            ],
            [
             0.0893854748603352,
             "#1910d8"
            ],
            [
             0.1787709497206704,
             "#3c19f0"
            ],
            [
             0.2681564245810056,
             "#6b1cfb"
            ],
            [
             0.3575418994413408,
             "#981cfd"
            ],
            [
             0.44692737430167595,
             "#bf1cfd"
            ],
            [
             0.5363128491620112,
             "#dd2bfd"
            ],
            [
             0.6256983240223464,
             "#f246fe"
            ],
            [
             0.7150837988826816,
             "#fc67fd"
            ],
            [
             0.8044692737430168,
             "#fe88fc"
            ],
            [
             0.8938547486033519,
             "#fea5fd"
            ],
            [
             0.9832402234636871,
             "#febefe"
            ],
            [
             1,
             "#fec3fe"
            ]
           ]
          },
          "colorway": [
           "#636efa",
           "#EF553B",
           "#00cc96",
           "#ab63fa",
           "#19d3f3",
           "#e763fa",
           "#FECB52",
           "#FFA15A",
           "#FF6692",
           "#B6E880"
          ],
          "font": {
           "color": "#2a3f5f"
          },
          "geo": {
           "bgcolor": "white",
           "lakecolor": "white",
           "landcolor": "#E5ECF6",
           "showlakes": true,
           "showland": true,
           "subunitcolor": "white"
          },
          "hovermode": "closest",
          "mapbox": {
           "style": "light"
          },
          "paper_bgcolor": "white",
          "plot_bgcolor": "#E5ECF6",
          "polar": {
           "angularaxis": {
            "gridcolor": "white",
            "linecolor": "white",
            "ticks": ""
           },
           "bgcolor": "#E5ECF6",
           "radialaxis": {
            "gridcolor": "white",
            "linecolor": "white",
            "ticks": ""
           }
          },
          "scene": {
           "xaxis": {
            "backgroundcolor": "#E5ECF6",
            "gridcolor": "white",
            "gridwidth": 2,
            "linecolor": "white",
            "showbackground": true,
            "ticks": "",
            "zerolinecolor": "white"
           },
           "yaxis": {
            "backgroundcolor": "#E5ECF6",
            "gridcolor": "white",
            "gridwidth": 2,
            "linecolor": "white",
            "showbackground": true,
            "ticks": "",
            "zerolinecolor": "white"
           },
           "zaxis": {
            "backgroundcolor": "#E5ECF6",
            "gridcolor": "white",
            "gridwidth": 2,
            "linecolor": "white",
            "showbackground": true,
            "ticks": "",
            "zerolinecolor": "white"
           }
          },
          "shapedefaults": {
           "fillcolor": "#506784",
           "line": {
            "width": 0
           },
           "opacity": 0.4
          },
          "ternary": {
           "aaxis": {
            "gridcolor": "white",
            "linecolor": "white",
            "ticks": ""
           },
           "baxis": {
            "gridcolor": "white",
            "linecolor": "white",
            "ticks": ""
           },
           "bgcolor": "#E5ECF6",
           "caxis": {
            "gridcolor": "white",
            "linecolor": "white",
            "ticks": ""
           }
          },
          "title": {
           "x": 0.05
          },
          "xaxis": {
           "automargin": true,
           "gridcolor": "white",
           "linecolor": "white",
           "ticks": "",
           "zerolinecolor": "white",
           "zerolinewidth": 2
          },
          "yaxis": {
           "automargin": true,
           "gridcolor": "white",
           "linecolor": "white",
           "ticks": "",
           "zerolinecolor": "white",
           "zerolinewidth": 2
          }
         }
        }
       }
      },
      "image/png": "[encoded data removed]",
      "text/html": [
       "<div id=\"f0e60fde-9c98-437c-87ef-3d9e916d61b6\" style=\"height: 600px; width: 100%;\" class=\"plotly-graph-div\"></div><script type=\"text/javascript\">require([\"plotly\"], function(Plotly) { window.PLOTLYENV=window.PLOTLYENV || {};window.PLOTLYENV.BASE_URL=\"https://plot.ly\";\n",
       "if (document.getElementById(\"f0e60fde-9c98-437c-87ef-3d9e916d61b6\")) {\n",
       "    Plotly.newPlot(\"f0e60fde-9c98-437c-87ef-3d9e916d61b6\", [{\"dimensions\": [{\"label\": \"Safety Rating\", \"values\": [4, 4, 4, 4, 5, 4, 5, 5, 5, 5]}, {\"label\": \"Make\", \"values\": [\"Toyota\", \"Toyota\", \"Nissan\", \"Ford\", \"Kia\", \"Mazda\", \"Honda\", \"Kia\", \"Toyota\", \"Ford\"]}, {\"label\": \"Model\", \"values\": [\"RAV4 LE\", \"Matrix\", \"Rogue\", \"Edge SEL\", \"Rondo\", \"CX-5\", \"CRV\", \"Soul EX\", \"Prius\", \"Focus\"]}, {\"label\": \"Rear Legroom (mm)\", \"values\": [945, 919, 897, 1006, 940, 998, 973, 993, 914, 843]}, {\"label\": \"Cargo\", \"values\": [1087, 561, 818, 912, 912, 966, 1053, 614, 971, 373]}, {\"label\": \"HWY FE\", \"values\": [6.4, 6.4, 7.0, 6.6, 6.2, 6.1, 6.4, 7.8, 4.8, 5.1]}, {\"label\": \"City FE\", \"values\": [8.7, 8.2, 9.0, 9.9, 9.2, 7.8, 9.0, 9.8, 4.3, 7.5]}, {\"label\": \"Market Price\", \"values\": [19998.0, 14995.0, 16000.0, 19995.0, 12884.0, 18900.0, 19995.0, 15995.0, 18000.0, 11999.0]}, {\"label\": \"Year Drove\", \"values\": [6, 6, 6, 6, 5, 5, 6, 4, 7, 5]}], \"line\": {\"cmax\": 19998.0, \"cmin\": 11999.0, \"color\": [19998.0, 14995.0, 16000.0, 19995.0, 12884.0, 18900.0, 19995.0, 15995.0, 18000.0, 11999.0], \"colorbar\": {\"title\": {\"text\": \"Market Price\"}}, \"colorscale\": [[0.0, \"#440154\"], [0.1111111111111111, \"#482878\"], [0.2222222222222222, \"#3e4989\"], [0.3333333333333333, \"#31688e\"], [0.4444444444444444, \"#26828e\"], [0.5555555555555556, \"#1f9e89\"], [0.6666666666666666, \"#35b779\"], [0.7777777777777778, \"#6ece58\"], [0.8888888888888888, \"#b5de2b\"], [1.0, \"#fde725\"]], \"showscale\": true}, \"name\": \" \", \"type\": \"parcats\", \"uid\": \"b7881ef7-7f6b-465f-912a-4406cf1d1e24\"}], {\"height\": 600, \"legend\": {\"tracegroupgap\": 0}, \"margin\": {\"t\": 60}, \"template\": {\"data\": {\"barpolar\": [{\"marker\": {\"line\": {\"color\": \"#E5ECF6\", \"width\": 0.5}}, \"type\": \"barpolar\"}], \"bar\": [{\"marker\": {\"line\": {\"color\": \"#E5ECF6\", \"width\": 0.5}}, \"type\": \"bar\"}], \"carpet\": [{\"aaxis\": {\"endlinecolor\": \"#2a3f5f\", \"gridcolor\": \"white\", \"linecolor\": \"white\", \"minorgridcolor\": \"white\", \"startlinecolor\": \"#2a3f5f\"}, \"baxis\": {\"endlinecolor\": \"#2a3f5f\", \"gridcolor\": \"white\", \"linecolor\": \"white\", \"minorgridcolor\": \"white\", \"startlinecolor\": \"#2a3f5f\"}, \"type\": \"carpet\"}], \"choropleth\": [{\"colorbar\": {\"outlinewidth\": 0, \"ticks\": \"\"}, \"type\": \"choropleth\"}], \"contourcarpet\": [{\"colorbar\": {\"outlinewidth\": 0, \"ticks\": \"\"}, \"type\": \"contourcarpet\"}], \"contour\": [{\"autocolorscale\": true, \"colorbar\": {\"outlinewidth\": 0, \"ticks\": \"\"}, \"type\": \"contour\"}], \"heatmapgl\": [{\"colorbar\": {\"outlinewidth\": 0, \"ticks\": \"\"}, \"type\": \"heatmapgl\"}], \"heatmap\": [{\"autocolorscale\": true, \"colorbar\": {\"outlinewidth\": 0, \"ticks\": \"\"}, \"type\": \"heatmap\"}], \"histogram2dcontour\": [{\"autocolorscale\": true, \"colorbar\": {\"outlinewidth\": 0, \"ticks\": \"\"}, \"type\": \"histogram2dcontour\"}], \"histogram2d\": [{\"autocolorscale\": true, \"colorbar\": {\"outlinewidth\": 0, \"ticks\": \"\"}, \"type\": \"histogram2d\"}], \"histogram\": [{\"marker\": {\"colorbar\": {\"outlinewidth\": 0, \"ticks\": \"\"}}, \"type\": \"histogram\"}], \"mesh3d\": [{\"colorbar\": {\"outlinewidth\": 0, \"ticks\": \"\"}, \"type\": \"mesh3d\"}], \"parcoords\": [{\"line\": {\"colorbar\": {\"outlinewidth\": 0, \"ticks\": \"\"}}, \"type\": \"parcoords\"}], \"scatter3d\": [{\"marker\": {\"colorbar\": {\"outlinewidth\": 0, \"ticks\": \"\"}}, \"type\": \"scatter3d\"}], \"scattercarpet\": [{\"marker\": {\"colorbar\": {\"outlinewidth\": 0, \"ticks\": \"\"}}, \"type\": \"scattercarpet\"}], \"scattergeo\": [{\"marker\": {\"colorbar\": {\"outlinewidth\": 0, \"ticks\": \"\"}}, \"type\": \"scattergeo\"}], \"scattergl\": [{\"marker\": {\"colorbar\": {\"outlinewidth\": 0, \"ticks\": \"\"}}, \"type\": \"scattergl\"}], \"scattermapbox\": [{\"marker\": {\"colorbar\": {\"outlinewidth\": 0, \"ticks\": \"\"}}, \"type\": \"scattermapbox\"}], \"scatterpolargl\": [{\"marker\": {\"colorbar\": {\"outlinewidth\": 0, \"ticks\": \"\"}}, \"type\": \"scatterpolargl\"}], \"scatterpolar\": [{\"marker\": {\"colorbar\": {\"outlinewidth\": 0, \"ticks\": \"\"}}, \"type\": \"scatterpolar\"}], \"scatter\": [{\"marker\": {\"colorbar\": {\"outlinewidth\": 0, \"ticks\": \"\"}}, \"type\": \"scatter\"}], \"scatterternary\": [{\"marker\": {\"colorbar\": {\"outlinewidth\": 0, \"ticks\": \"\"}}, \"type\": \"scatterternary\"}], \"surface\": [{\"colorbar\": {\"outlinewidth\": 0, \"ticks\": \"\"}, \"type\": \"surface\"}], \"table\": [{\"cells\": {\"fill\": {\"color\": \"#EBF0F8\"}, \"line\": {\"color\": \"white\"}}, \"header\": {\"fill\": {\"color\": \"#C8D4E3\"}, \"line\": {\"color\": \"white\"}}, \"type\": \"table\"}]}, \"layout\": {\"annotationdefaults\": {\"arrowcolor\": \"#506784\", \"arrowhead\": 0, \"arrowwidth\": 1}, \"colorscale\": {\"diverging\": [[0, \"#8e0152\"], [0.1, \"#c51b7d\"], [0.2, \"#de77ae\"], [0.3, \"#f1b6da\"], [0.4, \"#fde0ef\"], [0.5, \"#f7f7f7\"], [0.6, \"#e6f5d0\"], [0.7, \"#b8e186\"], [0.8, \"#7fbc41\"], [0.9, \"#4d9221\"], [1, \"#276419\"]], \"sequential\": [[0.0, \"#0508b8\"], [0.0893854748603352, \"#1910d8\"], [0.1787709497206704, \"#3c19f0\"], [0.2681564245810056, \"#6b1cfb\"], [0.3575418994413408, \"#981cfd\"], [0.44692737430167595, \"#bf1cfd\"], [0.5363128491620112, \"#dd2bfd\"], [0.6256983240223464, \"#f246fe\"], [0.7150837988826816, \"#fc67fd\"], [0.8044692737430168, \"#fe88fc\"], [0.8938547486033519, \"#fea5fd\"], [0.9832402234636871, \"#febefe\"], [1.0, \"#fec3fe\"]], \"sequentialminus\": [[0.0, \"#0508b8\"], [0.0893854748603352, \"#1910d8\"], [0.1787709497206704, \"#3c19f0\"], [0.2681564245810056, \"#6b1cfb\"], [0.3575418994413408, \"#981cfd\"], [0.44692737430167595, \"#bf1cfd\"], [0.5363128491620112, \"#dd2bfd\"], [0.6256983240223464, \"#f246fe\"], [0.7150837988826816, \"#fc67fd\"], [0.8044692737430168, \"#fe88fc\"], [0.8938547486033519, \"#fea5fd\"], [0.9832402234636871, \"#febefe\"], [1.0, \"#fec3fe\"]]}, \"colorway\": [\"#636efa\", \"#EF553B\", \"#00cc96\", \"#ab63fa\", \"#19d3f3\", \"#e763fa\", \"#FECB52\", \"#FFA15A\", \"#FF6692\", \"#B6E880\"], \"font\": {\"color\": \"#2a3f5f\"}, \"geo\": {\"bgcolor\": \"white\", \"lakecolor\": \"white\", \"landcolor\": \"#E5ECF6\", \"showlakes\": true, \"showland\": true, \"subunitcolor\": \"white\"}, \"hovermode\": \"closest\", \"mapbox\": {\"style\": \"light\"}, \"paper_bgcolor\": \"white\", \"plot_bgcolor\": \"#E5ECF6\", \"polar\": {\"angularaxis\": {\"gridcolor\": \"white\", \"linecolor\": \"white\", \"ticks\": \"\"}, \"bgcolor\": \"#E5ECF6\", \"radialaxis\": {\"gridcolor\": \"white\", \"linecolor\": \"white\", \"ticks\": \"\"}}, \"scene\": {\"xaxis\": {\"backgroundcolor\": \"#E5ECF6\", \"gridcolor\": \"white\", \"gridwidth\": 2, \"linecolor\": \"white\", \"showbackground\": true, \"ticks\": \"\", \"zerolinecolor\": \"white\"}, \"yaxis\": {\"backgroundcolor\": \"#E5ECF6\", \"gridcolor\": \"white\", \"gridwidth\": 2, \"linecolor\": \"white\", \"showbackground\": true, \"ticks\": \"\", \"zerolinecolor\": \"white\"}, \"zaxis\": {\"backgroundcolor\": \"#E5ECF6\", \"gridcolor\": \"white\", \"gridwidth\": 2, \"linecolor\": \"white\", \"showbackground\": true, \"ticks\": \"\", \"zerolinecolor\": \"white\"}}, \"shapedefaults\": {\"fillcolor\": \"#506784\", \"line\": {\"width\": 0}, \"opacity\": 0.4}, \"ternary\": {\"aaxis\": {\"gridcolor\": \"white\", \"linecolor\": \"white\", \"ticks\": \"\"}, \"baxis\": {\"gridcolor\": \"white\", \"linecolor\": \"white\", \"ticks\": \"\"}, \"bgcolor\": \"#E5ECF6\", \"caxis\": {\"gridcolor\": \"white\", \"linecolor\": \"white\", \"ticks\": \"\"}}, \"title\": {\"x\": 0.05}, \"xaxis\": {\"automargin\": true, \"gridcolor\": \"white\", \"linecolor\": \"white\", \"ticks\": \"\", \"zerolinecolor\": \"white\", \"zerolinewidth\": 2}, \"yaxis\": {\"automargin\": true, \"gridcolor\": \"white\", \"linecolor\": \"white\", \"ticks\": \"\", \"zerolinecolor\": \"white\", \"zerolinewidth\": 2}}}}, {\"showLink\": false, \"linkText\": \"Export to plot.ly\", \"plotlyServerURL\": \"https://plot.ly\"}); \n",
       "}\n",
       "});</script><script type=\"text/javascript\">window.addEventListener(\"resize\", function(){if (document.getElementById(\"f0e60fde-9c98-437c-87ef-3d9e916d61b6\")) {window._Plotly.Plots.resize(document.getElementById(\"f0e60fde-9c98-437c-87ef-3d9e916d61b6\"));};})</script>"
      ],
      "text/vnd.plotly.v1+html": [
       "<div id=\"f0e60fde-9c98-437c-87ef-3d9e916d61b6\" style=\"height: 600px; width: 100%;\" class=\"plotly-graph-div\"></div><script type=\"text/javascript\">require([\"plotly\"], function(Plotly) { window.PLOTLYENV=window.PLOTLYENV || {};window.PLOTLYENV.BASE_URL=\"https://plot.ly\";\n",
       "if (document.getElementById(\"f0e60fde-9c98-437c-87ef-3d9e916d61b6\")) {\n",
       "    Plotly.newPlot(\"f0e60fde-9c98-437c-87ef-3d9e916d61b6\", [{\"dimensions\": [{\"label\": \"Safety Rating\", \"values\": [4, 4, 4, 4, 5, 4, 5, 5, 5, 5]}, {\"label\": \"Make\", \"values\": [\"Toyota\", \"Toyota\", \"Nissan\", \"Ford\", \"Kia\", \"Mazda\", \"Honda\", \"Kia\", \"Toyota\", \"Ford\"]}, {\"label\": \"Model\", \"values\": [\"RAV4 LE\", \"Matrix\", \"Rogue\", \"Edge SEL\", \"Rondo\", \"CX-5\", \"CRV\", \"Soul EX\", \"Prius\", \"Focus\"]}, {\"label\": \"Rear Legroom (mm)\", \"values\": [945, 919, 897, 1006, 940, 998, 973, 993, 914, 843]}, {\"label\": \"Cargo\", \"values\": [1087, 561, 818, 912, 912, 966, 1053, 614, 971, 373]}, {\"label\": \"HWY FE\", \"values\": [6.4, 6.4, 7.0, 6.6, 6.2, 6.1, 6.4, 7.8, 4.8, 5.1]}, {\"label\": \"City FE\", \"values\": [8.7, 8.2, 9.0, 9.9, 9.2, 7.8, 9.0, 9.8, 4.3, 7.5]}, {\"label\": \"Market Price\", \"values\": [19998.0, 14995.0, 16000.0, 19995.0, 12884.0, 18900.0, 19995.0, 15995.0, 18000.0, 11999.0]}, {\"label\": \"Year Drove\", \"values\": [6, 6, 6, 6, 5, 5, 6, 4, 7, 5]}], \"line\": {\"cmax\": 19998.0, \"cmin\": 11999.0, \"color\": [19998.0, 14995.0, 16000.0, 19995.0, 12884.0, 18900.0, 19995.0, 15995.0, 18000.0, 11999.0], \"colorbar\": {\"title\": {\"text\": \"Market Price\"}}, \"colorscale\": [[0.0, \"#440154\"], [0.1111111111111111, \"#482878\"], [0.2222222222222222, \"#3e4989\"], [0.3333333333333333, \"#31688e\"], [0.4444444444444444, \"#26828e\"], [0.5555555555555556, \"#1f9e89\"], [0.6666666666666666, \"#35b779\"], [0.7777777777777778, \"#6ece58\"], [0.8888888888888888, \"#b5de2b\"], [1.0, \"#fde725\"]], \"showscale\": true}, \"name\": \" \", \"type\": \"parcats\", \"uid\": \"b7881ef7-7f6b-465f-912a-4406cf1d1e24\"}], {\"height\": 600, \"legend\": {\"tracegroupgap\": 0}, \"margin\": {\"t\": 60}, \"template\": {\"data\": {\"barpolar\": [{\"marker\": {\"line\": {\"color\": \"#E5ECF6\", \"width\": 0.5}}, \"type\": \"barpolar\"}], \"bar\": [{\"marker\": {\"line\": {\"color\": \"#E5ECF6\", \"width\": 0.5}}, \"type\": \"bar\"}], \"carpet\": [{\"aaxis\": {\"endlinecolor\": \"#2a3f5f\", \"gridcolor\": \"white\", \"linecolor\": \"white\", \"minorgridcolor\": \"white\", \"startlinecolor\": \"#2a3f5f\"}, \"baxis\": {\"endlinecolor\": \"#2a3f5f\", \"gridcolor\": \"white\", \"linecolor\": \"white\", \"minorgridcolor\": \"white\", \"startlinecolor\": \"#2a3f5f\"}, \"type\": \"carpet\"}], \"choropleth\": [{\"colorbar\": {\"outlinewidth\": 0, \"ticks\": \"\"}, \"type\": \"choropleth\"}], \"contourcarpet\": [{\"colorbar\": {\"outlinewidth\": 0, \"ticks\": \"\"}, \"type\": \"contourcarpet\"}], \"contour\": [{\"autocolorscale\": true, \"colorbar\": {\"outlinewidth\": 0, \"ticks\": \"\"}, \"type\": \"contour\"}], \"heatmapgl\": [{\"colorbar\": {\"outlinewidth\": 0, \"ticks\": \"\"}, \"type\": \"heatmapgl\"}], \"heatmap\": [{\"autocolorscale\": true, \"colorbar\": {\"outlinewidth\": 0, \"ticks\": \"\"}, \"type\": \"heatmap\"}], \"histogram2dcontour\": [{\"autocolorscale\": true, \"colorbar\": {\"outlinewidth\": 0, \"ticks\": \"\"}, \"type\": \"histogram2dcontour\"}], \"histogram2d\": [{\"autocolorscale\": true, \"colorbar\": {\"outlinewidth\": 0, \"ticks\": \"\"}, \"type\": \"histogram2d\"}], \"histogram\": [{\"marker\": {\"colorbar\": {\"outlinewidth\": 0, \"ticks\": \"\"}}, \"type\": \"histogram\"}], \"mesh3d\": [{\"colorbar\": {\"outlinewidth\": 0, \"ticks\": \"\"}, \"type\": \"mesh3d\"}], \"parcoords\": [{\"line\": {\"colorbar\": {\"outlinewidth\": 0, \"ticks\": \"\"}}, \"type\": \"parcoords\"}], \"scatter3d\": [{\"marker\": {\"colorbar\": {\"outlinewidth\": 0, \"ticks\": \"\"}}, \"type\": \"scatter3d\"}], \"scattercarpet\": [{\"marker\": {\"colorbar\": {\"outlinewidth\": 0, \"ticks\": \"\"}}, \"type\": \"scattercarpet\"}], \"scattergeo\": [{\"marker\": {\"colorbar\": {\"outlinewidth\": 0, \"ticks\": \"\"}}, \"type\": \"scattergeo\"}], \"scattergl\": [{\"marker\": {\"colorbar\": {\"outlinewidth\": 0, \"ticks\": \"\"}}, \"type\": \"scattergl\"}], \"scattermapbox\": [{\"marker\": {\"colorbar\": {\"outlinewidth\": 0, \"ticks\": \"\"}}, \"type\": \"scattermapbox\"}], \"scatterpolargl\": [{\"marker\": {\"colorbar\": {\"outlinewidth\": 0, \"ticks\": \"\"}}, \"type\": \"scatterpolargl\"}], \"scatterpolar\": [{\"marker\": {\"colorbar\": {\"outlinewidth\": 0, \"ticks\": \"\"}}, \"type\": \"scatterpolar\"}], \"scatter\": [{\"marker\": {\"colorbar\": {\"outlinewidth\": 0, \"ticks\": \"\"}}, \"type\": \"scatter\"}], \"scatterternary\": [{\"marker\": {\"colorbar\": {\"outlinewidth\": 0, \"ticks\": \"\"}}, \"type\": \"scatterternary\"}], \"surface\": [{\"colorbar\": {\"outlinewidth\": 0, \"ticks\": \"\"}, \"type\": \"surface\"}], \"table\": [{\"cells\": {\"fill\": {\"color\": \"#EBF0F8\"}, \"line\": {\"color\": \"white\"}}, \"header\": {\"fill\": {\"color\": \"#C8D4E3\"}, \"line\": {\"color\": \"white\"}}, \"type\": \"table\"}]}, \"layout\": {\"annotationdefaults\": {\"arrowcolor\": \"#506784\", \"arrowhead\": 0, \"arrowwidth\": 1}, \"colorscale\": {\"diverging\": [[0, \"#8e0152\"], [0.1, \"#c51b7d\"], [0.2, \"#de77ae\"], [0.3, \"#f1b6da\"], [0.4, \"#fde0ef\"], [0.5, \"#f7f7f7\"], [0.6, \"#e6f5d0\"], [0.7, \"#b8e186\"], [0.8, \"#7fbc41\"], [0.9, \"#4d9221\"], [1, \"#276419\"]], \"sequential\": [[0.0, \"#0508b8\"], [0.0893854748603352, \"#1910d8\"], [0.1787709497206704, \"#3c19f0\"], [0.2681564245810056, \"#6b1cfb\"], [0.3575418994413408, \"#981cfd\"], [0.44692737430167595, \"#bf1cfd\"], [0.5363128491620112, \"#dd2bfd\"], [0.6256983240223464, \"#f246fe\"], [0.7150837988826816, \"#fc67fd\"], [0.8044692737430168, \"#fe88fc\"], [0.8938547486033519, \"#fea5fd\"], [0.9832402234636871, \"#febefe\"], [1.0, \"#fec3fe\"]], \"sequentialminus\": [[0.0, \"#0508b8\"], [0.0893854748603352, \"#1910d8\"], [0.1787709497206704, \"#3c19f0\"], [0.2681564245810056, \"#6b1cfb\"], [0.3575418994413408, \"#981cfd\"], [0.44692737430167595, \"#bf1cfd\"], [0.5363128491620112, \"#dd2bfd\"], [0.6256983240223464, \"#f246fe\"], [0.7150837988826816, \"#fc67fd\"], [0.8044692737430168, \"#fe88fc\"], [0.8938547486033519, \"#fea5fd\"], [0.9832402234636871, \"#febefe\"], [1.0, \"#fec3fe\"]]}, \"colorway\": [\"#636efa\", \"#EF553B\", \"#00cc96\", \"#ab63fa\", \"#19d3f3\", \"#e763fa\", \"#FECB52\", \"#FFA15A\", \"#FF6692\", \"#B6E880\"], \"font\": {\"color\": \"#2a3f5f\"}, \"geo\": {\"bgcolor\": \"white\", \"lakecolor\": \"white\", \"landcolor\": \"#E5ECF6\", \"showlakes\": true, \"showland\": true, \"subunitcolor\": \"white\"}, \"hovermode\": \"closest\", \"mapbox\": {\"style\": \"light\"}, \"paper_bgcolor\": \"white\", \"plot_bgcolor\": \"#E5ECF6\", \"polar\": {\"angularaxis\": {\"gridcolor\": \"white\", \"linecolor\": \"white\", \"ticks\": \"\"}, \"bgcolor\": \"#E5ECF6\", \"radialaxis\": {\"gridcolor\": \"white\", \"linecolor\": \"white\", \"ticks\": \"\"}}, \"scene\": {\"xaxis\": {\"backgroundcolor\": \"#E5ECF6\", \"gridcolor\": \"white\", \"gridwidth\": 2, \"linecolor\": \"white\", \"showbackground\": true, \"ticks\": \"\", \"zerolinecolor\": \"white\"}, \"yaxis\": {\"backgroundcolor\": \"#E5ECF6\", \"gridcolor\": \"white\", \"gridwidth\": 2, \"linecolor\": \"white\", \"showbackground\": true, \"ticks\": \"\", \"zerolinecolor\": \"white\"}, \"zaxis\": {\"backgroundcolor\": \"#E5ECF6\", \"gridcolor\": \"white\", \"gridwidth\": 2, \"linecolor\": \"white\", \"showbackground\": true, \"ticks\": \"\", \"zerolinecolor\": \"white\"}}, \"shapedefaults\": {\"fillcolor\": \"#506784\", \"line\": {\"width\": 0}, \"opacity\": 0.4}, \"ternary\": {\"aaxis\": {\"gridcolor\": \"white\", \"linecolor\": \"white\", \"ticks\": \"\"}, \"baxis\": {\"gridcolor\": \"white\", \"linecolor\": \"white\", \"ticks\": \"\"}, \"bgcolor\": \"#E5ECF6\", \"caxis\": {\"gridcolor\": \"white\", \"linecolor\": \"white\", \"ticks\": \"\"}}, \"title\": {\"x\": 0.05}, \"xaxis\": {\"automargin\": true, \"gridcolor\": \"white\", \"linecolor\": \"white\", \"ticks\": \"\", \"zerolinecolor\": \"white\", \"zerolinewidth\": 2}, \"yaxis\": {\"automargin\": true, \"gridcolor\": \"white\", \"linecolor\": \"white\", \"ticks\": \"\", \"zerolinecolor\": \"white\", \"zerolinewidth\": 2}}}}, {\"showLink\": false, \"linkText\": \"Export to plot.ly\", \"plotlyServerURL\": \"https://plot.ly\"}); \n",
       "}\n",
       "});</script><script type=\"text/javascript\">window.addEventListener(\"resize\", function(){if (document.getElementById(\"f0e60fde-9c98-437c-87ef-3d9e916d61b6\")) {window._Plotly.Plots.resize(document.getElementById(\"f0e60fde-9c98-437c-87ef-3d9e916d61b6\"));};})</script>"
      ]
     },
     "metadata": {},
     "output_type": "display_data"
    }
   ],
   "source": [
    "car_data['HWY FE'] = car_data['Highway Fuel Efficiency (L/100km)']\n",
    "car_data['City FE'] = car_data['City Fuel Efficiency (L/100km)']\n",
    "car_data['Cargo'] = car_data['Cargo Volume (seats up)']\n",
    "\n",
    "car_cus = car_data[[ 'Safety Rating', 'Make', 'Model', 'Rear Legroom (mm)', 'Cargo', 'HWY FE', 'City FE', 'Market Price', 'Year Drove']]\n",
    "\n",
    "px.parallel_categories(car_cus, color=\"Market Price\", color_continuous_scale=px.colors.sequential.Viridis)"
   ]
  },
  {
   "cell_type": "markdown",
   "metadata": {},
   "source": [
    "### Ultimate Recommendation:\n",
    "\n",
    "##### I recall after interpreting Safety Rating, Make, Model, Rear Legroom (mm), Cargo, HWY FE, City FE, Market Price, Year Drove these constraints we all can acknowledge that CRV is the ultimate champions in the race. We can also admit CX-5 manufactured in the 2014 year if it meets all safety requirements that Sue's demand."
   ]
  },
  {
   "cell_type": "code",
   "execution_count": 37,
   "metadata": {},
   "outputs": [
    {
     "data": {
      "text/html": [
       "<div>\n",
       "<style scoped>\n",
       "    .dataframe tbody tr th:only-of-type {\n",
       "        vertical-align: middle;\n",
       "    }\n",
       "\n",
       "    .dataframe tbody tr th {\n",
       "        vertical-align: top;\n",
       "    }\n",
       "\n",
       "    .dataframe thead th {\n",
       "        text-align: right;\n",
       "    }\n",
       "</style>\n",
       "<table border=\"1\" class=\"dataframe\">\n",
       "  <thead>\n",
       "    <tr style=\"text-align: right;\">\n",
       "      <th></th>\n",
       "      <th>Make</th>\n",
       "      <th>Model</th>\n",
       "      <th>Year</th>\n",
       "      <th>Safety Rating</th>\n",
       "      <th>Price</th>\n",
       "      <th>Kms</th>\n",
       "      <th>Highway Fuel Efficiency (L/100km)</th>\n",
       "      <th>City Fuel Efficiency (L/100km)</th>\n",
       "      <th>Tire Size</th>\n",
       "      <th>Length (mm)</th>\n",
       "      <th>...</th>\n",
       "      <th>Horsepower</th>\n",
       "      <th>Engine Size</th>\n",
       "      <th>Market Price</th>\n",
       "      <th>Engine Size NM</th>\n",
       "      <th>Year Drove</th>\n",
       "      <th>Drove/Annual</th>\n",
       "      <th>Tire diameter</th>\n",
       "      <th>HWY FE</th>\n",
       "      <th>City FE</th>\n",
       "      <th>Cargo</th>\n",
       "    </tr>\n",
       "  </thead>\n",
       "  <tbody>\n",
       "    <tr>\n",
       "      <th>5</th>\n",
       "      <td>Mazda</td>\n",
       "      <td>CX-5</td>\n",
       "      <td>2014</td>\n",
       "      <td>4</td>\n",
       "      <td>$18,900.00</td>\n",
       "      <td>64546</td>\n",
       "      <td>6.1</td>\n",
       "      <td>7.8</td>\n",
       "      <td>P225/65R17</td>\n",
       "      <td>4554</td>\n",
       "      <td>...</td>\n",
       "      <td>155.0</td>\n",
       "      <td>2.0L</td>\n",
       "      <td>18900.0</td>\n",
       "      <td>2.0</td>\n",
       "      <td>5</td>\n",
       "      <td>12909.20</td>\n",
       "      <td>17</td>\n",
       "      <td>6.1</td>\n",
       "      <td>7.8</td>\n",
       "      <td>966</td>\n",
       "    </tr>\n",
       "    <tr>\n",
       "      <th>6</th>\n",
       "      <td>Honda</td>\n",
       "      <td>CRV</td>\n",
       "      <td>2013</td>\n",
       "      <td>5</td>\n",
       "      <td>$19,995.00</td>\n",
       "      <td>44665</td>\n",
       "      <td>6.4</td>\n",
       "      <td>9.0</td>\n",
       "      <td>225/65R17</td>\n",
       "      <td>4529</td>\n",
       "      <td>...</td>\n",
       "      <td>185.0</td>\n",
       "      <td>2.4L</td>\n",
       "      <td>19995.0</td>\n",
       "      <td>2.4</td>\n",
       "      <td>6</td>\n",
       "      <td>7444.17</td>\n",
       "      <td>17</td>\n",
       "      <td>6.4</td>\n",
       "      <td>9.0</td>\n",
       "      <td>1053</td>\n",
       "    </tr>\n",
       "  </tbody>\n",
       "</table>\n",
       "<p>2 rows × 26 columns</p>\n",
       "</div>"
      ],
      "text/plain": [
       "    Make Model  Year  Safety Rating        Price    Kms  \\\n",
       "5  Mazda  CX-5  2014              4  $18,900.00   64546   \n",
       "6  Honda   CRV  2013              5  $19,995.00   44665   \n",
       "\n",
       "   Highway Fuel Efficiency (L/100km)  City Fuel Efficiency (L/100km)  \\\n",
       "5                                6.1                             7.8   \n",
       "6                                6.4                             9.0   \n",
       "\n",
       "    Tire Size  Length (mm)  ...    Horsepower  Engine Size  Market Price  \\\n",
       "5  P225/65R17         4554  ...         155.0         2.0L       18900.0   \n",
       "6   225/65R17         4529  ...         185.0         2.4L       19995.0   \n",
       "\n",
       "   Engine Size NM  Year Drove  Drove/Annual  Tire diameter HWY FE  City FE  \\\n",
       "5             2.0           5      12909.20             17    6.1      7.8   \n",
       "6             2.4           6       7444.17             17    6.4      9.0   \n",
       "\n",
       "   Cargo  \n",
       "5    966  \n",
       "6   1053  \n",
       "\n",
       "[2 rows x 26 columns]"
      ]
     },
     "execution_count": 37,
     "metadata": {},
     "output_type": "execute_result"
    }
   ],
   "source": [
    "car_2data = (car_data.loc[car_data['Model'].isin(['CRV','CX-5'])])\n",
    "car_2data.head()"
   ]
  },
  {
   "cell_type": "code",
   "execution_count": 38,
   "metadata": {},
   "outputs": [
    {
     "data": {
      "image/png": "[encoded data removed]",
      "text/plain": [
       "<Figure size 432x504 with 1 Axes>"
      ]
     },
     "metadata": {},
     "output_type": "display_data"
    }
   ],
   "source": [
    "sns.set(style=\"ticks\")\n",
    "fig, ax = plt.subplots(figsize=(6, 7))\n",
    "sns.despine(fig, left=False, bottom=False)\n",
    "sns.barplot(x=\"Year\", y=\"Market Price\",hue=\"Model\", data=car_2data, ax=ax)\n",
    "plt.savefig('final.png')"
   ]
  },
  {
   "cell_type": "markdown",
   "metadata": {},
   "source": [
    "## My Recommendation would be what you think!\n",
    "\n",
    "1. CRV while considering all aspect.\n",
    "2. CX-5"
   ]
  },
  {
   "cell_type": "code",
   "execution_count": null,
   "metadata": {},
   "outputs": [],
   "source": []
  },
  {
   "cell_type": "code",
   "execution_count": null,
   "metadata": {},
   "outputs": [],
   "source": []
  },
  {
   "cell_type": "code",
   "execution_count": null,
   "metadata": {},
   "outputs": [],
   "source": []
  },
  {
   "cell_type": "code",
   "execution_count": null,
   "metadata": {},
   "outputs": [],
   "source": []
  },
  {
   "cell_type": "code",
   "execution_count": null,
   "metadata": {},
   "outputs": [],
   "source": []
  },
  {
   "cell_type": "code",
   "execution_count": null,
   "metadata": {},
   "outputs": [],
   "source": []
  },
  {
   "cell_type": "code",
   "execution_count": null,
   "metadata": {},
   "outputs": [],
   "source": []
  },
  {
   "cell_type": "code",
   "execution_count": null,
   "metadata": {},
   "outputs": [],
   "source": []
  },
  {
   "cell_type": "code",
   "execution_count": null,
   "metadata": {},
   "outputs": [],
   "source": []
  },
  {
   "cell_type": "code",
   "execution_count": null,
   "metadata": {},
   "outputs": [],
   "source": []
  },
  {
   "cell_type": "code",
   "execution_count": null,
   "metadata": {},
   "outputs": [],
   "source": []
  },
  {
   "cell_type": "code",
   "execution_count": null,
   "metadata": {},
   "outputs": [],
   "source": []
  },
  {
   "cell_type": "code",
   "execution_count": null,
   "metadata": {},
   "outputs": [],
   "source": []
  }
 ],
 "metadata": {
  "kernelspec": {
   "display_name": "Python 3",
   "language": "python",
   "name": "python3"
  },
  "language_info": {
   "codemirror_mode": {
    "name": "ipython",
    "version": 3
   },
   "file_extension": ".py",
   "mimetype": "text/x-python",
   "name": "python",
   "nbconvert_exporter": "python",
   "pygments_lexer": "ipython3",
   "version": "3.7.1"
  }
 },
 "nbformat": 4,
 "nbformat_minor": 2
}
